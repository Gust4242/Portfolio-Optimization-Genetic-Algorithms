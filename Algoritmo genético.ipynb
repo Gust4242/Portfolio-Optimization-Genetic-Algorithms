{
 "cells": [
  {
   "cell_type": "markdown",
   "metadata": {},
   "source": [
    "## Otimização de portfólio de investimentos com algoritmo genético"
   ]
  },
  {
   "cell_type": "markdown",
   "metadata": {},
   "source": [
    "### 1. Importação das bibliotecas"
   ]
  },
  {
   "cell_type": "code",
   "execution_count": 1,
   "metadata": {},
   "outputs": [],
   "source": [
    "import numpy as np\n",
    "import pandas as pd\n",
    "import matplotlib.pyplot as plt\n",
    "import seaborn as sns\n",
    "import plotly.graph_objects as go\n",
    "import plotly.express as px\n",
    "import yfinance as yf\n",
    "import random\n",
    "\n",
    "from deap import algorithms, base, creator, tools"
   ]
  },
  {
   "cell_type": "code",
   "execution_count": 2,
   "metadata": {},
   "outputs": [
    {
     "name": "stdout",
     "output_type": "stream",
     "text": [
      "[*********************100%***********************]  11 of 11 completed\n"
     ]
    },
    {
     "data": {
      "text/html": [
       "<div>\n",
       "<style scoped>\n",
       "    .dataframe tbody tr th:only-of-type {\n",
       "        vertical-align: middle;\n",
       "    }\n",
       "\n",
       "    .dataframe tbody tr th {\n",
       "        vertical-align: top;\n",
       "    }\n",
       "\n",
       "    .dataframe thead th {\n",
       "        text-align: right;\n",
       "    }\n",
       "</style>\n",
       "<table border=\"1\" class=\"dataframe\">\n",
       "  <thead>\n",
       "    <tr style=\"text-align: right;\">\n",
       "      <th></th>\n",
       "      <th>ABEV3.SA</th>\n",
       "      <th>ATOM3.SA</th>\n",
       "      <th>ELET6.SA</th>\n",
       "      <th>ITUB4.SA</th>\n",
       "      <th>PETR4.SA</th>\n",
       "      <th>RDOR3.SA</th>\n",
       "      <th>RENT3.SA</th>\n",
       "      <th>TOTS3.SA</th>\n",
       "      <th>VALE3.SA</th>\n",
       "      <th>VIVT3.SA</th>\n",
       "      <th>WEGE3.SA</th>\n",
       "    </tr>\n",
       "    <tr>\n",
       "      <th>Date</th>\n",
       "      <th></th>\n",
       "      <th></th>\n",
       "      <th></th>\n",
       "      <th></th>\n",
       "      <th></th>\n",
       "      <th></th>\n",
       "      <th></th>\n",
       "      <th></th>\n",
       "      <th></th>\n",
       "      <th></th>\n",
       "      <th></th>\n",
       "    </tr>\n",
       "  </thead>\n",
       "  <tbody>\n",
       "    <tr>\n",
       "      <th>2021-01-04</th>\n",
       "      <td>14.085718</td>\n",
       "      <td>2.405986</td>\n",
       "      <td>30.883390</td>\n",
       "      <td>27.947104</td>\n",
       "      <td>11.470779</td>\n",
       "      <td>63.675343</td>\n",
       "      <td>64.907990</td>\n",
       "      <td>27.178005</td>\n",
       "      <td>69.413040</td>\n",
       "      <td>38.887127</td>\n",
       "      <td>35.927429</td>\n",
       "    </tr>\n",
       "    <tr>\n",
       "      <th>2021-01-05</th>\n",
       "      <td>14.385996</td>\n",
       "      <td>2.472819</td>\n",
       "      <td>29.996130</td>\n",
       "      <td>27.766212</td>\n",
       "      <td>11.919135</td>\n",
       "      <td>62.931980</td>\n",
       "      <td>64.524956</td>\n",
       "      <td>27.050726</td>\n",
       "      <td>70.581818</td>\n",
       "      <td>38.556999</td>\n",
       "      <td>38.132572</td>\n",
       "    </tr>\n",
       "    <tr>\n",
       "      <th>2021-01-06</th>\n",
       "      <td>14.677172</td>\n",
       "      <td>2.502522</td>\n",
       "      <td>29.825502</td>\n",
       "      <td>28.580210</td>\n",
       "      <td>11.942942</td>\n",
       "      <td>60.321903</td>\n",
       "      <td>60.809345</td>\n",
       "      <td>25.768192</td>\n",
       "      <td>72.896599</td>\n",
       "      <td>38.125301</td>\n",
       "      <td>39.143665</td>\n",
       "    </tr>\n",
       "    <tr>\n",
       "      <th>2021-01-07</th>\n",
       "      <td>14.604378</td>\n",
       "      <td>2.443115</td>\n",
       "      <td>29.262436</td>\n",
       "      <td>29.692669</td>\n",
       "      <td>12.300040</td>\n",
       "      <td>58.920185</td>\n",
       "      <td>63.691807</td>\n",
       "      <td>25.699661</td>\n",
       "      <td>77.655174</td>\n",
       "      <td>37.160320</td>\n",
       "      <td>40.761410</td>\n",
       "    </tr>\n",
       "    <tr>\n",
       "      <th>2021-01-08</th>\n",
       "      <td>15.041146</td>\n",
       "      <td>2.517374</td>\n",
       "      <td>30.115568</td>\n",
       "      <td>29.683622</td>\n",
       "      <td>12.347654</td>\n",
       "      <td>60.157566</td>\n",
       "      <td>67.991570</td>\n",
       "      <td>27.412971</td>\n",
       "      <td>77.412315</td>\n",
       "      <td>38.133770</td>\n",
       "      <td>43.226540</td>\n",
       "    </tr>\n",
       "    <tr>\n",
       "      <th>...</th>\n",
       "      <td>...</td>\n",
       "      <td>...</td>\n",
       "      <td>...</td>\n",
       "      <td>...</td>\n",
       "      <td>...</td>\n",
       "      <td>...</td>\n",
       "      <td>...</td>\n",
       "      <td>...</td>\n",
       "      <td>...</td>\n",
       "      <td>...</td>\n",
       "      <td>...</td>\n",
       "    </tr>\n",
       "    <tr>\n",
       "      <th>2022-12-23</th>\n",
       "      <td>14.620000</td>\n",
       "      <td>2.189443</td>\n",
       "      <td>42.900005</td>\n",
       "      <td>24.558758</td>\n",
       "      <td>20.983215</td>\n",
       "      <td>29.200001</td>\n",
       "      <td>55.279930</td>\n",
       "      <td>28.134451</td>\n",
       "      <td>84.465065</td>\n",
       "      <td>36.565910</td>\n",
       "      <td>38.168091</td>\n",
       "    </tr>\n",
       "    <tr>\n",
       "      <th>2022-12-26</th>\n",
       "      <td>14.520000</td>\n",
       "      <td>2.180470</td>\n",
       "      <td>42.582867</td>\n",
       "      <td>24.071287</td>\n",
       "      <td>20.832857</td>\n",
       "      <td>29.840000</td>\n",
       "      <td>53.768250</td>\n",
       "      <td>26.844334</td>\n",
       "      <td>85.238083</td>\n",
       "      <td>35.710239</td>\n",
       "      <td>37.860764</td>\n",
       "    </tr>\n",
       "    <tr>\n",
       "      <th>2022-12-27</th>\n",
       "      <td>14.520000</td>\n",
       "      <td>2.126631</td>\n",
       "      <td>41.621845</td>\n",
       "      <td>23.934797</td>\n",
       "      <td>20.974861</td>\n",
       "      <td>30.059999</td>\n",
       "      <td>51.762566</td>\n",
       "      <td>26.556540</td>\n",
       "      <td>87.273392</td>\n",
       "      <td>35.567627</td>\n",
       "      <td>37.682316</td>\n",
       "    </tr>\n",
       "    <tr>\n",
       "      <th>2022-12-28</th>\n",
       "      <td>14.550000</td>\n",
       "      <td>2.207389</td>\n",
       "      <td>42.131187</td>\n",
       "      <td>24.422266</td>\n",
       "      <td>20.715912</td>\n",
       "      <td>30.230000</td>\n",
       "      <td>53.639812</td>\n",
       "      <td>27.687872</td>\n",
       "      <td>87.077682</td>\n",
       "      <td>36.004971</td>\n",
       "      <td>38.366367</td>\n",
       "    </tr>\n",
       "    <tr>\n",
       "      <th>2022-12-29</th>\n",
       "      <td>14.520000</td>\n",
       "      <td>2.225335</td>\n",
       "      <td>41.544964</td>\n",
       "      <td>24.373520</td>\n",
       "      <td>20.465317</td>\n",
       "      <td>29.580000</td>\n",
       "      <td>52.562866</td>\n",
       "      <td>27.410002</td>\n",
       "      <td>86.970047</td>\n",
       "      <td>36.461330</td>\n",
       "      <td>38.178005</td>\n",
       "    </tr>\n",
       "  </tbody>\n",
       "</table>\n",
       "<p>497 rows × 11 columns</p>\n",
       "</div>"
      ],
      "text/plain": [
       "             ABEV3.SA  ATOM3.SA   ELET6.SA   ITUB4.SA   PETR4.SA   RDOR3.SA  \\\n",
       "Date                                                                          \n",
       "2021-01-04  14.085718  2.405986  30.883390  27.947104  11.470779  63.675343   \n",
       "2021-01-05  14.385996  2.472819  29.996130  27.766212  11.919135  62.931980   \n",
       "2021-01-06  14.677172  2.502522  29.825502  28.580210  11.942942  60.321903   \n",
       "2021-01-07  14.604378  2.443115  29.262436  29.692669  12.300040  58.920185   \n",
       "2021-01-08  15.041146  2.517374  30.115568  29.683622  12.347654  60.157566   \n",
       "...               ...       ...        ...        ...        ...        ...   \n",
       "2022-12-23  14.620000  2.189443  42.900005  24.558758  20.983215  29.200001   \n",
       "2022-12-26  14.520000  2.180470  42.582867  24.071287  20.832857  29.840000   \n",
       "2022-12-27  14.520000  2.126631  41.621845  23.934797  20.974861  30.059999   \n",
       "2022-12-28  14.550000  2.207389  42.131187  24.422266  20.715912  30.230000   \n",
       "2022-12-29  14.520000  2.225335  41.544964  24.373520  20.465317  29.580000   \n",
       "\n",
       "             RENT3.SA   TOTS3.SA   VALE3.SA   VIVT3.SA   WEGE3.SA  \n",
       "Date                                                               \n",
       "2021-01-04  64.907990  27.178005  69.413040  38.887127  35.927429  \n",
       "2021-01-05  64.524956  27.050726  70.581818  38.556999  38.132572  \n",
       "2021-01-06  60.809345  25.768192  72.896599  38.125301  39.143665  \n",
       "2021-01-07  63.691807  25.699661  77.655174  37.160320  40.761410  \n",
       "2021-01-08  67.991570  27.412971  77.412315  38.133770  43.226540  \n",
       "...               ...        ...        ...        ...        ...  \n",
       "2022-12-23  55.279930  28.134451  84.465065  36.565910  38.168091  \n",
       "2022-12-26  53.768250  26.844334  85.238083  35.710239  37.860764  \n",
       "2022-12-27  51.762566  26.556540  87.273392  35.567627  37.682316  \n",
       "2022-12-28  53.639812  27.687872  87.077682  36.004971  38.366367  \n",
       "2022-12-29  52.562866  27.410002  86.970047  36.461330  38.178005  \n",
       "\n",
       "[497 rows x 11 columns]"
      ]
     },
     "execution_count": 2,
     "metadata": {},
     "output_type": "execute_result"
    }
   ],
   "source": [
    "#stocks = ['ITUB4.SA', 'RENT3.SA', 'PETR4.SA', 'WEGE3.SA', 'RADL3.SA', 'MGLU3.SA', 'ELET6.SA']\n",
    "stocks = ['WEGE3.SA', 'VIVT3.SA', 'RENT3.SA', 'ABEV3.SA', 'ITUB4.SA', 'VALE3.SA', 'ATOM3.SA', 'PETR4.SA', 'RDOR3.SA', 'TOTS3.SA', 'ELET6.SA']\n",
    "data = yf.download(stocks, start='2021-01-01', end='2022-12-31')['Adj Close']\n",
    "\n",
    "data"
   ]
  },
  {
   "cell_type": "code",
   "execution_count": 3,
   "metadata": {},
   "outputs": [
    {
     "data": {
      "image/png": "[encoded data removed]",
      "text/plain": [
       "<Figure size 640x480 with 1 Axes>"
      ]
     },
     "metadata": {},
     "output_type": "display_data"
    }
   ],
   "source": [
    "# Simples visualização das séries\n",
    "sns.lineplot(data = data)\n",
    "plt.xticks(rotation = 45)\n",
    "plt.xlabel('Data')\n",
    "plt.ylabel('Valor')\n",
    "plt.title('Valores diários de fechamento')\n",
    "plt.show()"
   ]
  },
  {
   "cell_type": "code",
   "execution_count": 4,
   "metadata": {},
   "outputs": [
    {
     "data": {
      "text/html": [
       "<div>\n",
       "<style scoped>\n",
       "    .dataframe tbody tr th:only-of-type {\n",
       "        vertical-align: middle;\n",
       "    }\n",
       "\n",
       "    .dataframe tbody tr th {\n",
       "        vertical-align: top;\n",
       "    }\n",
       "\n",
       "    .dataframe thead th {\n",
       "        text-align: right;\n",
       "    }\n",
       "</style>\n",
       "<table border=\"1\" class=\"dataframe\">\n",
       "  <thead>\n",
       "    <tr style=\"text-align: right;\">\n",
       "      <th></th>\n",
       "      <th>ABEV3.SA</th>\n",
       "      <th>ATOM3.SA</th>\n",
       "      <th>ELET6.SA</th>\n",
       "      <th>ITUB4.SA</th>\n",
       "      <th>PETR4.SA</th>\n",
       "      <th>RDOR3.SA</th>\n",
       "      <th>RENT3.SA</th>\n",
       "      <th>TOTS3.SA</th>\n",
       "      <th>VALE3.SA</th>\n",
       "      <th>VIVT3.SA</th>\n",
       "      <th>WEGE3.SA</th>\n",
       "    </tr>\n",
       "    <tr>\n",
       "      <th>Date</th>\n",
       "      <th></th>\n",
       "      <th></th>\n",
       "      <th></th>\n",
       "      <th></th>\n",
       "      <th></th>\n",
       "      <th></th>\n",
       "      <th></th>\n",
       "      <th></th>\n",
       "      <th></th>\n",
       "      <th></th>\n",
       "      <th></th>\n",
       "    </tr>\n",
       "  </thead>\n",
       "  <tbody>\n",
       "    <tr>\n",
       "      <th>2021-01-05</th>\n",
       "      <td>0.021318</td>\n",
       "      <td>0.027778</td>\n",
       "      <td>-0.028729</td>\n",
       "      <td>-0.006473</td>\n",
       "      <td>0.039087</td>\n",
       "      <td>-0.011674</td>\n",
       "      <td>-0.005901</td>\n",
       "      <td>-0.004683</td>\n",
       "      <td>0.016838</td>\n",
       "      <td>-0.008489</td>\n",
       "      <td>0.061378</td>\n",
       "    </tr>\n",
       "    <tr>\n",
       "      <th>2021-01-06</th>\n",
       "      <td>0.020240</td>\n",
       "      <td>0.012012</td>\n",
       "      <td>-0.005688</td>\n",
       "      <td>0.029316</td>\n",
       "      <td>0.001997</td>\n",
       "      <td>-0.041475</td>\n",
       "      <td>-0.057584</td>\n",
       "      <td>-0.047412</td>\n",
       "      <td>0.032796</td>\n",
       "      <td>-0.011196</td>\n",
       "      <td>0.026515</td>\n",
       "    </tr>\n",
       "    <tr>\n",
       "      <th>2021-01-07</th>\n",
       "      <td>-0.004960</td>\n",
       "      <td>-0.023739</td>\n",
       "      <td>-0.018879</td>\n",
       "      <td>0.038924</td>\n",
       "      <td>0.029900</td>\n",
       "      <td>-0.023237</td>\n",
       "      <td>0.047402</td>\n",
       "      <td>-0.002660</td>\n",
       "      <td>0.065278</td>\n",
       "      <td>-0.025311</td>\n",
       "      <td>0.041328</td>\n",
       "    </tr>\n",
       "    <tr>\n",
       "      <th>2021-01-08</th>\n",
       "      <td>0.029907</td>\n",
       "      <td>0.030395</td>\n",
       "      <td>0.029155</td>\n",
       "      <td>-0.000305</td>\n",
       "      <td>0.003871</td>\n",
       "      <td>0.021001</td>\n",
       "      <td>0.067509</td>\n",
       "      <td>0.066667</td>\n",
       "      <td>-0.003127</td>\n",
       "      <td>0.026196</td>\n",
       "      <td>0.060477</td>\n",
       "    </tr>\n",
       "    <tr>\n",
       "      <th>2021-01-11</th>\n",
       "      <td>-0.026013</td>\n",
       "      <td>0.026549</td>\n",
       "      <td>-0.021813</td>\n",
       "      <td>-0.022547</td>\n",
       "      <td>-0.008355</td>\n",
       "      <td>-0.015909</td>\n",
       "      <td>-0.019437</td>\n",
       "      <td>-0.001786</td>\n",
       "      <td>-0.000196</td>\n",
       "      <td>-0.011321</td>\n",
       "      <td>-0.030630</td>\n",
       "    </tr>\n",
       "    <tr>\n",
       "      <th>...</th>\n",
       "      <td>...</td>\n",
       "      <td>...</td>\n",
       "      <td>...</td>\n",
       "      <td>...</td>\n",
       "      <td>...</td>\n",
       "      <td>...</td>\n",
       "      <td>...</td>\n",
       "      <td>...</td>\n",
       "      <td>...</td>\n",
       "      <td>...</td>\n",
       "      <td>...</td>\n",
       "    </tr>\n",
       "    <tr>\n",
       "      <th>2022-12-23</th>\n",
       "      <td>0.013870</td>\n",
       "      <td>0.074890</td>\n",
       "      <td>0.015931</td>\n",
       "      <td>0.015726</td>\n",
       "      <td>0.047103</td>\n",
       "      <td>0.035094</td>\n",
       "      <td>0.054665</td>\n",
       "      <td>0.014674</td>\n",
       "      <td>0.006647</td>\n",
       "      <td>0.012105</td>\n",
       "      <td>-0.011299</td>\n",
       "    </tr>\n",
       "    <tr>\n",
       "      <th>2022-12-26</th>\n",
       "      <td>-0.006840</td>\n",
       "      <td>-0.004098</td>\n",
       "      <td>-0.007393</td>\n",
       "      <td>-0.019849</td>\n",
       "      <td>-0.007166</td>\n",
       "      <td>0.021918</td>\n",
       "      <td>-0.027346</td>\n",
       "      <td>-0.045855</td>\n",
       "      <td>0.009152</td>\n",
       "      <td>-0.023401</td>\n",
       "      <td>-0.008052</td>\n",
       "    </tr>\n",
       "    <tr>\n",
       "      <th>2022-12-27</th>\n",
       "      <td>0.000000</td>\n",
       "      <td>-0.024691</td>\n",
       "      <td>-0.022568</td>\n",
       "      <td>-0.005670</td>\n",
       "      <td>0.006816</td>\n",
       "      <td>0.007373</td>\n",
       "      <td>-0.037302</td>\n",
       "      <td>-0.010721</td>\n",
       "      <td>0.023878</td>\n",
       "      <td>-0.003994</td>\n",
       "      <td>-0.004713</td>\n",
       "    </tr>\n",
       "    <tr>\n",
       "      <th>2022-12-28</th>\n",
       "      <td>0.002066</td>\n",
       "      <td>0.037975</td>\n",
       "      <td>0.012237</td>\n",
       "      <td>0.020367</td>\n",
       "      <td>-0.012346</td>\n",
       "      <td>0.005655</td>\n",
       "      <td>0.036266</td>\n",
       "      <td>0.042601</td>\n",
       "      <td>-0.002242</td>\n",
       "      <td>0.012296</td>\n",
       "      <td>0.018153</td>\n",
       "    </tr>\n",
       "    <tr>\n",
       "      <th>2022-12-29</th>\n",
       "      <td>-0.002062</td>\n",
       "      <td>0.008130</td>\n",
       "      <td>-0.013914</td>\n",
       "      <td>-0.001996</td>\n",
       "      <td>-0.012097</td>\n",
       "      <td>-0.021502</td>\n",
       "      <td>-0.020077</td>\n",
       "      <td>-0.010036</td>\n",
       "      <td>-0.001236</td>\n",
       "      <td>0.012675</td>\n",
       "      <td>-0.004910</td>\n",
       "    </tr>\n",
       "  </tbody>\n",
       "</table>\n",
       "<p>496 rows × 11 columns</p>\n",
       "</div>"
      ],
      "text/plain": [
       "            ABEV3.SA  ATOM3.SA  ELET6.SA  ITUB4.SA  PETR4.SA  RDOR3.SA  \\\n",
       "Date                                                                     \n",
       "2021-01-05  0.021318  0.027778 -0.028729 -0.006473  0.039087 -0.011674   \n",
       "2021-01-06  0.020240  0.012012 -0.005688  0.029316  0.001997 -0.041475   \n",
       "2021-01-07 -0.004960 -0.023739 -0.018879  0.038924  0.029900 -0.023237   \n",
       "2021-01-08  0.029907  0.030395  0.029155 -0.000305  0.003871  0.021001   \n",
       "2021-01-11 -0.026013  0.026549 -0.021813 -0.022547 -0.008355 -0.015909   \n",
       "...              ...       ...       ...       ...       ...       ...   \n",
       "2022-12-23  0.013870  0.074890  0.015931  0.015726  0.047103  0.035094   \n",
       "2022-12-26 -0.006840 -0.004098 -0.007393 -0.019849 -0.007166  0.021918   \n",
       "2022-12-27  0.000000 -0.024691 -0.022568 -0.005670  0.006816  0.007373   \n",
       "2022-12-28  0.002066  0.037975  0.012237  0.020367 -0.012346  0.005655   \n",
       "2022-12-29 -0.002062  0.008130 -0.013914 -0.001996 -0.012097 -0.021502   \n",
       "\n",
       "            RENT3.SA  TOTS3.SA  VALE3.SA  VIVT3.SA  WEGE3.SA  \n",
       "Date                                                          \n",
       "2021-01-05 -0.005901 -0.004683  0.016838 -0.008489  0.061378  \n",
       "2021-01-06 -0.057584 -0.047412  0.032796 -0.011196  0.026515  \n",
       "2021-01-07  0.047402 -0.002660  0.065278 -0.025311  0.041328  \n",
       "2021-01-08  0.067509  0.066667 -0.003127  0.026196  0.060477  \n",
       "2021-01-11 -0.019437 -0.001786 -0.000196 -0.011321 -0.030630  \n",
       "...              ...       ...       ...       ...       ...  \n",
       "2022-12-23  0.054665  0.014674  0.006647  0.012105 -0.011299  \n",
       "2022-12-26 -0.027346 -0.045855  0.009152 -0.023401 -0.008052  \n",
       "2022-12-27 -0.037302 -0.010721  0.023878 -0.003994 -0.004713  \n",
       "2022-12-28  0.036266  0.042601 -0.002242  0.012296  0.018153  \n",
       "2022-12-29 -0.020077 -0.010036 -0.001236  0.012675 -0.004910  \n",
       "\n",
       "[496 rows x 11 columns]"
      ]
     },
     "execution_count": 4,
     "metadata": {},
     "output_type": "execute_result"
    }
   ],
   "source": [
    "returns = data.pct_change().dropna()\n",
    "returns"
   ]
  },
  {
   "cell_type": "markdown",
   "metadata": {},
   "source": [
    "### 2. Criação de um portfólio de risco mínimo"
   ]
  },
  {
   "cell_type": "markdown",
   "metadata": {},
   "source": [
    "Quando estamos trabalhando com Algoritmos Genéticos, geralmente temos dois objetivos a alcançar: minimizar o risco ou maximizar o retorno"
   ]
  },
  {
   "cell_type": "code",
   "execution_count": 5,
   "metadata": {},
   "outputs": [],
   "source": [
    "n_stocks = len(returns.columns)"
   ]
  },
  {
   "cell_type": "code",
   "execution_count": null,
   "metadata": {},
   "outputs": [],
   "source": [
    "creator.create('FitnessMin', base.Fitness, weights=(-1.0,))  # O objetivo é minimizar a solução\n",
    "creator.create(\"Individual\", list, fitness=creator.FitnessMin)  # Lista com os primeiros indivíduos "
   ]
  },
  {
   "cell_type": "code",
   "execution_count": 49,
   "metadata": {},
   "outputs": [],
   "source": [
    "def generateES(icls, size, imin, imax):\n",
    "    ind = icls(random.uniform(imin, imax) for _ in range(size))\n",
    "    return ind\n",
    "\n",
    "def calculate_returns(individual, dataset=returns):\n",
    "    x = dataset.mul(individual).sum(axis=1)  # Soma dos retornos da carteira dia a dia\n",
    "    x = x + 1\n",
    "    x = x.cumprod() - 1\n",
    "    return x\n",
    "\n",
    "def calculate_risk(individual):\n",
    "    \"\"\"\n",
    "    Calcula o risco da carteira baseado no desvio padrão.\n",
    "    Função que será minimizada pelo algoritmo genético.\n",
    "    \"\"\"\n",
    "    cvm = np.std(calculate_returns(individual))\n",
    "    return cvm\n",
    "\n",
    "def evaluate_portfolio(individual):\n",
    "    risk = calculate_risk(individual)\n",
    "\n",
    "    penalty = abs((np.sum(individual) - 1)**2)  # Penalidade para a soma dos pesos ser 1\n",
    "    alocation_penalty = 0\n",
    "    if max(individual) > 0.33:\n",
    "        alocation_penalty = 100\n",
    "    return (float(risk + 100*penalty + alocation_penalty),)"
   ]
  },
  {
   "cell_type": "code",
   "execution_count": 50,
   "metadata": {},
   "outputs": [],
   "source": [
    "lower_bound = 0\n",
    "upper_bound = 1"
   ]
  },
  {
   "cell_type": "code",
   "execution_count": 64,
   "metadata": {},
   "outputs": [],
   "source": [
    "toolbox = base.Toolbox()\n",
    "toolbox.register('attr_bool', random.randint, 0, 1)\n",
    "toolbox.register(\"individual\", generateES, creator.Individual, n_stocks, 0, 1) # Cria os indivíduos iniciais com n_stocks cromossomos\n",
    "toolbox.register(\"population\", tools.initRepeat, list, toolbox.individual)  # Coleção dos indívduos iniciais - serão armazenados em uma lista\n",
    "toolbox.register(\"evaluate\", evaluate_portfolio)\n",
    "toolbox.register(\"mate\", tools.cxTwoPoint)\n",
    "toolbox.register(\"mutate\", tools.mutPolynomialBounded, eta=0.5, low=lower_bound, up=upper_bound, indpb=0.1)\n",
    "toolbox.register(\"select\", tools.selTournament, tournsize=5)"
   ]
  },
  {
   "cell_type": "code",
   "execution_count": 65,
   "metadata": {},
   "outputs": [],
   "source": [
    "population_size = 100\n",
    "num_generations = 50\n",
    "cx_prob = 0.5\n",
    "mut_prob = 0.2"
   ]
  },
  {
   "cell_type": "code",
   "execution_count": 66,
   "metadata": {},
   "outputs": [
    {
     "name": "stdout",
     "output_type": "stream",
     "text": [
      "gen\tnevals\n",
      "0  \t100   \n",
      "1  \t63    \n",
      "2  \t49    \n",
      "3  \t53    \n",
      "4  \t54    \n",
      "5  \t63    \n",
      "6  \t64    \n",
      "7  \t38    \n",
      "8  \t65    \n",
      "9  \t64    \n",
      "10 \t51    \n",
      "11 \t57    \n",
      "12 \t65    \n",
      "13 \t72    \n",
      "14 \t60    \n",
      "15 \t68    \n",
      "16 \t55    \n",
      "17 \t69    \n",
      "18 \t62    \n",
      "19 \t58    \n",
      "20 \t66    \n",
      "21 \t59    \n",
      "22 \t72    \n",
      "23 \t57    \n",
      "24 \t61    \n",
      "25 \t57    \n",
      "26 \t46    \n",
      "27 \t63    \n",
      "28 \t51    \n",
      "29 \t69    \n",
      "30 \t46    \n",
      "31 \t61    \n",
      "32 \t62    \n",
      "33 \t48    \n",
      "34 \t59    \n",
      "35 \t63    \n",
      "36 \t57    \n",
      "37 \t53    \n",
      "38 \t65    \n",
      "39 \t60    \n",
      "40 \t55    \n",
      "41 \t60    \n",
      "42 \t72    \n",
      "43 \t61    \n",
      "44 \t57    \n",
      "45 \t62    \n",
      "46 \t66    \n",
      "47 \t59    \n",
      "48 \t62    \n",
      "49 \t55    \n",
      "50 \t73    \n"
     ]
    },
    {
     "data": {
      "text/plain": [
       "([[0.04619161964162599,\n",
       "   0.09771502662010467,\n",
       "   0.009509254012912138,\n",
       "   0.006846492077992594,\n",
       "   0.06601841600986735,\n",
       "   0.07137776368274784,\n",
       "   0.07500309420158868,\n",
       "   0.0987897956630821,\n",
       "   0.1418235495035075,\n",
       "   0.1022466457863439,\n",
       "   0.21530364136106905],\n",
       "  [0.04619161964162599,\n",
       "   0.09771502662010467,\n",
       "   0.02455250462529268,\n",
       "   0.006846492077992594,\n",
       "   0.12004246465571122,\n",
       "   0.07137776368274784,\n",
       "   0.07500309420158868,\n",
       "   0.0987897956630821,\n",
       "   0.1418235495035075,\n",
       "   0.1022466457863439,\n",
       "   0.21530364136106905],\n",
       "  [0.04619161964162599,\n",
       "   0.09771502662010467,\n",
       "   0.02455250462529268,\n",
       "   0.6276132821171477,\n",
       "   0.12004246465571122,\n",
       "   0.07137776368274784,\n",
       "   0.059738468855721205,\n",
       "   0.0987897956630821,\n",
       "   0.1418235495035075,\n",
       "   0.37459101758338076,\n",
       "   0.21530364136106905],\n",
       "  [0.04619161964162599,\n",
       "   0.09771502662010467,\n",
       "   0.02455250462529268,\n",
       "   0.006846492077992594,\n",
       "   0.12004246465571122,\n",
       "   0.029791602465767064,\n",
       "   0.07500309420158868,\n",
       "   0.19594444104663644,\n",
       "   0.6083414808012438,\n",
       "   0.1022466457863439,\n",
       "   0.21530364136106905],\n",
       "  [0.04619161964162599,\n",
       "   0.09771502662010467,\n",
       "   0.02455250462529268,\n",
       "   0.006846492077992594,\n",
       "   0.12004246465571122,\n",
       "   0.07137776368274784,\n",
       "   0.07500309420158868,\n",
       "   0.0987897956630821,\n",
       "   0.1418235495035075,\n",
       "   0.1022466457863439,\n",
       "   0.21530364136106905],\n",
       "  [0.04619161964162599,\n",
       "   0.09771502662010467,\n",
       "   0.02455250462529268,\n",
       "   0.006846492077992594,\n",
       "   0.12004246465571122,\n",
       "   0.07137776368274784,\n",
       "   0.07500309420158868,\n",
       "   0.0987897956630821,\n",
       "   0.1418235495035075,\n",
       "   0.1022466457863439,\n",
       "   0.21530364136106905],\n",
       "  [0.04619161964162599,\n",
       "   0.09771502662010467,\n",
       "   0.02455250462529268,\n",
       "   0.006846492077992594,\n",
       "   0.12004246465571122,\n",
       "   0.07137776368274784,\n",
       "   0.07500309420158868,\n",
       "   0.0987897956630821,\n",
       "   0.1418235495035075,\n",
       "   0.1022466457863439,\n",
       "   0.21530364136106905],\n",
       "  [0.04619161964162599,\n",
       "   0.09771502662010467,\n",
       "   0.02455250462529268,\n",
       "   0.006846492077992594,\n",
       "   0.12004246465571122,\n",
       "   0.07137776368274784,\n",
       "   0.07500309420158868,\n",
       "   0.6898587377599672,\n",
       "   0.1418235495035075,\n",
       "   0.1022466457863439,\n",
       "   0.18839914233226185],\n",
       "  [0.04619161964162599,\n",
       "   0.09771502662010467,\n",
       "   0.02455250462529268,\n",
       "   0.006846492077992594,\n",
       "   0.12004246465571122,\n",
       "   0.07137776368274784,\n",
       "   0.07500309420158868,\n",
       "   0.0987897956630821,\n",
       "   0.1418235495035075,\n",
       "   0.1022466457863439,\n",
       "   0.21530364136106905],\n",
       "  [0.04619161964162599,\n",
       "   0.09771502662010467,\n",
       "   0.02455250462529268,\n",
       "   0.006846492077992594,\n",
       "   0.12004246465571122,\n",
       "   0.07137776368274784,\n",
       "   0.07500309420158868,\n",
       "   0.0987897956630821,\n",
       "   0.1418235495035075,\n",
       "   0.1022466457863439,\n",
       "   0.21530364136106905],\n",
       "  [0.04619161964162599,\n",
       "   0.09771502662010467,\n",
       "   0.02455250462529268,\n",
       "   0.006846492077992594,\n",
       "   0.12004246465571122,\n",
       "   0.07137776368274784,\n",
       "   0.07500309420158868,\n",
       "   0.0987897956630821,\n",
       "   0.1418235495035075,\n",
       "   0.1022466457863439,\n",
       "   0.21530364136106905],\n",
       "  [0.04619161964162599,\n",
       "   0.09771502662010467,\n",
       "   0.02455250462529268,\n",
       "   0.006846492077992594,\n",
       "   0.12004246465571122,\n",
       "   0.07137776368274784,\n",
       "   0.07500309420158868,\n",
       "   0.0987897956630821,\n",
       "   0.1418235495035075,\n",
       "   0.1022466457863439,\n",
       "   0.21530364136106905],\n",
       "  [0.04619161964162599,\n",
       "   0.09771502662010467,\n",
       "   0.02455250462529268,\n",
       "   0.006846492077992594,\n",
       "   0.12004246465571122,\n",
       "   0.07137776368274784,\n",
       "   0.07500309420158868,\n",
       "   0.0987897956630821,\n",
       "   0.1418235495035075,\n",
       "   0.1022466457863439,\n",
       "   0.21530364136106905],\n",
       "  [0.04619161964162599,\n",
       "   0.09771502662010467,\n",
       "   0.02455250462529268,\n",
       "   0.006846492077992594,\n",
       "   0.12004246465571122,\n",
       "   0.07137776368274784,\n",
       "   0.07500309420158868,\n",
       "   0.0987897956630821,\n",
       "   0.1418235495035075,\n",
       "   0.1022466457863439,\n",
       "   0.21530364136106905],\n",
       "  [0.04619161964162599,\n",
       "   0.09771502662010467,\n",
       "   0.02455250462529268,\n",
       "   0.006846492077992594,\n",
       "   0.12004246465571122,\n",
       "   0.07137776368274784,\n",
       "   0.07500309420158868,\n",
       "   0.0987897956630821,\n",
       "   0.1418235495035075,\n",
       "   0.1022466457863439,\n",
       "   0.21530364136106905],\n",
       "  [0.04619161964162599,\n",
       "   0.09771502662010467,\n",
       "   0.02455250462529268,\n",
       "   0.006846492077992594,\n",
       "   0.12004246465571122,\n",
       "   0.07137776368274784,\n",
       "   0.07500309420158868,\n",
       "   0.0987897956630821,\n",
       "   0.1418235495035075,\n",
       "   0.1022466457863439,\n",
       "   0.21530364136106905],\n",
       "  [0.04619161964162599,\n",
       "   0.09771502662010467,\n",
       "   0.02455250462529268,\n",
       "   0.006846492077992594,\n",
       "   0.12004246465571122,\n",
       "   0.07137776368274784,\n",
       "   0.07500309420158868,\n",
       "   0.0987897956630821,\n",
       "   0.06031129519989553,\n",
       "   0.1022466457863439,\n",
       "   0.7625863983005096],\n",
       "  [0.04619161964162599,\n",
       "   0.09771502662010467,\n",
       "   0.02455250462529268,\n",
       "   0.006846492077992594,\n",
       "   0.12004246465571122,\n",
       "   0.07137776368274784,\n",
       "   0.07500309420158868,\n",
       "   0.0987897956630821,\n",
       "   0.1418235495035075,\n",
       "   0.1022466457863439,\n",
       "   0.21530364136106905],\n",
       "  [0.04619161964162599,\n",
       "   0.09771502662010467,\n",
       "   0.02455250462529268,\n",
       "   0.006846492077992594,\n",
       "   0.12004246465571122,\n",
       "   0.07137776368274784,\n",
       "   0.07500309420158868,\n",
       "   0.0987897956630821,\n",
       "   0.1418235495035075,\n",
       "   0.1022466457863439,\n",
       "   0.21530364136106905],\n",
       "  [0.04619161964162599,\n",
       "   0.09771502662010467,\n",
       "   0.02455250462529268,\n",
       "   0.006846492077992594,\n",
       "   0.12004246465571122,\n",
       "   0.07137776368274784,\n",
       "   0.07500309420158868,\n",
       "   0.0987897956630821,\n",
       "   0.1418235495035075,\n",
       "   0.1022466457863439,\n",
       "   0.21530364136106905],\n",
       "  [0.04619161964162599,\n",
       "   0.09771502662010467,\n",
       "   0.020810194659792502,\n",
       "   0.006846492077992594,\n",
       "   0.12004246465571122,\n",
       "   0.07137776368274784,\n",
       "   0.07500309420158868,\n",
       "   0.0987897956630821,\n",
       "   0.1418235495035075,\n",
       "   0.1022466457863439,\n",
       "   0.21530364136106905],\n",
       "  [0.04619161964162599,\n",
       "   0.09771502662010467,\n",
       "   0.02455250462529268,\n",
       "   0.006846492077992594,\n",
       "   0.12004246465571122,\n",
       "   0.07137776368274784,\n",
       "   0.07500309420158868,\n",
       "   0.0987897956630821,\n",
       "   0.1418235495035075,\n",
       "   0.1022466457863439,\n",
       "   0.21530364136106905],\n",
       "  [0.04619161964162599,\n",
       "   0.09771502662010467,\n",
       "   0.02455250462529268,\n",
       "   0.006846492077992594,\n",
       "   0.12004246465571122,\n",
       "   0.07137776368274784,\n",
       "   0.07500309420158868,\n",
       "   0.0987897956630821,\n",
       "   0.1418235495035075,\n",
       "   0.1022466457863439,\n",
       "   0.21530364136106905],\n",
       "  [0.04619161964162599,\n",
       "   0.09771502662010467,\n",
       "   0.02455250462529268,\n",
       "   0.006846492077992594,\n",
       "   0.12004246465571122,\n",
       "   0.07137776368274784,\n",
       "   0.07500309420158868,\n",
       "   0.0987897956630821,\n",
       "   0.1418235495035075,\n",
       "   0.1022466457863439,\n",
       "   0.21530364136106905],\n",
       "  [0.04619161964162599,\n",
       "   0.09771502662010467,\n",
       "   0.02455250462529268,\n",
       "   0.006846492077992594,\n",
       "   0.12004246465571122,\n",
       "   0.07137776368274784,\n",
       "   0.07500309420158868,\n",
       "   0.0987897956630821,\n",
       "   0.1418235495035075,\n",
       "   0.1022466457863439,\n",
       "   0.21530364136106905],\n",
       "  [0.04619161964162599,\n",
       "   0.09771502662010467,\n",
       "   0.02455250462529268,\n",
       "   0.006846492077992594,\n",
       "   0.12004246465571122,\n",
       "   0.07137776368274784,\n",
       "   0.07500309420158868,\n",
       "   0.0987897956630821,\n",
       "   0.1418235495035075,\n",
       "   0.1022466457863439,\n",
       "   0.21530364136106905],\n",
       "  [0.04619161964162599,\n",
       "   0.09771502662010467,\n",
       "   0.02455250462529268,\n",
       "   0.006846492077992594,\n",
       "   0.12004246465571122,\n",
       "   0.07137776368274784,\n",
       "   0.07500309420158868,\n",
       "   0.0987897956630821,\n",
       "   0.1418235495035075,\n",
       "   0.1022466457863439,\n",
       "   0.21530364136106905],\n",
       "  [0.04619161964162599,\n",
       "   0.09771502662010467,\n",
       "   0.02455250462529268,\n",
       "   0.006846492077992594,\n",
       "   0.12004246465571122,\n",
       "   0.07137776368274784,\n",
       "   0.07500309420158868,\n",
       "   0.0987897956630821,\n",
       "   0.1418235495035075,\n",
       "   0.1022466457863439,\n",
       "   0.21530364136106905],\n",
       "  [0.04619161964162599,\n",
       "   0.09771502662010467,\n",
       "   0.02455250462529268,\n",
       "   0.006846492077992594,\n",
       "   0.12004246465571122,\n",
       "   0.07137776368274784,\n",
       "   0.07500309420158868,\n",
       "   0.0987897956630821,\n",
       "   0.1418235495035075,\n",
       "   0.1022466457863439,\n",
       "   0.21530364136106905],\n",
       "  [0.04619161964162599,\n",
       "   0.09771502662010467,\n",
       "   0.02455250462529268,\n",
       "   0.006846492077992594,\n",
       "   0.12004246465571122,\n",
       "   0.07137776368274784,\n",
       "   0.07500309420158868,\n",
       "   0.0987897956630821,\n",
       "   0.1418235495035075,\n",
       "   0.1022466457863439,\n",
       "   0.21530364136106905],\n",
       "  [0.04619161964162599,\n",
       "   0.09771502662010467,\n",
       "   0.02455250462529268,\n",
       "   0.006846492077992594,\n",
       "   0.12004246465571122,\n",
       "   0.07137776368274784,\n",
       "   0.07500309420158868,\n",
       "   0.0987897956630821,\n",
       "   0.1418235495035075,\n",
       "   0.1022466457863439,\n",
       "   0.21530364136106905],\n",
       "  [0.04619161964162599,\n",
       "   0.09771502662010467,\n",
       "   0.02455250462529268,\n",
       "   0.006846492077992594,\n",
       "   0.12004246465571122,\n",
       "   0.07137776368274784,\n",
       "   0.07500309420158868,\n",
       "   0.0987897956630821,\n",
       "   0.1418235495035075,\n",
       "   0.1022466457863439,\n",
       "   0.21530364136106905],\n",
       "  [0.04619161964162599,\n",
       "   0.09771502662010467,\n",
       "   0.02455250462529268,\n",
       "   0.006846492077992594,\n",
       "   0.12004246465571122,\n",
       "   0.07137776368274784,\n",
       "   0.07500309420158868,\n",
       "   0.0987897956630821,\n",
       "   0.1418235495035075,\n",
       "   0.1022466457863439,\n",
       "   0.21530364136106905],\n",
       "  [0.04619161964162599,\n",
       "   0.09771502662010467,\n",
       "   0.02455250462529268,\n",
       "   0.006846492077992594,\n",
       "   0.12004246465571122,\n",
       "   0.07137776368274784,\n",
       "   0.07500309420158868,\n",
       "   0.0987897956630821,\n",
       "   0.1418235495035075,\n",
       "   0.1022466457863439,\n",
       "   0.21530364136106905],\n",
       "  [0.04619161964162599,\n",
       "   0.09771502662010467,\n",
       "   0.02455250462529268,\n",
       "   0.006846492077992594,\n",
       "   0.12004246465571122,\n",
       "   0.07137776368274784,\n",
       "   0.07500309420158868,\n",
       "   0.0987897956630821,\n",
       "   0.1418235495035075,\n",
       "   0.1022466457863439,\n",
       "   0.21530364136106905],\n",
       "  [0.04619161964162599,\n",
       "   0.09771502662010467,\n",
       "   0.02455250462529268,\n",
       "   0.006846492077992594,\n",
       "   0.12004246465571122,\n",
       "   0.07137776368274784,\n",
       "   0.07500309420158868,\n",
       "   0.0987897956630821,\n",
       "   0.1418235495035075,\n",
       "   0.1022466457863439,\n",
       "   0.21530364136106905],\n",
       "  [0.04619161964162599,\n",
       "   0.09771502662010467,\n",
       "   0.02455250462529268,\n",
       "   0.006846492077992594,\n",
       "   0.12004246465571122,\n",
       "   0.07137776368274784,\n",
       "   0.07500309420158868,\n",
       "   0.0987897956630821,\n",
       "   0.1418235495035075,\n",
       "   0.1022466457863439,\n",
       "   0.21530364136106905],\n",
       "  [0.04619161964162599,\n",
       "   0.09771502662010467,\n",
       "   0.02455250462529268,\n",
       "   0.006846492077992594,\n",
       "   0.12004246465571122,\n",
       "   0.07137776368274784,\n",
       "   0.07500309420158868,\n",
       "   0.0987897956630821,\n",
       "   0.1418235495035075,\n",
       "   0.1022466457863439,\n",
       "   0.21530364136106905],\n",
       "  [0.04619161964162599,\n",
       "   0.09771502662010467,\n",
       "   0.02455250462529268,\n",
       "   0.006846492077992594,\n",
       "   0.12004246465571122,\n",
       "   0.07137776368274784,\n",
       "   0.07500309420158868,\n",
       "   0.0987897956630821,\n",
       "   0.1418235495035075,\n",
       "   0.1022466457863439,\n",
       "   0.21530364136106905],\n",
       "  [0.04619161964162599,\n",
       "   0.09771502662010467,\n",
       "   0.02455250462529268,\n",
       "   0.006846492077992594,\n",
       "   0.12004246465571122,\n",
       "   0.07137776368274784,\n",
       "   0.07500309420158868,\n",
       "   0.0987897956630821,\n",
       "   0.1418235495035075,\n",
       "   0.1022466457863439,\n",
       "   0.21530364136106905],\n",
       "  [0.04619161964162599,\n",
       "   0.09771502662010467,\n",
       "   0.02455250462529268,\n",
       "   0.006846492077992594,\n",
       "   0.5697714814710927,\n",
       "   0.07137776368274784,\n",
       "   0.07500309420158868,\n",
       "   0.0987897956630821,\n",
       "   0.1418235495035075,\n",
       "   0.1022466457863439,\n",
       "   0.21530364136106905],\n",
       "  [0.04619161964162599,\n",
       "   0.09771502662010467,\n",
       "   0.02455250462529268,\n",
       "   0.006846492077992594,\n",
       "   0.12004246465571122,\n",
       "   0.07137776368274784,\n",
       "   0.07500309420158868,\n",
       "   0.0987897956630821,\n",
       "   0.1418235495035075,\n",
       "   0.1022466457863439,\n",
       "   0.21530364136106905],\n",
       "  [0.04619161964162599,\n",
       "   0.09771502662010467,\n",
       "   0.02455250462529268,\n",
       "   0.006846492077992594,\n",
       "   0.12004246465571122,\n",
       "   0.07137776368274784,\n",
       "   0.07500309420158868,\n",
       "   0.0987897956630821,\n",
       "   0.1418235495035075,\n",
       "   0.1022466457863439,\n",
       "   0.21530364136106905],\n",
       "  [0.04619161964162599,\n",
       "   0.09771502662010467,\n",
       "   0.02455250462529268,\n",
       "   0.006846492077992594,\n",
       "   0.12004246465571122,\n",
       "   0.07137776368274784,\n",
       "   0.07500309420158868,\n",
       "   0.0987897956630821,\n",
       "   0.13660025119610564,\n",
       "   0.1022466457863439,\n",
       "   0.21530364136106905],\n",
       "  [0.04619161964162599,\n",
       "   0.09771502662010467,\n",
       "   0.02455250462529268,\n",
       "   0.006846492077992594,\n",
       "   0.12004246465571122,\n",
       "   0.07137776368274784,\n",
       "   0.07500309420158868,\n",
       "   0.0987897956630821,\n",
       "   0.1418235495035075,\n",
       "   0.1022466457863439,\n",
       "   0.21530364136106905],\n",
       "  [0.04619161964162599,\n",
       "   0.09771502662010467,\n",
       "   0.02455250462529268,\n",
       "   0.006846492077992594,\n",
       "   0.12004246465571122,\n",
       "   0.07137776368274784,\n",
       "   0.07500309420158868,\n",
       "   0.0987897956630821,\n",
       "   0.1418235495035075,\n",
       "   0.1022466457863439,\n",
       "   0.21530364136106905],\n",
       "  [0.04619161964162599,\n",
       "   0.09771502662010467,\n",
       "   0.02455250462529268,\n",
       "   0.006846492077992594,\n",
       "   0.12004246465571122,\n",
       "   0.07137776368274784,\n",
       "   0.07500309420158868,\n",
       "   0.0987897956630821,\n",
       "   0.1418235495035075,\n",
       "   0.1022466457863439,\n",
       "   0.21530364136106905],\n",
       "  [0.04619161964162599,\n",
       "   0.09771502662010467,\n",
       "   0.02455250462529268,\n",
       "   0.006846492077992594,\n",
       "   0.12004246465571122,\n",
       "   0.07137776368274784,\n",
       "   0.07500309420158868,\n",
       "   0.0987897956630821,\n",
       "   0.1418235495035075,\n",
       "   0.1022466457863439,\n",
       "   0.21530364136106905],\n",
       "  [0.04619161964162599,\n",
       "   0.09771502662010467,\n",
       "   0.02455250462529268,\n",
       "   0.006846492077992594,\n",
       "   0.12004246465571122,\n",
       "   0.07137776368274784,\n",
       "   0.07500309420158868,\n",
       "   0.0987897956630821,\n",
       "   0.1418235495035075,\n",
       "   0.1022466457863439,\n",
       "   0.21530364136106905],\n",
       "  [0.04619161964162599,\n",
       "   0.09771502662010467,\n",
       "   0.02455250462529268,\n",
       "   0.006846492077992594,\n",
       "   0.12004246465571122,\n",
       "   0.07137776368274784,\n",
       "   0.07500309420158868,\n",
       "   0.0987897956630821,\n",
       "   0.1418235495035075,\n",
       "   0.1022466457863439,\n",
       "   0.21530364136106905],\n",
       "  [0.04619161964162599,\n",
       "   0.09771502662010467,\n",
       "   0.02455250462529268,\n",
       "   0.006846492077992594,\n",
       "   0.12004246465571122,\n",
       "   0.07137776368274784,\n",
       "   0.07500309420158868,\n",
       "   0.0987897956630821,\n",
       "   0.1418235495035075,\n",
       "   0.1022466457863439,\n",
       "   0.21530364136106905],\n",
       "  [0.04619161964162599,\n",
       "   0.09771502662010467,\n",
       "   0.02455250462529268,\n",
       "   0.006846492077992594,\n",
       "   0.12004246465571122,\n",
       "   0.07137776368274784,\n",
       "   0.07500309420158868,\n",
       "   0.0987897956630821,\n",
       "   0.1418235495035075,\n",
       "   0.1022466457863439,\n",
       "   0.21530364136106905],\n",
       "  [0.04619161964162599,\n",
       "   0.09771502662010467,\n",
       "   0.02455250462529268,\n",
       "   0.006846492077992594,\n",
       "   0.12004246465571122,\n",
       "   0.07137776368274784,\n",
       "   0.07500309420158868,\n",
       "   0.0987897956630821,\n",
       "   0.1418235495035075,\n",
       "   0.1022466457863439,\n",
       "   0.21530364136106905],\n",
       "  [0.04619161964162599,\n",
       "   0.09771502662010467,\n",
       "   0.02455250462529268,\n",
       "   0.006846492077992594,\n",
       "   0.12004246465571122,\n",
       "   0.07137776368274784,\n",
       "   0.07500309420158868,\n",
       "   0.0987897956630821,\n",
       "   0.1418235495035075,\n",
       "   0.1022466457863439,\n",
       "   0.21530364136106905],\n",
       "  [0.04619161964162599,\n",
       "   0.09771502662010467,\n",
       "   0.02455250462529268,\n",
       "   0.006846492077992594,\n",
       "   0.12004246465571122,\n",
       "   0.07137776368274784,\n",
       "   0.07500309420158868,\n",
       "   0.0987897956630821,\n",
       "   0.1418235495035075,\n",
       "   0.1022466457863439,\n",
       "   0.21530364136106905],\n",
       "  [0.04619161964162599,\n",
       "   0.09771502662010467,\n",
       "   0.02455250462529268,\n",
       "   0.006846492077992594,\n",
       "   0.12004246465571122,\n",
       "   0.07137776368274784,\n",
       "   0.07500309420158868,\n",
       "   0.0987897956630821,\n",
       "   0.1418235495035075,\n",
       "   0.1022466457863439,\n",
       "   0.21530364136106905],\n",
       "  [0.04619161964162599,\n",
       "   0.09771502662010467,\n",
       "   0.02455250462529268,\n",
       "   0.006846492077992594,\n",
       "   0.12004246465571122,\n",
       "   0.07137776368274784,\n",
       "   0.07500309420158868,\n",
       "   0.0987897956630821,\n",
       "   0.1418235495035075,\n",
       "   0.1022466457863439,\n",
       "   0.21530364136106905],\n",
       "  [0.04619161964162599,\n",
       "   0.09771502662010467,\n",
       "   0.02455250462529268,\n",
       "   0.006846492077992594,\n",
       "   0.12004246465571122,\n",
       "   0.07137776368274784,\n",
       "   0.07500309420158868,\n",
       "   0.0987897956630821,\n",
       "   0.1418235495035075,\n",
       "   0.1022466457863439,\n",
       "   0.21530364136106905],\n",
       "  [0.04619161964162599,\n",
       "   0.09771502662010467,\n",
       "   0.02455250462529268,\n",
       "   0.006846492077992594,\n",
       "   0.12004246465571122,\n",
       "   0.07137776368274784,\n",
       "   0.07500309420158868,\n",
       "   0.0987897956630821,\n",
       "   0.1418235495035075,\n",
       "   0.1022466457863439,\n",
       "   0.21530364136106905],\n",
       "  [0.04619161964162599,\n",
       "   0.09771502662010467,\n",
       "   0.02455250462529268,\n",
       "   0.006846492077992594,\n",
       "   0.12004246465571122,\n",
       "   0.07137776368274784,\n",
       "   0.07500309420158868,\n",
       "   0.0987897956630821,\n",
       "   0.1418235495035075,\n",
       "   0.1022466457863439,\n",
       "   0.21530364136106905],\n",
       "  [0.04619161964162599,\n",
       "   0.09771502662010467,\n",
       "   0.02455250462529268,\n",
       "   0.006846492077992594,\n",
       "   0.12004246465571122,\n",
       "   0.07137776368274784,\n",
       "   0.07500309420158868,\n",
       "   0.0987897956630821,\n",
       "   0.1418235495035075,\n",
       "   0.1022466457863439,\n",
       "   0.21530364136106905],\n",
       "  [0.04619161964162599,\n",
       "   0.09771502662010467,\n",
       "   0.002887885296026904,\n",
       "   0.006846492077992594,\n",
       "   0.12004246465571122,\n",
       "   0.07137776368274784,\n",
       "   0.07500309420158868,\n",
       "   0.0987897956630821,\n",
       "   0.1418235495035075,\n",
       "   0.1022466457863439,\n",
       "   0.21530364136106905],\n",
       "  [0.04619161964162599,\n",
       "   0.09771502662010467,\n",
       "   0.02455250462529268,\n",
       "   0.006846492077992594,\n",
       "   0.12004246465571122,\n",
       "   0.07137776368274784,\n",
       "   0.07500309420158868,\n",
       "   0.0987897956630821,\n",
       "   0.1418235495035075,\n",
       "   0.1022466457863439,\n",
       "   0.21530364136106905],\n",
       "  [0.04619161964162599,\n",
       "   0.09771502662010467,\n",
       "   0.02455250462529268,\n",
       "   0.006846492077992594,\n",
       "   0.12004246465571122,\n",
       "   0.07137776368274784,\n",
       "   0.07500309420158868,\n",
       "   0.0987897956630821,\n",
       "   0.1418235495035075,\n",
       "   0.1022466457863439,\n",
       "   0.21530364136106905],\n",
       "  [0.04619161964162599,\n",
       "   0.09771502662010467,\n",
       "   0.02455250462529268,\n",
       "   0.006846492077992594,\n",
       "   0.12004246465571122,\n",
       "   0.07137776368274784,\n",
       "   0.07500309420158868,\n",
       "   0.0987897956630821,\n",
       "   0.1418235495035075,\n",
       "   0.1022466457863439,\n",
       "   0.21530364136106905],\n",
       "  [0.04619161964162599,\n",
       "   0.09771502662010467,\n",
       "   0.02455250462529268,\n",
       "   0.006846492077992594,\n",
       "   0.12004246465571122,\n",
       "   0.07137776368274784,\n",
       "   0.07500309420158868,\n",
       "   0.0987897956630821,\n",
       "   0.1418235495035075,\n",
       "   0.1022466457863439,\n",
       "   0.21530364136106905],\n",
       "  [0.011971799587929932,\n",
       "   0.763140543676282,\n",
       "   0.02455250462529268,\n",
       "   0.006846492077992594,\n",
       "   0.12004246465571122,\n",
       "   0.07137776368274784,\n",
       "   0.07500309420158868,\n",
       "   0.0987897956630821,\n",
       "   0.1418235495035075,\n",
       "   0.1022466457863439,\n",
       "   0.4606510313773925],\n",
       "  [0.04619161964162599,\n",
       "   0.09771502662010467,\n",
       "   0.02455250462529268,\n",
       "   0.006846492077992594,\n",
       "   0.12004246465571122,\n",
       "   0.07137776368274784,\n",
       "   0.07500309420158868,\n",
       "   0.0987897956630821,\n",
       "   0.1418235495035075,\n",
       "   0.1022466457863439,\n",
       "   0.21530364136106905],\n",
       "  [0.04619161964162599,\n",
       "   0.09771502662010467,\n",
       "   0.02455250462529268,\n",
       "   0.006846492077992594,\n",
       "   0.12004246465571122,\n",
       "   0.07137776368274784,\n",
       "   0.07500309420158868,\n",
       "   0.0987897956630821,\n",
       "   0.1418235495035075,\n",
       "   0.1022466457863439,\n",
       "   0.21530364136106905],\n",
       "  [0.04619161964162599,\n",
       "   0.09771502662010467,\n",
       "   0.02455250462529268,\n",
       "   0.006846492077992594,\n",
       "   0.12004246465571122,\n",
       "   0.07137776368274784,\n",
       "   0.07500309420158868,\n",
       "   0.0987897956630821,\n",
       "   0.1418235495035075,\n",
       "   0.1022466457863439,\n",
       "   0.21530364136106905],\n",
       "  [0.04619161964162599,\n",
       "   0.09771502662010467,\n",
       "   0.02455250462529268,\n",
       "   0.006846492077992594,\n",
       "   0.12004246465571122,\n",
       "   0.07137776368274784,\n",
       "   0.07500309420158868,\n",
       "   0.0987897956630821,\n",
       "   0.1418235495035075,\n",
       "   0.1022466457863439,\n",
       "   0.21530364136106905],\n",
       "  [0.04619161964162599,\n",
       "   0.09771502662010467,\n",
       "   0.02455250462529268,\n",
       "   0.006846492077992594,\n",
       "   0.0770816102891918,\n",
       "   0.07137776368274784,\n",
       "   0.07500309420158868,\n",
       "   0.0987897956630821,\n",
       "   0.1418235495035075,\n",
       "   0.1022466457863439,\n",
       "   0.8602284360801691],\n",
       "  [0.04619161964162599,\n",
       "   0.09771502662010467,\n",
       "   0.02455250462529268,\n",
       "   0.006846492077992594,\n",
       "   0.12004246465571122,\n",
       "   0.23171743726350058,\n",
       "   0.07500309420158868,\n",
       "   0.0987897956630821,\n",
       "   0.1418235495035075,\n",
       "   0.1022466457863439,\n",
       "   0.06598475532337922],\n",
       "  [0.04619161964162599,\n",
       "   0.09771502662010467,\n",
       "   0.02455250462529268,\n",
       "   0.006846492077992594,\n",
       "   0.12004246465571122,\n",
       "   0.07137776368274784,\n",
       "   0.07500309420158868,\n",
       "   0.0987897956630821,\n",
       "   0.1418235495035075,\n",
       "   0.1022466457863439,\n",
       "   0.21530364136106905],\n",
       "  [0.04619161964162599,\n",
       "   0.09771502662010467,\n",
       "   0.02455250462529268,\n",
       "   0.006846492077992594,\n",
       "   0.12004246465571122,\n",
       "   0.07137776368274784,\n",
       "   0.07500309420158868,\n",
       "   0.0987897956630821,\n",
       "   0.1418235495035075,\n",
       "   0.1022466457863439,\n",
       "   0.21530364136106905],\n",
       "  [0.04619161964162599,\n",
       "   0.09771502662010467,\n",
       "   0.02455250462529268,\n",
       "   0.006846492077992594,\n",
       "   0.12004246465571122,\n",
       "   0.07137776368274784,\n",
       "   0.07500309420158868,\n",
       "   0.0987897956630821,\n",
       "   0.1418235495035075,\n",
       "   0.1022466457863439,\n",
       "   0.21530364136106905],\n",
       "  [0.04619161964162599,\n",
       "   0.09771502662010467,\n",
       "   0.02455250462529268,\n",
       "   0.006846492077992594,\n",
       "   0.12004246465571122,\n",
       "   0.07137776368274784,\n",
       "   0.07500309420158868,\n",
       "   0.0987897956630821,\n",
       "   0.1418235495035075,\n",
       "   0.1022466457863439,\n",
       "   0.21530364136106905],\n",
       "  [0.04619161964162599,\n",
       "   0.09771502662010467,\n",
       "   0.02455250462529268,\n",
       "   0.006846492077992594,\n",
       "   0.12004246465571122,\n",
       "   0.07137776368274784,\n",
       "   0.07500309420158868,\n",
       "   0.0987897956630821,\n",
       "   0.1418235495035075,\n",
       "   0.1022466457863439,\n",
       "   0.21530364136106905],\n",
       "  [0.04619161964162599,\n",
       "   0.09771502662010467,\n",
       "   0.02455250462529268,\n",
       "   0.006846492077992594,\n",
       "   0.12004246465571122,\n",
       "   0.07137776368274784,\n",
       "   0.07500309420158868,\n",
       "   0.0987897956630821,\n",
       "   0.1418235495035075,\n",
       "   0.1022466457863439,\n",
       "   0.21530364136106905],\n",
       "  [0.04619161964162599,\n",
       "   0.09771502662010467,\n",
       "   0.02455250462529268,\n",
       "   0.006846492077992594,\n",
       "   0.12004246465571122,\n",
       "   0.07137776368274784,\n",
       "   0.07500309420158868,\n",
       "   0.3122639655825974,\n",
       "   0.1418235495035075,\n",
       "   0.1022466457863439,\n",
       "   0.21530364136106905],\n",
       "  [0.892550020973379,\n",
       "   0.09771502662010467,\n",
       "   0.02455250462529268,\n",
       "   0.006846492077992594,\n",
       "   0.46797504246134436,\n",
       "   0.07137776368274784,\n",
       "   0.07500309420158868,\n",
       "   0.0987897956630821,\n",
       "   0.1418235495035075,\n",
       "   0.1022466457863439,\n",
       "   0.21530364136106905],\n",
       "  [0.04619161964162599,\n",
       "   0.09771502662010467,\n",
       "   0.02455250462529268,\n",
       "   0.006846492077992594,\n",
       "   0.12004246465571122,\n",
       "   0.07137776368274784,\n",
       "   0.07500309420158868,\n",
       "   0.0987897956630821,\n",
       "   0.1418235495035075,\n",
       "   0.1022466457863439,\n",
       "   0.21530364136106905],\n",
       "  [0.04619161964162599,\n",
       "   0.09771502662010467,\n",
       "   0.029889405041239936,\n",
       "   0.006846492077992594,\n",
       "   0.12004246465571122,\n",
       "   0.07137776368274784,\n",
       "   0.07500309420158868,\n",
       "   0.0987897956630821,\n",
       "   0.1418235495035075,\n",
       "   0.1022466457863439,\n",
       "   0.21530364136106905],\n",
       "  [0.04619161964162599,\n",
       "   0.09771502662010467,\n",
       "   0.02455250462529268,\n",
       "   0.006846492077992594,\n",
       "   0.12004246465571122,\n",
       "   0.07137776368274784,\n",
       "   0.07500309420158868,\n",
       "   0.0987897956630821,\n",
       "   0.1418235495035075,\n",
       "   0.1022466457863439,\n",
       "   0.21530364136106905],\n",
       "  [0.04619161964162599,\n",
       "   0.09771502662010467,\n",
       "   0.02455250462529268,\n",
       "   0.006846492077992594,\n",
       "   0.12004246465571122,\n",
       "   0.07137776368274784,\n",
       "   0.07500309420158868,\n",
       "   0.0987897956630821,\n",
       "   0.1418235495035075,\n",
       "   0.1022466457863439,\n",
       "   0.21530364136106905],\n",
       "  [0.04619161964162599,\n",
       "   0.09771502662010467,\n",
       "   0.02455250462529268,\n",
       "   0.006846492077992594,\n",
       "   0.12004246465571122,\n",
       "   0.07137776368274784,\n",
       "   0.07500309420158868,\n",
       "   0.0987897956630821,\n",
       "   0.1418235495035075,\n",
       "   0.1022466457863439,\n",
       "   0.21530364136106905],\n",
       "  [0.04619161964162599,\n",
       "   0.09771502662010467,\n",
       "   0.02455250462529268,\n",
       "   0.006846492077992594,\n",
       "   0.12004246465571122,\n",
       "   0.07137776368274784,\n",
       "   0.07500309420158868,\n",
       "   0.0987897956630821,\n",
       "   0.1418235495035075,\n",
       "   0.1022466457863439,\n",
       "   0.21530364136106905],\n",
       "  [0.04619161964162599,\n",
       "   0.09771502662010467,\n",
       "   0.02455250462529268,\n",
       "   0.006846492077992594,\n",
       "   0.12004246465571122,\n",
       "   0.07137776368274784,\n",
       "   0.07500309420158868,\n",
       "   0.0987897956630821,\n",
       "   0.1418235495035075,\n",
       "   0.1022466457863439,\n",
       "   0.21530364136106905],\n",
       "  [0.04619161964162599,\n",
       "   0.09771502662010467,\n",
       "   0.02455250462529268,\n",
       "   0.006846492077992594,\n",
       "   0.12004246465571122,\n",
       "   0.07137776368274784,\n",
       "   0.07500309420158868,\n",
       "   0.0987897956630821,\n",
       "   0.1418235495035075,\n",
       "   0.1022466457863439,\n",
       "   0.21530364136106905],\n",
       "  [0.04619161964162599,\n",
       "   0.09771502662010467,\n",
       "   0.02455250462529268,\n",
       "   0.006846492077992594,\n",
       "   0.12004246465571122,\n",
       "   0.07137776368274784,\n",
       "   0.07500309420158868,\n",
       "   0.0987897956630821,\n",
       "   0.1418235495035075,\n",
       "   0.1022466457863439,\n",
       "   0.21530364136106905],\n",
       "  [0.04619161964162599,\n",
       "   0.09771502662010467,\n",
       "   0.02455250462529268,\n",
       "   0.006846492077992594,\n",
       "   0.12004246465571122,\n",
       "   0.07137776368274784,\n",
       "   0.07500309420158868,\n",
       "   0.0987897956630821,\n",
       "   0.1418235495035075,\n",
       "   0.1022466457863439,\n",
       "   0.21530364136106905],\n",
       "  [0.04619161964162599,\n",
       "   0.09771502662010467,\n",
       "   0.02455250462529268,\n",
       "   0.006846492077992594,\n",
       "   0.12004246465571122,\n",
       "   0.07137776368274784,\n",
       "   0.07500309420158868,\n",
       "   0.0987897956630821,\n",
       "   0.1418235495035075,\n",
       "   0.1022466457863439,\n",
       "   0.21530364136106905],\n",
       "  [0.04619161964162599,\n",
       "   0.09771502662010467,\n",
       "   0.02455250462529268,\n",
       "   0.006846492077992594,\n",
       "   0.12004246465571122,\n",
       "   0.07137776368274784,\n",
       "   0.07500309420158868,\n",
       "   0.0987897956630821,\n",
       "   0.1418235495035075,\n",
       "   0.1022466457863439,\n",
       "   0.21530364136106905],\n",
       "  [0.04619161964162599,\n",
       "   0.09771502662010467,\n",
       "   0.02455250462529268,\n",
       "   0.006846492077992594,\n",
       "   0.12004246465571122,\n",
       "   0.07137776368274784,\n",
       "   0.07500309420158868,\n",
       "   0.0987897956630821,\n",
       "   0.1418235495035075,\n",
       "   0.1022466457863439,\n",
       "   0.21530364136106905],\n",
       "  [0.04619161964162599,\n",
       "   0.09771502662010467,\n",
       "   0.02455250462529268,\n",
       "   0.006846492077992594,\n",
       "   0.12004246465571122,\n",
       "   0.07137776368274784,\n",
       "   0.07500309420158868,\n",
       "   0.0987897956630821,\n",
       "   0.1418235495035075,\n",
       "   0.1022466457863439,\n",
       "   0.21530364136106905],\n",
       "  [0.04619161964162599,\n",
       "   0.09771502662010467,\n",
       "   0.02455250462529268,\n",
       "   0.006846492077992594,\n",
       "   0.12004246465571122,\n",
       "   0.07137776368274784,\n",
       "   0.07500309420158868,\n",
       "   0.0987897956630821,\n",
       "   0.1418235495035075,\n",
       "   0.1022466457863439,\n",
       "   0.21530364136106905],\n",
       "  [0.04619161964162599,\n",
       "   0.09771502662010467,\n",
       "   0.02455250462529268,\n",
       "   0.006846492077992594,\n",
       "   0.12004246465571122,\n",
       "   0.07137776368274784,\n",
       "   0.07500309420158868,\n",
       "   0.0987897956630821,\n",
       "   0.1418235495035075,\n",
       "   0.1022466457863439,\n",
       "   0.21530364136106905],\n",
       "  [0.04619161964162599,\n",
       "   0.09771502662010467,\n",
       "   0.02455250462529268,\n",
       "   0.006846492077992594,\n",
       "   0.12004246465571122,\n",
       "   0.07137776368274784,\n",
       "   0.07500309420158868,\n",
       "   0.0987897956630821,\n",
       "   0.1418235495035075,\n",
       "   0.1022466457863439,\n",
       "   0.21530364136106905],\n",
       "  [0.04619161964162599,\n",
       "   0.09771502662010467,\n",
       "   0.02455250462529268,\n",
       "   0.006846492077992594,\n",
       "   0.12004246465571122,\n",
       "   0.07137776368274784,\n",
       "   0.07500309420158868,\n",
       "   0.0987897956630821,\n",
       "   0.1418235495035075,\n",
       "   0.1022466457863439,\n",
       "   0.21530364136106905],\n",
       "  [0.04619161964162599,\n",
       "   0.09771502662010467,\n",
       "   0.02455250462529268,\n",
       "   0.006846492077992594,\n",
       "   0.12004246465571122,\n",
       "   0.07137776368274784,\n",
       "   0.07500309420158868,\n",
       "   0.0987897956630821,\n",
       "   0.07110932193808162,\n",
       "   0.1022466457863439,\n",
       "   0.21530364136106905]],\n",
       " [{'gen': 0, 'nevals': 100},\n",
       "  {'gen': 1, 'nevals': 63},\n",
       "  {'gen': 2, 'nevals': 49},\n",
       "  {'gen': 3, 'nevals': 53},\n",
       "  {'gen': 4, 'nevals': 54},\n",
       "  {'gen': 5, 'nevals': 63},\n",
       "  {'gen': 6, 'nevals': 64},\n",
       "  {'gen': 7, 'nevals': 38},\n",
       "  {'gen': 8, 'nevals': 65},\n",
       "  {'gen': 9, 'nevals': 64},\n",
       "  {'gen': 10, 'nevals': 51},\n",
       "  {'gen': 11, 'nevals': 57},\n",
       "  {'gen': 12, 'nevals': 65},\n",
       "  {'gen': 13, 'nevals': 72},\n",
       "  {'gen': 14, 'nevals': 60},\n",
       "  {'gen': 15, 'nevals': 68},\n",
       "  {'gen': 16, 'nevals': 55},\n",
       "  {'gen': 17, 'nevals': 69},\n",
       "  {'gen': 18, 'nevals': 62},\n",
       "  {'gen': 19, 'nevals': 58},\n",
       "  {'gen': 20, 'nevals': 66},\n",
       "  {'gen': 21, 'nevals': 59},\n",
       "  {'gen': 22, 'nevals': 72},\n",
       "  {'gen': 23, 'nevals': 57},\n",
       "  {'gen': 24, 'nevals': 61},\n",
       "  {'gen': 25, 'nevals': 57},\n",
       "  {'gen': 26, 'nevals': 46},\n",
       "  {'gen': 27, 'nevals': 63},\n",
       "  {'gen': 28, 'nevals': 51},\n",
       "  {'gen': 29, 'nevals': 69},\n",
       "  {'gen': 30, 'nevals': 46},\n",
       "  {'gen': 31, 'nevals': 61},\n",
       "  {'gen': 32, 'nevals': 62},\n",
       "  {'gen': 33, 'nevals': 48},\n",
       "  {'gen': 34, 'nevals': 59},\n",
       "  {'gen': 35, 'nevals': 63},\n",
       "  {'gen': 36, 'nevals': 57},\n",
       "  {'gen': 37, 'nevals': 53},\n",
       "  {'gen': 38, 'nevals': 65},\n",
       "  {'gen': 39, 'nevals': 60},\n",
       "  {'gen': 40, 'nevals': 55},\n",
       "  {'gen': 41, 'nevals': 60},\n",
       "  {'gen': 42, 'nevals': 72},\n",
       "  {'gen': 43, 'nevals': 61},\n",
       "  {'gen': 44, 'nevals': 57},\n",
       "  {'gen': 45, 'nevals': 62},\n",
       "  {'gen': 46, 'nevals': 66},\n",
       "  {'gen': 47, 'nevals': 59},\n",
       "  {'gen': 48, 'nevals': 62},\n",
       "  {'gen': 49, 'nevals': 55},\n",
       "  {'gen': 50, 'nevals': 73}])"
      ]
     },
     "execution_count": 66,
     "metadata": {},
     "output_type": "execute_result"
    }
   ],
   "source": [
    "population = toolbox.population(n=population_size)\n",
    "algorithms.eaSimple(population, toolbox, cx_prob, mut_prob, num_generations)"
   ]
  },
  {
   "cell_type": "code",
   "execution_count": 67,
   "metadata": {},
   "outputs": [
    {
     "data": {
      "text/plain": [
       "[0.04619161964162599,\n",
       " 0.09771502662010467,\n",
       " 0.02455250462529268,\n",
       " 0.006846492077992594,\n",
       " 0.12004246465571122,\n",
       " 0.07137776368274784,\n",
       " 0.07500309420158868,\n",
       " 0.0987897956630821,\n",
       " 0.1418235495035075,\n",
       " 0.1022466457863439,\n",
       " 0.21530364136106905]"
      ]
     },
     "execution_count": 67,
     "metadata": {},
     "output_type": "execute_result"
    }
   ],
   "source": [
    "best_individual = tools.selBest(population, k=1)[0]\n",
    "best_individual"
   ]
  },
  {
   "cell_type": "code",
   "execution_count": 68,
   "metadata": {},
   "outputs": [
    {
     "data": {
      "text/plain": [
       "0.9998925978190663"
      ]
     },
     "execution_count": 68,
     "metadata": {},
     "output_type": "execute_result"
    }
   ],
   "source": [
    "np.sum(best_individual)"
   ]
  },
  {
   "cell_type": "code",
   "execution_count": 69,
   "metadata": {},
   "outputs": [
    {
     "data": {
      "text/html": [
       "<div>\n",
       "<style scoped>\n",
       "    .dataframe tbody tr th:only-of-type {\n",
       "        vertical-align: middle;\n",
       "    }\n",
       "\n",
       "    .dataframe tbody tr th {\n",
       "        vertical-align: top;\n",
       "    }\n",
       "\n",
       "    .dataframe thead th {\n",
       "        text-align: right;\n",
       "    }\n",
       "</style>\n",
       "<table border=\"1\" class=\"dataframe\">\n",
       "  <thead>\n",
       "    <tr style=\"text-align: right;\">\n",
       "      <th></th>\n",
       "      <th>ABEV3.SA</th>\n",
       "      <th>ATOM3.SA</th>\n",
       "      <th>ELET6.SA</th>\n",
       "      <th>ITUB4.SA</th>\n",
       "      <th>PETR4.SA</th>\n",
       "      <th>RDOR3.SA</th>\n",
       "      <th>RENT3.SA</th>\n",
       "      <th>TOTS3.SA</th>\n",
       "      <th>VALE3.SA</th>\n",
       "      <th>VIVT3.SA</th>\n",
       "      <th>WEGE3.SA</th>\n",
       "    </tr>\n",
       "    <tr>\n",
       "      <th>Date</th>\n",
       "      <th></th>\n",
       "      <th></th>\n",
       "      <th></th>\n",
       "      <th></th>\n",
       "      <th></th>\n",
       "      <th></th>\n",
       "      <th></th>\n",
       "      <th></th>\n",
       "      <th></th>\n",
       "      <th></th>\n",
       "      <th></th>\n",
       "    </tr>\n",
       "  </thead>\n",
       "  <tbody>\n",
       "    <tr>\n",
       "      <th>2021-01-04</th>\n",
       "      <td>14.085718</td>\n",
       "      <td>2.405986</td>\n",
       "      <td>30.88339</td>\n",
       "      <td>27.947104</td>\n",
       "      <td>11.470779</td>\n",
       "      <td>63.675343</td>\n",
       "      <td>64.90799</td>\n",
       "      <td>27.178005</td>\n",
       "      <td>69.41304</td>\n",
       "      <td>38.887127</td>\n",
       "      <td>35.927429</td>\n",
       "    </tr>\n",
       "  </tbody>\n",
       "</table>\n",
       "</div>"
      ],
      "text/plain": [
       "             ABEV3.SA  ATOM3.SA  ELET6.SA   ITUB4.SA   PETR4.SA   RDOR3.SA  \\\n",
       "Date                                                                         \n",
       "2021-01-04  14.085718  2.405986  30.88339  27.947104  11.470779  63.675343   \n",
       "\n",
       "            RENT3.SA   TOTS3.SA  VALE3.SA   VIVT3.SA   WEGE3.SA  \n",
       "Date                                                             \n",
       "2021-01-04  64.90799  27.178005  69.41304  38.887127  35.927429  "
      ]
     },
     "execution_count": 69,
     "metadata": {},
     "output_type": "execute_result"
    }
   ],
   "source": [
    "data.head(1)"
   ]
  },
  {
   "cell_type": "code",
   "execution_count": 70,
   "metadata": {},
   "outputs": [],
   "source": [
    "def port_return(weights, dataset=returns):\n",
    "    x = dataset.mul(weights).sum(axis=1)  # Soma dos retornos da carteira dia a dia\n",
    "    x = x + 1\n",
    "    x = x.cumprod() - 1\n",
    "    return x.tail(1)"
   ]
  },
  {
   "cell_type": "code",
   "execution_count": 71,
   "metadata": {},
   "outputs": [
    {
     "name": "stdout",
     "output_type": "stream",
     "text": [
      "Retorno otimizado: Date\n",
      "2022-12-29    0.200388\n",
      "dtype: float64\n",
      "--------------------\n",
      "Retorno normal: Date\n",
      "2022-12-29    0.141775\n",
      "dtype: float64\n"
     ]
    }
   ],
   "source": [
    "weights_vanilla = np.full(n_stocks, 1/n_stocks)\n",
    "print('Retorno otimizado:', port_return(best_individual))\n",
    "print('-'*20)\n",
    "print('Retorno normal:', port_return(weights_vanilla))"
   ]
  },
  {
   "cell_type": "code",
   "execution_count": 72,
   "metadata": {},
   "outputs": [
    {
     "name": "stdout",
     "output_type": "stream",
     "text": [
      "Retorno médio otimizado: 0.13291620184908676\n",
      "--------------------\n",
      "Retorno médio normal: 0.1187214624332663\n"
     ]
    }
   ],
   "source": [
    "print('Retorno médio otimizado:', calculate_returns(best_individual).mean())\n",
    "print('-'*20)\n",
    "print('Retorno médio normal:', calculate_returns(weights_vanilla).mean())"
   ]
  },
  {
   "cell_type": "code",
   "execution_count": 73,
   "metadata": {},
   "outputs": [
    {
     "name": "stdout",
     "output_type": "stream",
     "text": [
      "Desvio padrão carteira otimizada: 0.07513441252964413\n",
      "--------------------\n",
      "Desvio padrão carteira normal: 0.07978805115835383\n"
     ]
    }
   ],
   "source": [
    "print('Desvio padrão carteira otimizada:', calculate_returns(best_individual).std())\n",
    "print('-'*20)\n",
    "print('Desvio padrão carteira normal:', calculate_returns(weights_vanilla).std())"
   ]
  },
  {
   "cell_type": "code",
   "execution_count": 79,
   "metadata": {},
   "outputs": [
    {
     "data": {
      "application/vnd.plotly.v1+json": {
       "config": {
        "plotlyServerURL": "https://plot.ly"
       },
       "data": [
        {
         "hovertemplate": "Date=%{x}<br>y=%{y}<extra></extra>",
         "legendgroup": "",
         "line": {
          "color": "#636efa",
          "dash": "solid"
         },
         "marker": {
          "symbol": "circle"
         },
         "mode": "lines",
         "name": "",
         "orientation": "v",
         "showlegend": false,
         "type": "scatter",
         "x": [
          "2021-01-05T00:00:00",
          "2021-01-06T00:00:00",
          "2021-01-07T00:00:00",
          "2021-01-08T00:00:00",
          "2021-01-11T00:00:00",
          "2021-01-12T00:00:00",
          "2021-01-13T00:00:00",
          "2021-01-14T00:00:00",
          "2021-01-15T00:00:00",
          "2021-01-18T00:00:00",
          "2021-01-19T00:00:00",
          "2021-01-20T00:00:00",
          "2021-01-21T00:00:00",
          "2021-01-22T00:00:00",
          "2021-01-26T00:00:00",
          "2021-01-27T00:00:00",
          "2021-01-28T00:00:00",
          "2021-01-29T00:00:00",
          "2021-02-01T00:00:00",
          "2021-02-02T00:00:00",
          "2021-02-03T00:00:00",
          "2021-02-04T00:00:00",
          "2021-02-05T00:00:00",
          "2021-02-08T00:00:00",
          "2021-02-09T00:00:00",
          "2021-02-10T00:00:00",
          "2021-02-11T00:00:00",
          "2021-02-12T00:00:00",
          "2021-02-17T00:00:00",
          "2021-02-18T00:00:00",
          "2021-02-19T00:00:00",
          "2021-02-22T00:00:00",
          "2021-02-23T00:00:00",
          "2021-02-24T00:00:00",
          "2021-02-25T00:00:00",
          "2021-02-26T00:00:00",
          "2021-03-01T00:00:00",
          "2021-03-02T00:00:00",
          "2021-03-03T00:00:00",
          "2021-03-04T00:00:00",
          "2021-03-05T00:00:00",
          "2021-03-08T00:00:00",
          "2021-03-09T00:00:00",
          "2021-03-10T00:00:00",
          "2021-03-11T00:00:00",
          "2021-03-12T00:00:00",
          "2021-03-15T00:00:00",
          "2021-03-16T00:00:00",
          "2021-03-17T00:00:00",
          "2021-03-18T00:00:00",
          "2021-03-19T00:00:00",
          "2021-03-22T00:00:00",
          "2021-03-23T00:00:00",
          "2021-03-24T00:00:00",
          "2021-03-25T00:00:00",
          "2021-03-26T00:00:00",
          "2021-03-29T00:00:00",
          "2021-03-30T00:00:00",
          "2021-03-31T00:00:00",
          "2021-04-01T00:00:00",
          "2021-04-05T00:00:00",
          "2021-04-06T00:00:00",
          "2021-04-07T00:00:00",
          "2021-04-08T00:00:00",
          "2021-04-09T00:00:00",
          "2021-04-12T00:00:00",
          "2021-04-13T00:00:00",
          "2021-04-14T00:00:00",
          "2021-04-15T00:00:00",
          "2021-04-16T00:00:00",
          "2021-04-19T00:00:00",
          "2021-04-20T00:00:00",
          "2021-04-22T00:00:00",
          "2021-04-23T00:00:00",
          "2021-04-26T00:00:00",
          "2021-04-27T00:00:00",
          "2021-04-28T00:00:00",
          "2021-04-29T00:00:00",
          "2021-04-30T00:00:00",
          "2021-05-03T00:00:00",
          "2021-05-04T00:00:00",
          "2021-05-05T00:00:00",
          "2021-05-06T00:00:00",
          "2021-05-07T00:00:00",
          "2021-05-10T00:00:00",
          "2021-05-11T00:00:00",
          "2021-05-12T00:00:00",
          "2021-05-13T00:00:00",
          "2021-05-14T00:00:00",
          "2021-05-17T00:00:00",
          "2021-05-18T00:00:00",
          "2021-05-19T00:00:00",
          "2021-05-20T00:00:00",
          "2021-05-21T00:00:00",
          "2021-05-24T00:00:00",
          "2021-05-25T00:00:00",
          "2021-05-26T00:00:00",
          "2021-05-27T00:00:00",
          "2021-05-28T00:00:00",
          "2021-05-31T00:00:00",
          "2021-06-01T00:00:00",
          "2021-06-02T00:00:00",
          "2021-06-04T00:00:00",
          "2021-06-07T00:00:00",
          "2021-06-08T00:00:00",
          "2021-06-09T00:00:00",
          "2021-06-10T00:00:00",
          "2021-06-11T00:00:00",
          "2021-06-14T00:00:00",
          "2021-06-15T00:00:00",
          "2021-06-16T00:00:00",
          "2021-06-17T00:00:00",
          "2021-06-18T00:00:00",
          "2021-06-21T00:00:00",
          "2021-06-22T00:00:00",
          "2021-06-23T00:00:00",
          "2021-06-24T00:00:00",
          "2021-06-25T00:00:00",
          "2021-06-28T00:00:00",
          "2021-06-29T00:00:00",
          "2021-06-30T00:00:00",
          "2021-07-01T00:00:00",
          "2021-07-02T00:00:00",
          "2021-07-05T00:00:00",
          "2021-07-06T00:00:00",
          "2021-07-07T00:00:00",
          "2021-07-08T00:00:00",
          "2021-07-12T00:00:00",
          "2021-07-13T00:00:00",
          "2021-07-14T00:00:00",
          "2021-07-15T00:00:00",
          "2021-07-16T00:00:00",
          "2021-07-19T00:00:00",
          "2021-07-20T00:00:00",
          "2021-07-21T00:00:00",
          "2021-07-22T00:00:00",
          "2021-07-23T00:00:00",
          "2021-07-26T00:00:00",
          "2021-07-27T00:00:00",
          "2021-07-28T00:00:00",
          "2021-07-29T00:00:00",
          "2021-07-30T00:00:00",
          "2021-08-02T00:00:00",
          "2021-08-03T00:00:00",
          "2021-08-04T00:00:00",
          "2021-08-05T00:00:00",
          "2021-08-06T00:00:00",
          "2021-08-09T00:00:00",
          "2021-08-10T00:00:00",
          "2021-08-11T00:00:00",
          "2021-08-12T00:00:00",
          "2021-08-13T00:00:00",
          "2021-08-16T00:00:00",
          "2021-08-17T00:00:00",
          "2021-08-18T00:00:00",
          "2021-08-19T00:00:00",
          "2021-08-20T00:00:00",
          "2021-08-23T00:00:00",
          "2021-08-24T00:00:00",
          "2021-08-25T00:00:00",
          "2021-08-26T00:00:00",
          "2021-08-27T00:00:00",
          "2021-08-30T00:00:00",
          "2021-08-31T00:00:00",
          "2021-09-01T00:00:00",
          "2021-09-02T00:00:00",
          "2021-09-03T00:00:00",
          "2021-09-06T00:00:00",
          "2021-09-08T00:00:00",
          "2021-09-09T00:00:00",
          "2021-09-10T00:00:00",
          "2021-09-13T00:00:00",
          "2021-09-14T00:00:00",
          "2021-09-15T00:00:00",
          "2021-09-16T00:00:00",
          "2021-09-17T00:00:00",
          "2021-09-20T00:00:00",
          "2021-09-21T00:00:00",
          "2021-09-22T00:00:00",
          "2021-09-23T00:00:00",
          "2021-09-24T00:00:00",
          "2021-09-27T00:00:00",
          "2021-09-28T00:00:00",
          "2021-09-29T00:00:00",
          "2021-09-30T00:00:00",
          "2021-10-01T00:00:00",
          "2021-10-04T00:00:00",
          "2021-10-05T00:00:00",
          "2021-10-06T00:00:00",
          "2021-10-07T00:00:00",
          "2021-10-08T00:00:00",
          "2021-10-11T00:00:00",
          "2021-10-13T00:00:00",
          "2021-10-14T00:00:00",
          "2021-10-15T00:00:00",
          "2021-10-18T00:00:00",
          "2021-10-19T00:00:00",
          "2021-10-20T00:00:00",
          "2021-10-21T00:00:00",
          "2021-10-22T00:00:00",
          "2021-10-25T00:00:00",
          "2021-10-26T00:00:00",
          "2021-10-27T00:00:00",
          "2021-10-28T00:00:00",
          "2021-10-29T00:00:00",
          "2021-11-01T00:00:00",
          "2021-11-03T00:00:00",
          "2021-11-04T00:00:00",
          "2021-11-05T00:00:00",
          "2021-11-08T00:00:00",
          "2021-11-09T00:00:00",
          "2021-11-10T00:00:00",
          "2021-11-11T00:00:00",
          "2021-11-12T00:00:00",
          "2021-11-16T00:00:00",
          "2021-11-17T00:00:00",
          "2021-11-18T00:00:00",
          "2021-11-19T00:00:00",
          "2021-11-22T00:00:00",
          "2021-11-23T00:00:00",
          "2021-11-24T00:00:00",
          "2021-11-25T00:00:00",
          "2021-11-26T00:00:00",
          "2021-11-29T00:00:00",
          "2021-11-30T00:00:00",
          "2021-12-01T00:00:00",
          "2021-12-02T00:00:00",
          "2021-12-03T00:00:00",
          "2021-12-06T00:00:00",
          "2021-12-07T00:00:00",
          "2021-12-08T00:00:00",
          "2021-12-09T00:00:00",
          "2021-12-10T00:00:00",
          "2021-12-13T00:00:00",
          "2021-12-14T00:00:00",
          "2021-12-15T00:00:00",
          "2021-12-16T00:00:00",
          "2021-12-17T00:00:00",
          "2021-12-20T00:00:00",
          "2021-12-21T00:00:00",
          "2021-12-22T00:00:00",
          "2021-12-23T00:00:00",
          "2021-12-27T00:00:00",
          "2021-12-28T00:00:00",
          "2021-12-29T00:00:00",
          "2021-12-30T00:00:00",
          "2022-01-03T00:00:00",
          "2022-01-04T00:00:00",
          "2022-01-05T00:00:00",
          "2022-01-06T00:00:00",
          "2022-01-07T00:00:00",
          "2022-01-10T00:00:00",
          "2022-01-11T00:00:00",
          "2022-01-12T00:00:00",
          "2022-01-13T00:00:00",
          "2022-01-14T00:00:00",
          "2022-01-17T00:00:00",
          "2022-01-18T00:00:00",
          "2022-01-19T00:00:00",
          "2022-01-20T00:00:00",
          "2022-01-21T00:00:00",
          "2022-01-24T00:00:00",
          "2022-01-25T00:00:00",
          "2022-01-26T00:00:00",
          "2022-01-27T00:00:00",
          "2022-01-28T00:00:00",
          "2022-01-31T00:00:00",
          "2022-02-01T00:00:00",
          "2022-02-02T00:00:00",
          "2022-02-03T00:00:00",
          "2022-02-04T00:00:00",
          "2022-02-07T00:00:00",
          "2022-02-08T00:00:00",
          "2022-02-09T00:00:00",
          "2022-02-10T00:00:00",
          "2022-02-11T00:00:00",
          "2022-02-14T00:00:00",
          "2022-02-15T00:00:00",
          "2022-02-16T00:00:00",
          "2022-02-17T00:00:00",
          "2022-02-18T00:00:00",
          "2022-02-21T00:00:00",
          "2022-02-22T00:00:00",
          "2022-02-23T00:00:00",
          "2022-02-24T00:00:00",
          "2022-02-25T00:00:00",
          "2022-03-02T00:00:00",
          "2022-03-03T00:00:00",
          "2022-03-04T00:00:00",
          "2022-03-07T00:00:00",
          "2022-03-08T00:00:00",
          "2022-03-09T00:00:00",
          "2022-03-10T00:00:00",
          "2022-03-11T00:00:00",
          "2022-03-14T00:00:00",
          "2022-03-15T00:00:00",
          "2022-03-16T00:00:00",
          "2022-03-17T00:00:00",
          "2022-03-18T00:00:00",
          "2022-03-21T00:00:00",
          "2022-03-22T00:00:00",
          "2022-03-23T00:00:00",
          "2022-03-24T00:00:00",
          "2022-03-25T00:00:00",
          "2022-03-28T00:00:00",
          "2022-03-29T00:00:00",
          "2022-03-30T00:00:00",
          "2022-03-31T00:00:00",
          "2022-04-01T00:00:00",
          "2022-04-04T00:00:00",
          "2022-04-05T00:00:00",
          "2022-04-06T00:00:00",
          "2022-04-07T00:00:00",
          "2022-04-08T00:00:00",
          "2022-04-11T00:00:00",
          "2022-04-12T00:00:00",
          "2022-04-13T00:00:00",
          "2022-04-14T00:00:00",
          "2022-04-18T00:00:00",
          "2022-04-19T00:00:00",
          "2022-04-20T00:00:00",
          "2022-04-22T00:00:00",
          "2022-04-25T00:00:00",
          "2022-04-26T00:00:00",
          "2022-04-27T00:00:00",
          "2022-04-28T00:00:00",
          "2022-04-29T00:00:00",
          "2022-05-02T00:00:00",
          "2022-05-03T00:00:00",
          "2022-05-04T00:00:00",
          "2022-05-05T00:00:00",
          "2022-05-06T00:00:00",
          "2022-05-09T00:00:00",
          "2022-05-10T00:00:00",
          "2022-05-11T00:00:00",
          "2022-05-12T00:00:00",
          "2022-05-13T00:00:00",
          "2022-05-16T00:00:00",
          "2022-05-17T00:00:00",
          "2022-05-18T00:00:00",
          "2022-05-19T00:00:00",
          "2022-05-20T00:00:00",
          "2022-05-23T00:00:00",
          "2022-05-24T00:00:00",
          "2022-05-25T00:00:00",
          "2022-05-26T00:00:00",
          "2022-05-27T00:00:00",
          "2022-05-30T00:00:00",
          "2022-05-31T00:00:00",
          "2022-06-01T00:00:00",
          "2022-06-02T00:00:00",
          "2022-06-03T00:00:00",
          "2022-06-06T00:00:00",
          "2022-06-07T00:00:00",
          "2022-06-08T00:00:00",
          "2022-06-09T00:00:00",
          "2022-06-10T00:00:00",
          "2022-06-13T00:00:00",
          "2022-06-14T00:00:00",
          "2022-06-15T00:00:00",
          "2022-06-17T00:00:00",
          "2022-06-20T00:00:00",
          "2022-06-21T00:00:00",
          "2022-06-22T00:00:00",
          "2022-06-23T00:00:00",
          "2022-06-24T00:00:00",
          "2022-06-27T00:00:00",
          "2022-06-28T00:00:00",
          "2022-06-29T00:00:00",
          "2022-06-30T00:00:00",
          "2022-07-01T00:00:00",
          "2022-07-04T00:00:00",
          "2022-07-05T00:00:00",
          "2022-07-06T00:00:00",
          "2022-07-07T00:00:00",
          "2022-07-08T00:00:00",
          "2022-07-11T00:00:00",
          "2022-07-12T00:00:00",
          "2022-07-13T00:00:00",
          "2022-07-14T00:00:00",
          "2022-07-15T00:00:00",
          "2022-07-18T00:00:00",
          "2022-07-19T00:00:00",
          "2022-07-20T00:00:00",
          "2022-07-21T00:00:00",
          "2022-07-22T00:00:00",
          "2022-07-25T00:00:00",
          "2022-07-26T00:00:00",
          "2022-07-27T00:00:00",
          "2022-07-28T00:00:00",
          "2022-07-29T00:00:00",
          "2022-08-01T00:00:00",
          "2022-08-02T00:00:00",
          "2022-08-03T00:00:00",
          "2022-08-04T00:00:00",
          "2022-08-05T00:00:00",
          "2022-08-08T00:00:00",
          "2022-08-09T00:00:00",
          "2022-08-10T00:00:00",
          "2022-08-11T00:00:00",
          "2022-08-12T00:00:00",
          "2022-08-15T00:00:00",
          "2022-08-16T00:00:00",
          "2022-08-17T00:00:00",
          "2022-08-18T00:00:00",
          "2022-08-19T00:00:00",
          "2022-08-22T00:00:00",
          "2022-08-23T00:00:00",
          "2022-08-24T00:00:00",
          "2022-08-25T00:00:00",
          "2022-08-26T00:00:00",
          "2022-08-29T00:00:00",
          "2022-08-30T00:00:00",
          "2022-08-31T00:00:00",
          "2022-09-01T00:00:00",
          "2022-09-02T00:00:00",
          "2022-09-05T00:00:00",
          "2022-09-06T00:00:00",
          "2022-09-08T00:00:00",
          "2022-09-09T00:00:00",
          "2022-09-12T00:00:00",
          "2022-09-13T00:00:00",
          "2022-09-14T00:00:00",
          "2022-09-15T00:00:00",
          "2022-09-16T00:00:00",
          "2022-09-19T00:00:00",
          "2022-09-20T00:00:00",
          "2022-09-21T00:00:00",
          "2022-09-22T00:00:00",
          "2022-09-23T00:00:00",
          "2022-09-26T00:00:00",
          "2022-09-27T00:00:00",
          "2022-09-28T00:00:00",
          "2022-09-29T00:00:00",
          "2022-09-30T00:00:00",
          "2022-10-03T00:00:00",
          "2022-10-04T00:00:00",
          "2022-10-05T00:00:00",
          "2022-10-06T00:00:00",
          "2022-10-07T00:00:00",
          "2022-10-10T00:00:00",
          "2022-10-11T00:00:00",
          "2022-10-13T00:00:00",
          "2022-10-14T00:00:00",
          "2022-10-17T00:00:00",
          "2022-10-18T00:00:00",
          "2022-10-19T00:00:00",
          "2022-10-20T00:00:00",
          "2022-10-21T00:00:00",
          "2022-10-24T00:00:00",
          "2022-10-25T00:00:00",
          "2022-10-26T00:00:00",
          "2022-10-27T00:00:00",
          "2022-10-28T00:00:00",
          "2022-10-31T00:00:00",
          "2022-11-01T00:00:00",
          "2022-11-03T00:00:00",
          "2022-11-04T00:00:00",
          "2022-11-07T00:00:00",
          "2022-11-08T00:00:00",
          "2022-11-09T00:00:00",
          "2022-11-10T00:00:00",
          "2022-11-11T00:00:00",
          "2022-11-14T00:00:00",
          "2022-11-16T00:00:00",
          "2022-11-17T00:00:00",
          "2022-11-18T00:00:00",
          "2022-11-21T00:00:00",
          "2022-11-22T00:00:00",
          "2022-11-23T00:00:00",
          "2022-11-24T00:00:00",
          "2022-11-25T00:00:00",
          "2022-11-28T00:00:00",
          "2022-11-29T00:00:00",
          "2022-11-30T00:00:00",
          "2022-12-01T00:00:00",
          "2022-12-02T00:00:00",
          "2022-12-05T00:00:00",
          "2022-12-06T00:00:00",
          "2022-12-07T00:00:00",
          "2022-12-08T00:00:00",
          "2022-12-09T00:00:00",
          "2022-12-12T00:00:00",
          "2022-12-13T00:00:00",
          "2022-12-14T00:00:00",
          "2022-12-15T00:00:00",
          "2022-12-16T00:00:00",
          "2022-12-19T00:00:00",
          "2022-12-20T00:00:00",
          "2022-12-21T00:00:00",
          "2022-12-22T00:00:00",
          "2022-12-23T00:00:00",
          "2022-12-26T00:00:00",
          "2022-12-27T00:00:00",
          "2022-12-28T00:00:00",
          "2022-12-29T00:00:00"
         ],
         "xaxis": "x",
         "y": [
          0.02063769500426149,
          0.02029224393463247,
          0.03870413948796858,
          0.07395164977509516,
          0.06229909786290233,
          0.0747897301413174,
          0.06554376027493469,
          0.073275067025653,
          0.04447250936798408,
          0.06448614189825719,
          0.059030241783857074,
          0.050193243823138944,
          0.037478284444237175,
          0.03601729396360542,
          0.03617701177461252,
          0.03033551363462994,
          0.041068829264740536,
          0.007978720254185001,
          0.027237102696096915,
          0.04578101829087999,
          0.06929645430693854,
          0.06248657148625636,
          0.06897013381454054,
          0.07245576844195178,
          0.06887407269348644,
          0.06832891204660618,
          0.09542296729132338,
          0.10073578063011368,
          0.09257365178626431,
          0.08682042236097853,
          0.08696380534576553,
          0.03594486156800025,
          0.061318990731039635,
          0.06916954257334584,
          0.0297703086780976,
          0.004300297027007183,
          0.00864870903014281,
          0.00541235541813001,
          0.0009317518948079861,
          -0.0025927070026100507,
          0.004847525471124214,
          -0.03739495568266982,
          -0.021941863157467933,
          -0.022447367058167633,
          -0.009153685384973076,
          -0.007742320837670458,
          0.012564792756809773,
          0.007988647362453749,
          0.02035109997842799,
          -0.0018041446833614305,
          0.0047971115572802425,
          -0.00510205690347354,
          -0.017038099988499145,
          -0.027549274275290525,
          -0.016855295262958814,
          -0.006392345027000479,
          -0.0019364892303853631,
          0.01625258708819244,
          0.14656905545051857,
          0.17936346488003307,
          0.1929089485441473,
          0.19101869968773832,
          0.1909262317000926,
          0.19679347483564458,
          0.1830823164524198,
          0.19600904906652028,
          0.19464251688164835,
          0.2052442150786622,
          0.21000944393841614,
          0.20321634794785814,
          0.20605670272338972,
          0.18598491940845818,
          0.17449654225680367,
          0.1884310878404678,
          0.19536040028127655,
          0.2036735802784222,
          0.20543330674960547,
          0.1985281130474239,
          0.1925158195783474,
          0.1829286814993556,
          0.16991449415201365,
          0.18577959060949523,
          0.19922990744666635,
          0.20942250572064247,
          0.2020265509408219,
          0.20899048757627958,
          0.17377111872378204,
          0.17979567889460735,
          0.18822765361068305,
          0.1998104505926006,
          0.2056792108782699,
          0.19148483984116105,
          0.19849529576042135,
          0.1909082477652011,
          0.21168677706501549,
          0.20722907116321987,
          0.20973193067435525,
          0.20849688997100402,
          0.22597976487537652,
          0.2355488220929287,
          0.23978594375258688,
          0.24333146557733265,
          0.2550935270306227,
          0.25727537447121573,
          0.24938907693386425,
          0.24793603266247866,
          0.249719521853218,
          0.242142806205921,
          0.26170376109152116,
          0.2587562720723289,
          0.2421424399860701,
          0.23132739490065823,
          0.24133125475518868,
          0.24982438490474057,
          0.24565402691173643,
          0.24716937427840846,
          0.25607689557335145,
          0.235958815364965,
          0.24604510616831488,
          0.2503081197776458,
          0.24009142780988046,
          0.23177198580162628,
          0.259210037937343,
          0.2512476920256368,
          0.23419358994215123,
          0.2606947274995073,
          0.23478614100411144,
          0.24804921467792052,
          0.24196083493167642,
          0.24327731287141208,
          0.23551741236687174,
          0.2238852454930209,
          0.2063582368350727,
          0.2106859936923533,
          0.21284220626149386,
          0.22645554025253234,
          0.21442400020498176,
          0.22178162580214433,
          0.2059926348195249,
          0.23635041557570347,
          0.22194700316451632,
          0.19197763340708307,
          0.20373629388715142,
          0.20889692697880102,
          0.1941298323434777,
          0.19749947517161393,
          0.20275644040792629,
          0.20664366308973547,
          0.19731951328286357,
          0.19485178142389126,
          0.19633397721855417,
          0.20911709863127892,
          0.17991974346699768,
          0.17615996680846835,
          0.16073358352957623,
          0.17556643361776159,
          0.193415319836288,
          0.19330434438907607,
          0.20652853938053228,
          0.2215378996630537,
          0.21086626349880988,
          0.22856226341846986,
          0.21566980686017834,
          0.18936869498598408,
          0.19364510242230626,
          0.17520751015734626,
          0.17247275543081142,
          0.1812858072218395,
          0.15366056980702436,
          0.18201356712910255,
          0.1757583994811973,
          0.1917844963521378,
          0.1914535235856114,
          0.19865064954135736,
          0.18268987800344827,
          0.16245597711589999,
          0.14115673787682326,
          0.15858283652219973,
          0.1890701011150091,
          0.20181010588326864,
          0.1896691756915152,
          0.18548565344565437,
          0.1663324510807871,
          0.16472947907953617,
          0.16465490148303497,
          0.1788027457839092,
          0.15143370316310745,
          0.14101239620299477,
          0.13671886375499076,
          0.14452871128499933,
          0.17135038239657785,
          0.17341166916006379,
          0.19491784684303082,
          0.1942593438857425,
          0.1905240542084401,
          0.19631280142368812,
          0.1631662553607398,
          0.16069983674065402,
          0.13487481041486515,
          0.1121284153201434,
          0.13846715904282858,
          0.12557966063249149,
          0.11769638881494404,
          0.10944493027998914,
          0.08924361444281348,
          0.10156026036207488,
          0.10985266228826829,
          0.09319931276911775,
          0.0957040416002144,
          0.09332027634249518,
          0.09269800772676207,
          0.08914192971239099,
          0.10316579006780513,
          0.09313681913371497,
          0.07902845996891661,
          0.06793021966771273,
          0.06223545469835168,
          0.07425454438906298,
          0.06545874712910571,
          0.06998801517283737,
          0.0691420835779426,
          0.07942309101149392,
          0.047270620661002516,
          0.05240204180459318,
          0.04404071665808429,
          0.032487581866749826,
          0.06050619292479564,
          0.06131028683787609,
          0.06501459440221802,
          0.09135733796182333,
          0.10342571375198295,
          0.09546927523563564,
          0.10049622887988163,
          0.10210682544680694,
          0.08871251464984287,
          0.09647173737775172,
          0.0979958024903207,
          0.08320706976666292,
          0.06177486728506354,
          0.06714227501947012,
          0.061839111304247796,
          0.054089553348627195,
          0.0547367997176027,
          0.0487459144375173,
          0.03804107978634441,
          0.060659030252330215,
          0.04598797726671111,
          0.036075105398147844,
          -0.000492727268797899,
          0.023942160476926766,
          0.023956612942816147,
          0.0025985303748139454,
          0.01624285130149139,
          0.03398557161751525,
          0.025997006868786032,
          0.04592121855288678,
          0.03828169335790976,
          0.037103290704997516,
          0.04819299185981318,
          0.06726371745308302,
          0.06877402387058096,
          0.05380773322507992,
          0.07382614977524171,
          0.08826261665441493,
          0.10921589595676617,
          0.09669555228640814,
          0.10608350246603537,
          0.11808572707861398,
          0.11006587780812072,
          0.09913328530191623,
          0.10939549621080102,
          0.10369559259939165,
          0.09469817845646422,
          0.10465564313303433,
          0.10085650694530557,
          0.1029897671355835,
          0.11084459489206533,
          0.13972021351017516,
          0.1373226937018588,
          0.12816222072131955,
          0.12011332439997924,
          0.11007471446082207,
          0.1288638819057002,
          0.12226886477442078,
          0.11782190390560388,
          0.13399059024743387,
          0.1499692267509234,
          0.15547805914508106,
          0.1508575424937575,
          0.13091618084111922,
          0.13019513199420407,
          0.15670567456535323,
          0.14715804965986257,
          0.1349527763294025,
          0.13026626035040278,
          0.11854628038695636,
          0.14910058716408403,
          0.16470099892008072,
          0.17661457476789355,
          0.1753383710095422,
          0.18826941617080473,
          0.18938796828222282,
          0.19829326586637497,
          0.19237869475424652,
          0.19715799639383214,
          0.21138384208562222,
          0.22063045879534715,
          0.2343354480996438,
          0.25194213135909327,
          0.25481017433596165,
          0.23218758134949957,
          0.22479149197306825,
          0.2259469443178479,
          0.22416783697964027,
          0.20200023851261295,
          0.19209051590594828,
          0.20030009150725192,
          0.18077484819120837,
          0.1697676678748743,
          0.16764678551638368,
          0.16214608775700823,
          0.13875377214561802,
          0.1351930861283004,
          0.10667622397679599,
          0.12893647090389138,
          0.1297290794002699,
          0.11079357620189478,
          0.0950028773102971,
          0.08932587173081963,
          0.11520769533176423,
          0.07579168556634275,
          0.0629997663559001,
          0.03272738133058395,
          0.032255621917760546,
          0.032239754840039714,
          0.040888685067496544,
          0.04776845877555491,
          0.07734530845997845,
          0.07898474807602152,
          0.060653049140233506,
          0.06117546007924335,
          0.07836390579424313,
          0.09443018052641183,
          0.08632363613063587,
          0.08889484792331981,
          0.10402164249056911,
          0.10292521807424837,
          0.0916421822603275,
          0.09130637219585491,
          0.10282383142540663,
          0.11091103440770134,
          0.09411083162477096,
          0.08381304151765945,
          0.08630103804392264,
          0.06404191854390495,
          0.053601990834493574,
          0.03389952171251753,
          0.016875239527892383,
          0.024438659088524606,
          0.024508614131807605,
          -0.01273167841159717,
          -0.011767990373709347,
          0.005742884576722229,
          0.008665211440770815,
          0.0024759833738809967,
          0.009582449555255002,
          0.024251794430653284,
          0.021726944347013832,
          0.020755874267688323,
          0.021551751110957973,
          0.025052502535116705,
          0.023873605047501467,
          0.028332069931588766,
          0.038515470870105206,
          0.05884557810954094,
          0.04943939083173232,
          0.025454334423131497,
          0.019418410328239766,
          0.021555632917010348,
          0.0012154988361194885,
          0.0018673467020928758,
          -0.001190492430950374,
          0.02173853066977327,
          0.018495018939428398,
          0.025652955147848377,
          0.032122698376658265,
          0.04993571333599833,
          0.04154160537846607,
          0.05907850744905008,
          0.073102806929358,
          0.08208092422345659,
          0.0742486814487826,
          0.0847831137503594,
          0.08235310822030217,
          0.10295722595375412,
          0.10275895209273456,
          0.13509881750276342,
          0.1372523740623124,
          0.1560818280324785,
          0.14673965057694072,
          0.1775748429532893,
          0.17443265356788595,
          0.1716843592861157,
          0.17188921347447583,
          0.18320409684273997,
          0.1579741175703,
          0.13901082182188995,
          0.16038793917747096,
          0.15885232834748964,
          0.15970757391750712,
          0.14158416918614303,
          0.13510985330092518,
          0.11985373747625139,
          0.11510523701185571,
          0.12385169374208371,
          0.13644481050253465,
          0.1532241948966706,
          0.1301528172388442,
          0.1303229226724043,
          0.15652747795886257,
          0.17503210864236873,
          0.1463531294853715,
          0.1482133055504078,
          0.13789588002930642,
          0.1392419496050754,
          0.15287450759094479,
          0.15951035362230281,
          0.15889120036489235,
          0.17427314256566517,
          0.15288441997377067,
          0.13256098815292972,
          0.11400792805831172,
          0.12150608516030625,
          0.11411178918745901,
          0.14548224702051282,
          0.19624732719229288,
          0.19213123666743637,
          0.19846751453071554,
          0.20170936311026266,
          0.1970814793421778,
          0.2000047558853537,
          0.18666281454521716,
          0.18407984273918965,
          0.16235171380025926,
          0.17956660481953235,
          0.1965728002390006,
          0.2066385772147914,
          0.2077108445287259,
          0.22584337903732754,
          0.19681012266690545,
          0.18828308175117647,
          0.20071725223849346,
          0.22128060748692158,
          0.21864212752670364,
          0.2317687767270844,
          0.2303752874440863,
          0.24080779416723708,
          0.25201504905731964,
          0.235435249417822,
          0.24295213528530635,
          0.22983643643891294,
          0.20369073482565603,
          0.23114177684930026,
          0.25044922689347104,
          0.20048228766374865,
          0.19941559655112995,
          0.19000554684982673,
          0.19811272686418824,
          0.18538588040718862,
          0.1871942015277055,
          0.22369075645569514,
          0.19151300405034188,
          0.1845587612663422,
          0.20120957439662268,
          0.2294334488961498,
          0.21052641638817948,
          0.22438854746960324,
          0.18753492837994412,
          0.19508238349046958,
          0.17695037761016974,
          0.16037943676563593,
          0.16174127050783094,
          0.13323244640567422,
          0.11176224914408461,
          0.12366288613621412,
          0.12903880221255304,
          0.12278370315088094,
          0.1470187978275035,
          0.1682774043429165,
          0.17626852543805405,
          0.17888746382542586,
          0.20472163448296876,
          0.19298892201213436,
          0.18874816951107243,
          0.2065127801703146,
          0.20038772068567678
         ],
         "yaxis": "y"
        }
       ],
       "layout": {
        "legend": {
         "tracegroupgap": 0
        },
        "template": {
         "data": {
          "bar": [
           {
            "error_x": {
             "color": "#2a3f5f"
            },
            "error_y": {
             "color": "#2a3f5f"
            },
            "marker": {
             "line": {
              "color": "#E5ECF6",
              "width": 0.5
             },
             "pattern": {
              "fillmode": "overlay",
              "size": 10,
              "solidity": 0.2
             }
            },
            "type": "bar"
           }
          ],
          "barpolar": [
           {
            "marker": {
             "line": {
              "color": "#E5ECF6",
              "width": 0.5
             },
             "pattern": {
              "fillmode": "overlay",
              "size": 10,
              "solidity": 0.2
             }
            },
            "type": "barpolar"
           }
          ],
          "carpet": [
           {
            "aaxis": {
             "endlinecolor": "#2a3f5f",
             "gridcolor": "white",
             "linecolor": "white",
             "minorgridcolor": "white",
             "startlinecolor": "#2a3f5f"
            },
            "baxis": {
             "endlinecolor": "#2a3f5f",
             "gridcolor": "white",
             "linecolor": "white",
             "minorgridcolor": "white",
             "startlinecolor": "#2a3f5f"
            },
            "type": "carpet"
           }
          ],
          "choropleth": [
           {
            "colorbar": {
             "outlinewidth": 0,
             "ticks": ""
            },
            "type": "choropleth"
           }
          ],
          "contour": [
           {
            "colorbar": {
             "outlinewidth": 0,
             "ticks": ""
            },
            "colorscale": [
             [
              0,
              "#0d0887"
             ],
             [
              0.1111111111111111,
              "#46039f"
             ],
             [
              0.2222222222222222,
              "#7201a8"
             ],
             [
              0.3333333333333333,
              "#9c179e"
             ],
             [
              0.4444444444444444,
              "#bd3786"
             ],
             [
              0.5555555555555556,
              "#d8576b"
             ],
             [
              0.6666666666666666,
              "#ed7953"
             ],
             [
              0.7777777777777778,
              "#fb9f3a"
             ],
             [
              0.8888888888888888,
              "#fdca26"
             ],
             [
              1,
              "#f0f921"
             ]
            ],
            "type": "contour"
           }
          ],
          "contourcarpet": [
           {
            "colorbar": {
             "outlinewidth": 0,
             "ticks": ""
            },
            "type": "contourcarpet"
           }
          ],
          "heatmap": [
           {
            "colorbar": {
             "outlinewidth": 0,
             "ticks": ""
            },
            "colorscale": [
             [
              0,
              "#0d0887"
             ],
             [
              0.1111111111111111,
              "#46039f"
             ],
             [
              0.2222222222222222,
              "#7201a8"
             ],
             [
              0.3333333333333333,
              "#9c179e"
             ],
             [
              0.4444444444444444,
              "#bd3786"
             ],
             [
              0.5555555555555556,
              "#d8576b"
             ],
             [
              0.6666666666666666,
              "#ed7953"
             ],
             [
              0.7777777777777778,
              "#fb9f3a"
             ],
             [
              0.8888888888888888,
              "#fdca26"
             ],
             [
              1,
              "#f0f921"
             ]
            ],
            "type": "heatmap"
           }
          ],
          "heatmapgl": [
           {
            "colorbar": {
             "outlinewidth": 0,
             "ticks": ""
            },
            "colorscale": [
             [
              0,
              "#0d0887"
             ],
             [
              0.1111111111111111,
              "#46039f"
             ],
             [
              0.2222222222222222,
              "#7201a8"
             ],
             [
              0.3333333333333333,
              "#9c179e"
             ],
             [
              0.4444444444444444,
              "#bd3786"
             ],
             [
              0.5555555555555556,
              "#d8576b"
             ],
             [
              0.6666666666666666,
              "#ed7953"
             ],
             [
              0.7777777777777778,
              "#fb9f3a"
             ],
             [
              0.8888888888888888,
              "#fdca26"
             ],
             [
              1,
              "#f0f921"
             ]
            ],
            "type": "heatmapgl"
           }
          ],
          "histogram": [
           {
            "marker": {
             "pattern": {
              "fillmode": "overlay",
              "size": 10,
              "solidity": 0.2
             }
            },
            "type": "histogram"
           }
          ],
          "histogram2d": [
           {
            "colorbar": {
             "outlinewidth": 0,
             "ticks": ""
            },
            "colorscale": [
             [
              0,
              "#0d0887"
             ],
             [
              0.1111111111111111,
              "#46039f"
             ],
             [
              0.2222222222222222,
              "#7201a8"
             ],
             [
              0.3333333333333333,
              "#9c179e"
             ],
             [
              0.4444444444444444,
              "#bd3786"
             ],
             [
              0.5555555555555556,
              "#d8576b"
             ],
             [
              0.6666666666666666,
              "#ed7953"
             ],
             [
              0.7777777777777778,
              "#fb9f3a"
             ],
             [
              0.8888888888888888,
              "#fdca26"
             ],
             [
              1,
              "#f0f921"
             ]
            ],
            "type": "histogram2d"
           }
          ],
          "histogram2dcontour": [
           {
            "colorbar": {
             "outlinewidth": 0,
             "ticks": ""
            },
            "colorscale": [
             [
              0,
              "#0d0887"
             ],
             [
              0.1111111111111111,
              "#46039f"
             ],
             [
              0.2222222222222222,
              "#7201a8"
             ],
             [
              0.3333333333333333,
              "#9c179e"
             ],
             [
              0.4444444444444444,
              "#bd3786"
             ],
             [
              0.5555555555555556,
              "#d8576b"
             ],
             [
              0.6666666666666666,
              "#ed7953"
             ],
             [
              0.7777777777777778,
              "#fb9f3a"
             ],
             [
              0.8888888888888888,
              "#fdca26"
             ],
             [
              1,
              "#f0f921"
             ]
            ],
            "type": "histogram2dcontour"
           }
          ],
          "mesh3d": [
           {
            "colorbar": {
             "outlinewidth": 0,
             "ticks": ""
            },
            "type": "mesh3d"
           }
          ],
          "parcoords": [
           {
            "line": {
             "colorbar": {
              "outlinewidth": 0,
              "ticks": ""
             }
            },
            "type": "parcoords"
           }
          ],
          "pie": [
           {
            "automargin": true,
            "type": "pie"
           }
          ],
          "scatter": [
           {
            "fillpattern": {
             "fillmode": "overlay",
             "size": 10,
             "solidity": 0.2
            },
            "type": "scatter"
           }
          ],
          "scatter3d": [
           {
            "line": {
             "colorbar": {
              "outlinewidth": 0,
              "ticks": ""
             }
            },
            "marker": {
             "colorbar": {
              "outlinewidth": 0,
              "ticks": ""
             }
            },
            "type": "scatter3d"
           }
          ],
          "scattercarpet": [
           {
            "marker": {
             "colorbar": {
              "outlinewidth": 0,
              "ticks": ""
             }
            },
            "type": "scattercarpet"
           }
          ],
          "scattergeo": [
           {
            "marker": {
             "colorbar": {
              "outlinewidth": 0,
              "ticks": ""
             }
            },
            "type": "scattergeo"
           }
          ],
          "scattergl": [
           {
            "marker": {
             "colorbar": {
              "outlinewidth": 0,
              "ticks": ""
             }
            },
            "type": "scattergl"
           }
          ],
          "scattermapbox": [
           {
            "marker": {
             "colorbar": {
              "outlinewidth": 0,
              "ticks": ""
             }
            },
            "type": "scattermapbox"
           }
          ],
          "scatterpolar": [
           {
            "marker": {
             "colorbar": {
              "outlinewidth": 0,
              "ticks": ""
             }
            },
            "type": "scatterpolar"
           }
          ],
          "scatterpolargl": [
           {
            "marker": {
             "colorbar": {
              "outlinewidth": 0,
              "ticks": ""
             }
            },
            "type": "scatterpolargl"
           }
          ],
          "scatterternary": [
           {
            "marker": {
             "colorbar": {
              "outlinewidth": 0,
              "ticks": ""
             }
            },
            "type": "scatterternary"
           }
          ],
          "surface": [
           {
            "colorbar": {
             "outlinewidth": 0,
             "ticks": ""
            },
            "colorscale": [
             [
              0,
              "#0d0887"
             ],
             [
              0.1111111111111111,
              "#46039f"
             ],
             [
              0.2222222222222222,
              "#7201a8"
             ],
             [
              0.3333333333333333,
              "#9c179e"
             ],
             [
              0.4444444444444444,
              "#bd3786"
             ],
             [
              0.5555555555555556,
              "#d8576b"
             ],
             [
              0.6666666666666666,
              "#ed7953"
             ],
             [
              0.7777777777777778,
              "#fb9f3a"
             ],
             [
              0.8888888888888888,
              "#fdca26"
             ],
             [
              1,
              "#f0f921"
             ]
            ],
            "type": "surface"
           }
          ],
          "table": [
           {
            "cells": {
             "fill": {
              "color": "#EBF0F8"
             },
             "line": {
              "color": "white"
             }
            },
            "header": {
             "fill": {
              "color": "#C8D4E3"
             },
             "line": {
              "color": "white"
             }
            },
            "type": "table"
           }
          ]
         },
         "layout": {
          "annotationdefaults": {
           "arrowcolor": "#2a3f5f",
           "arrowhead": 0,
           "arrowwidth": 1
          },
          "autotypenumbers": "strict",
          "coloraxis": {
           "colorbar": {
            "outlinewidth": 0,
            "ticks": ""
           }
          },
          "colorscale": {
           "diverging": [
            [
             0,
             "#8e0152"
            ],
            [
             0.1,
             "#c51b7d"
            ],
            [
             0.2,
             "#de77ae"
            ],
            [
             0.3,
             "#f1b6da"
            ],
            [
             0.4,
             "#fde0ef"
            ],
            [
             0.5,
             "#f7f7f7"
            ],
            [
             0.6,
             "#e6f5d0"
            ],
            [
             0.7,
             "#b8e186"
            ],
            [
             0.8,
             "#7fbc41"
            ],
            [
             0.9,
             "#4d9221"
            ],
            [
             1,
             "#276419"
            ]
           ],
           "sequential": [
            [
             0,
             "#0d0887"
            ],
            [
             0.1111111111111111,
             "#46039f"
            ],
            [
             0.2222222222222222,
             "#7201a8"
            ],
            [
             0.3333333333333333,
             "#9c179e"
            ],
            [
             0.4444444444444444,
             "#bd3786"
            ],
            [
             0.5555555555555556,
             "#d8576b"
            ],
            [
             0.6666666666666666,
             "#ed7953"
            ],
            [
             0.7777777777777778,
             "#fb9f3a"
            ],
            [
             0.8888888888888888,
             "#fdca26"
            ],
            [
             1,
             "#f0f921"
            ]
           ],
           "sequentialminus": [
            [
             0,
             "#0d0887"
            ],
            [
             0.1111111111111111,
             "#46039f"
            ],
            [
             0.2222222222222222,
             "#7201a8"
            ],
            [
             0.3333333333333333,
             "#9c179e"
            ],
            [
             0.4444444444444444,
             "#bd3786"
            ],
            [
             0.5555555555555556,
             "#d8576b"
            ],
            [
             0.6666666666666666,
             "#ed7953"
            ],
            [
             0.7777777777777778,
             "#fb9f3a"
            ],
            [
             0.8888888888888888,
             "#fdca26"
            ],
            [
             1,
             "#f0f921"
            ]
           ]
          },
          "colorway": [
           "#636efa",
           "#EF553B",
           "#00cc96",
           "#ab63fa",
           "#FFA15A",
           "#19d3f3",
           "#FF6692",
           "#B6E880",
           "#FF97FF",
           "#FECB52"
          ],
          "font": {
           "color": "#2a3f5f"
          },
          "geo": {
           "bgcolor": "white",
           "lakecolor": "white",
           "landcolor": "#E5ECF6",
           "showlakes": true,
           "showland": true,
           "subunitcolor": "white"
          },
          "hoverlabel": {
           "align": "left"
          },
          "hovermode": "closest",
          "mapbox": {
           "style": "light"
          },
          "paper_bgcolor": "white",
          "plot_bgcolor": "#E5ECF6",
          "polar": {
           "angularaxis": {
            "gridcolor": "white",
            "linecolor": "white",
            "ticks": ""
           },
           "bgcolor": "#E5ECF6",
           "radialaxis": {
            "gridcolor": "white",
            "linecolor": "white",
            "ticks": ""
           }
          },
          "scene": {
           "xaxis": {
            "backgroundcolor": "#E5ECF6",
            "gridcolor": "white",
            "gridwidth": 2,
            "linecolor": "white",
            "showbackground": true,
            "ticks": "",
            "zerolinecolor": "white"
           },
           "yaxis": {
            "backgroundcolor": "#E5ECF6",
            "gridcolor": "white",
            "gridwidth": 2,
            "linecolor": "white",
            "showbackground": true,
            "ticks": "",
            "zerolinecolor": "white"
           },
           "zaxis": {
            "backgroundcolor": "#E5ECF6",
            "gridcolor": "white",
            "gridwidth": 2,
            "linecolor": "white",
            "showbackground": true,
            "ticks": "",
            "zerolinecolor": "white"
           }
          },
          "shapedefaults": {
           "line": {
            "color": "#2a3f5f"
           }
          },
          "ternary": {
           "aaxis": {
            "gridcolor": "white",
            "linecolor": "white",
            "ticks": ""
           },
           "baxis": {
            "gridcolor": "white",
            "linecolor": "white",
            "ticks": ""
           },
           "bgcolor": "#E5ECF6",
           "caxis": {
            "gridcolor": "white",
            "linecolor": "white",
            "ticks": ""
           }
          },
          "title": {
           "x": 0.05
          },
          "xaxis": {
           "automargin": true,
           "gridcolor": "white",
           "linecolor": "white",
           "ticks": "",
           "title": {
            "standoff": 15
           },
           "zerolinecolor": "white",
           "zerolinewidth": 2
          },
          "yaxis": {
           "automargin": true,
           "gridcolor": "white",
           "linecolor": "white",
           "ticks": "",
           "title": {
            "standoff": 15
           },
           "zerolinecolor": "white",
           "zerolinewidth": 2
          }
         }
        },
        "title": {
         "text": "Estratégia otimizada"
        },
        "xaxis": {
         "anchor": "y",
         "domain": [
          0,
          1
         ],
         "title": {
          "text": "Date"
         }
        },
        "yaxis": {
         "anchor": "x",
         "domain": [
          0,
          1
         ],
         "title": {
          "text": "y"
         }
        }
       }
      }
     },
     "metadata": {},
     "output_type": "display_data"
    }
   ],
   "source": [
    "optimized_portfolio = (returns*best_individual).sum(axis=1)  # Soma dos retornos da carteira dia a dia\n",
    "optimized_portfolio = optimized_portfolio + 1\n",
    "optimized_portfolio = optimized_portfolio.cumprod() - 1\n",
    "px.line(optimized_portfolio, title='Estratégia otimizada', x=optimized_portfolio.index, y=optimized_portfolio.values)"
   ]
  },
  {
   "cell_type": "code",
   "execution_count": 75,
   "metadata": {},
   "outputs": [
    {
     "data": {
      "application/vnd.plotly.v1+json": {
       "config": {
        "plotlyServerURL": "https://plot.ly"
       },
       "data": [
        {
         "hovertemplate": "Date=%{x}<br>y=%{y}<extra></extra>",
         "legendgroup": "",
         "line": {
          "color": "#636efa",
          "dash": "solid"
         },
         "marker": {
          "symbol": "circle"
         },
         "mode": "lines",
         "name": "",
         "orientation": "v",
         "showlegend": false,
         "type": "scatter",
         "x": [
          "2021-01-05T00:00:00",
          "2021-01-06T00:00:00",
          "2021-01-07T00:00:00",
          "2021-01-08T00:00:00",
          "2021-01-11T00:00:00",
          "2021-01-12T00:00:00",
          "2021-01-13T00:00:00",
          "2021-01-14T00:00:00",
          "2021-01-15T00:00:00",
          "2021-01-18T00:00:00",
          "2021-01-19T00:00:00",
          "2021-01-20T00:00:00",
          "2021-01-21T00:00:00",
          "2021-01-22T00:00:00",
          "2021-01-26T00:00:00",
          "2021-01-27T00:00:00",
          "2021-01-28T00:00:00",
          "2021-01-29T00:00:00",
          "2021-02-01T00:00:00",
          "2021-02-02T00:00:00",
          "2021-02-03T00:00:00",
          "2021-02-04T00:00:00",
          "2021-02-05T00:00:00",
          "2021-02-08T00:00:00",
          "2021-02-09T00:00:00",
          "2021-02-10T00:00:00",
          "2021-02-11T00:00:00",
          "2021-02-12T00:00:00",
          "2021-02-17T00:00:00",
          "2021-02-18T00:00:00",
          "2021-02-19T00:00:00",
          "2021-02-22T00:00:00",
          "2021-02-23T00:00:00",
          "2021-02-24T00:00:00",
          "2021-02-25T00:00:00",
          "2021-02-26T00:00:00",
          "2021-03-01T00:00:00",
          "2021-03-02T00:00:00",
          "2021-03-03T00:00:00",
          "2021-03-04T00:00:00",
          "2021-03-05T00:00:00",
          "2021-03-08T00:00:00",
          "2021-03-09T00:00:00",
          "2021-03-10T00:00:00",
          "2021-03-11T00:00:00",
          "2021-03-12T00:00:00",
          "2021-03-15T00:00:00",
          "2021-03-16T00:00:00",
          "2021-03-17T00:00:00",
          "2021-03-18T00:00:00",
          "2021-03-19T00:00:00",
          "2021-03-22T00:00:00",
          "2021-03-23T00:00:00",
          "2021-03-24T00:00:00",
          "2021-03-25T00:00:00",
          "2021-03-26T00:00:00",
          "2021-03-29T00:00:00",
          "2021-03-30T00:00:00",
          "2021-03-31T00:00:00",
          "2021-04-01T00:00:00",
          "2021-04-05T00:00:00",
          "2021-04-06T00:00:00",
          "2021-04-07T00:00:00",
          "2021-04-08T00:00:00",
          "2021-04-09T00:00:00",
          "2021-04-12T00:00:00",
          "2021-04-13T00:00:00",
          "2021-04-14T00:00:00",
          "2021-04-15T00:00:00",
          "2021-04-16T00:00:00",
          "2021-04-19T00:00:00",
          "2021-04-20T00:00:00",
          "2021-04-22T00:00:00",
          "2021-04-23T00:00:00",
          "2021-04-26T00:00:00",
          "2021-04-27T00:00:00",
          "2021-04-28T00:00:00",
          "2021-04-29T00:00:00",
          "2021-04-30T00:00:00",
          "2021-05-03T00:00:00",
          "2021-05-04T00:00:00",
          "2021-05-05T00:00:00",
          "2021-05-06T00:00:00",
          "2021-05-07T00:00:00",
          "2021-05-10T00:00:00",
          "2021-05-11T00:00:00",
          "2021-05-12T00:00:00",
          "2021-05-13T00:00:00",
          "2021-05-14T00:00:00",
          "2021-05-17T00:00:00",
          "2021-05-18T00:00:00",
          "2021-05-19T00:00:00",
          "2021-05-20T00:00:00",
          "2021-05-21T00:00:00",
          "2021-05-24T00:00:00",
          "2021-05-25T00:00:00",
          "2021-05-26T00:00:00",
          "2021-05-27T00:00:00",
          "2021-05-28T00:00:00",
          "2021-05-31T00:00:00",
          "2021-06-01T00:00:00",
          "2021-06-02T00:00:00",
          "2021-06-04T00:00:00",
          "2021-06-07T00:00:00",
          "2021-06-08T00:00:00",
          "2021-06-09T00:00:00",
          "2021-06-10T00:00:00",
          "2021-06-11T00:00:00",
          "2021-06-14T00:00:00",
          "2021-06-15T00:00:00",
          "2021-06-16T00:00:00",
          "2021-06-17T00:00:00",
          "2021-06-18T00:00:00",
          "2021-06-21T00:00:00",
          "2021-06-22T00:00:00",
          "2021-06-23T00:00:00",
          "2021-06-24T00:00:00",
          "2021-06-25T00:00:00",
          "2021-06-28T00:00:00",
          "2021-06-29T00:00:00",
          "2021-06-30T00:00:00",
          "2021-07-01T00:00:00",
          "2021-07-02T00:00:00",
          "2021-07-05T00:00:00",
          "2021-07-06T00:00:00",
          "2021-07-07T00:00:00",
          "2021-07-08T00:00:00",
          "2021-07-12T00:00:00",
          "2021-07-13T00:00:00",
          "2021-07-14T00:00:00",
          "2021-07-15T00:00:00",
          "2021-07-16T00:00:00",
          "2021-07-19T00:00:00",
          "2021-07-20T00:00:00",
          "2021-07-21T00:00:00",
          "2021-07-22T00:00:00",
          "2021-07-23T00:00:00",
          "2021-07-26T00:00:00",
          "2021-07-27T00:00:00",
          "2021-07-28T00:00:00",
          "2021-07-29T00:00:00",
          "2021-07-30T00:00:00",
          "2021-08-02T00:00:00",
          "2021-08-03T00:00:00",
          "2021-08-04T00:00:00",
          "2021-08-05T00:00:00",
          "2021-08-06T00:00:00",
          "2021-08-09T00:00:00",
          "2021-08-10T00:00:00",
          "2021-08-11T00:00:00",
          "2021-08-12T00:00:00",
          "2021-08-13T00:00:00",
          "2021-08-16T00:00:00",
          "2021-08-17T00:00:00",
          "2021-08-18T00:00:00",
          "2021-08-19T00:00:00",
          "2021-08-20T00:00:00",
          "2021-08-23T00:00:00",
          "2021-08-24T00:00:00",
          "2021-08-25T00:00:00",
          "2021-08-26T00:00:00",
          "2021-08-27T00:00:00",
          "2021-08-30T00:00:00",
          "2021-08-31T00:00:00",
          "2021-09-01T00:00:00",
          "2021-09-02T00:00:00",
          "2021-09-03T00:00:00",
          "2021-09-06T00:00:00",
          "2021-09-08T00:00:00",
          "2021-09-09T00:00:00",
          "2021-09-10T00:00:00",
          "2021-09-13T00:00:00",
          "2021-09-14T00:00:00",
          "2021-09-15T00:00:00",
          "2021-09-16T00:00:00",
          "2021-09-17T00:00:00",
          "2021-09-20T00:00:00",
          "2021-09-21T00:00:00",
          "2021-09-22T00:00:00",
          "2021-09-23T00:00:00",
          "2021-09-24T00:00:00",
          "2021-09-27T00:00:00",
          "2021-09-28T00:00:00",
          "2021-09-29T00:00:00",
          "2021-09-30T00:00:00",
          "2021-10-01T00:00:00",
          "2021-10-04T00:00:00",
          "2021-10-05T00:00:00",
          "2021-10-06T00:00:00",
          "2021-10-07T00:00:00",
          "2021-10-08T00:00:00",
          "2021-10-11T00:00:00",
          "2021-10-13T00:00:00",
          "2021-10-14T00:00:00",
          "2021-10-15T00:00:00",
          "2021-10-18T00:00:00",
          "2021-10-19T00:00:00",
          "2021-10-20T00:00:00",
          "2021-10-21T00:00:00",
          "2021-10-22T00:00:00",
          "2021-10-25T00:00:00",
          "2021-10-26T00:00:00",
          "2021-10-27T00:00:00",
          "2021-10-28T00:00:00",
          "2021-10-29T00:00:00",
          "2021-11-01T00:00:00",
          "2021-11-03T00:00:00",
          "2021-11-04T00:00:00",
          "2021-11-05T00:00:00",
          "2021-11-08T00:00:00",
          "2021-11-09T00:00:00",
          "2021-11-10T00:00:00",
          "2021-11-11T00:00:00",
          "2021-11-12T00:00:00",
          "2021-11-16T00:00:00",
          "2021-11-17T00:00:00",
          "2021-11-18T00:00:00",
          "2021-11-19T00:00:00",
          "2021-11-22T00:00:00",
          "2021-11-23T00:00:00",
          "2021-11-24T00:00:00",
          "2021-11-25T00:00:00",
          "2021-11-26T00:00:00",
          "2021-11-29T00:00:00",
          "2021-11-30T00:00:00",
          "2021-12-01T00:00:00",
          "2021-12-02T00:00:00",
          "2021-12-03T00:00:00",
          "2021-12-06T00:00:00",
          "2021-12-07T00:00:00",
          "2021-12-08T00:00:00",
          "2021-12-09T00:00:00",
          "2021-12-10T00:00:00",
          "2021-12-13T00:00:00",
          "2021-12-14T00:00:00",
          "2021-12-15T00:00:00",
          "2021-12-16T00:00:00",
          "2021-12-17T00:00:00",
          "2021-12-20T00:00:00",
          "2021-12-21T00:00:00",
          "2021-12-22T00:00:00",
          "2021-12-23T00:00:00",
          "2021-12-27T00:00:00",
          "2021-12-28T00:00:00",
          "2021-12-29T00:00:00",
          "2021-12-30T00:00:00",
          "2022-01-03T00:00:00",
          "2022-01-04T00:00:00",
          "2022-01-05T00:00:00",
          "2022-01-06T00:00:00",
          "2022-01-07T00:00:00",
          "2022-01-10T00:00:00",
          "2022-01-11T00:00:00",
          "2022-01-12T00:00:00",
          "2022-01-13T00:00:00",
          "2022-01-14T00:00:00",
          "2022-01-17T00:00:00",
          "2022-01-18T00:00:00",
          "2022-01-19T00:00:00",
          "2022-01-20T00:00:00",
          "2022-01-21T00:00:00",
          "2022-01-24T00:00:00",
          "2022-01-25T00:00:00",
          "2022-01-26T00:00:00",
          "2022-01-27T00:00:00",
          "2022-01-28T00:00:00",
          "2022-01-31T00:00:00",
          "2022-02-01T00:00:00",
          "2022-02-02T00:00:00",
          "2022-02-03T00:00:00",
          "2022-02-04T00:00:00",
          "2022-02-07T00:00:00",
          "2022-02-08T00:00:00",
          "2022-02-09T00:00:00",
          "2022-02-10T00:00:00",
          "2022-02-11T00:00:00",
          "2022-02-14T00:00:00",
          "2022-02-15T00:00:00",
          "2022-02-16T00:00:00",
          "2022-02-17T00:00:00",
          "2022-02-18T00:00:00",
          "2022-02-21T00:00:00",
          "2022-02-22T00:00:00",
          "2022-02-23T00:00:00",
          "2022-02-24T00:00:00",
          "2022-02-25T00:00:00",
          "2022-03-02T00:00:00",
          "2022-03-03T00:00:00",
          "2022-03-04T00:00:00",
          "2022-03-07T00:00:00",
          "2022-03-08T00:00:00",
          "2022-03-09T00:00:00",
          "2022-03-10T00:00:00",
          "2022-03-11T00:00:00",
          "2022-03-14T00:00:00",
          "2022-03-15T00:00:00",
          "2022-03-16T00:00:00",
          "2022-03-17T00:00:00",
          "2022-03-18T00:00:00",
          "2022-03-21T00:00:00",
          "2022-03-22T00:00:00",
          "2022-03-23T00:00:00",
          "2022-03-24T00:00:00",
          "2022-03-25T00:00:00",
          "2022-03-28T00:00:00",
          "2022-03-29T00:00:00",
          "2022-03-30T00:00:00",
          "2022-03-31T00:00:00",
          "2022-04-01T00:00:00",
          "2022-04-04T00:00:00",
          "2022-04-05T00:00:00",
          "2022-04-06T00:00:00",
          "2022-04-07T00:00:00",
          "2022-04-08T00:00:00",
          "2022-04-11T00:00:00",
          "2022-04-12T00:00:00",
          "2022-04-13T00:00:00",
          "2022-04-14T00:00:00",
          "2022-04-18T00:00:00",
          "2022-04-19T00:00:00",
          "2022-04-20T00:00:00",
          "2022-04-22T00:00:00",
          "2022-04-25T00:00:00",
          "2022-04-26T00:00:00",
          "2022-04-27T00:00:00",
          "2022-04-28T00:00:00",
          "2022-04-29T00:00:00",
          "2022-05-02T00:00:00",
          "2022-05-03T00:00:00",
          "2022-05-04T00:00:00",
          "2022-05-05T00:00:00",
          "2022-05-06T00:00:00",
          "2022-05-09T00:00:00",
          "2022-05-10T00:00:00",
          "2022-05-11T00:00:00",
          "2022-05-12T00:00:00",
          "2022-05-13T00:00:00",
          "2022-05-16T00:00:00",
          "2022-05-17T00:00:00",
          "2022-05-18T00:00:00",
          "2022-05-19T00:00:00",
          "2022-05-20T00:00:00",
          "2022-05-23T00:00:00",
          "2022-05-24T00:00:00",
          "2022-05-25T00:00:00",
          "2022-05-26T00:00:00",
          "2022-05-27T00:00:00",
          "2022-05-30T00:00:00",
          "2022-05-31T00:00:00",
          "2022-06-01T00:00:00",
          "2022-06-02T00:00:00",
          "2022-06-03T00:00:00",
          "2022-06-06T00:00:00",
          "2022-06-07T00:00:00",
          "2022-06-08T00:00:00",
          "2022-06-09T00:00:00",
          "2022-06-10T00:00:00",
          "2022-06-13T00:00:00",
          "2022-06-14T00:00:00",
          "2022-06-15T00:00:00",
          "2022-06-17T00:00:00",
          "2022-06-20T00:00:00",
          "2022-06-21T00:00:00",
          "2022-06-22T00:00:00",
          "2022-06-23T00:00:00",
          "2022-06-24T00:00:00",
          "2022-06-27T00:00:00",
          "2022-06-28T00:00:00",
          "2022-06-29T00:00:00",
          "2022-06-30T00:00:00",
          "2022-07-01T00:00:00",
          "2022-07-04T00:00:00",
          "2022-07-05T00:00:00",
          "2022-07-06T00:00:00",
          "2022-07-07T00:00:00",
          "2022-07-08T00:00:00",
          "2022-07-11T00:00:00",
          "2022-07-12T00:00:00",
          "2022-07-13T00:00:00",
          "2022-07-14T00:00:00",
          "2022-07-15T00:00:00",
          "2022-07-18T00:00:00",
          "2022-07-19T00:00:00",
          "2022-07-20T00:00:00",
          "2022-07-21T00:00:00",
          "2022-07-22T00:00:00",
          "2022-07-25T00:00:00",
          "2022-07-26T00:00:00",
          "2022-07-27T00:00:00",
          "2022-07-28T00:00:00",
          "2022-07-29T00:00:00",
          "2022-08-01T00:00:00",
          "2022-08-02T00:00:00",
          "2022-08-03T00:00:00",
          "2022-08-04T00:00:00",
          "2022-08-05T00:00:00",
          "2022-08-08T00:00:00",
          "2022-08-09T00:00:00",
          "2022-08-10T00:00:00",
          "2022-08-11T00:00:00",
          "2022-08-12T00:00:00",
          "2022-08-15T00:00:00",
          "2022-08-16T00:00:00",
          "2022-08-17T00:00:00",
          "2022-08-18T00:00:00",
          "2022-08-19T00:00:00",
          "2022-08-22T00:00:00",
          "2022-08-23T00:00:00",
          "2022-08-24T00:00:00",
          "2022-08-25T00:00:00",
          "2022-08-26T00:00:00",
          "2022-08-29T00:00:00",
          "2022-08-30T00:00:00",
          "2022-08-31T00:00:00",
          "2022-09-01T00:00:00",
          "2022-09-02T00:00:00",
          "2022-09-05T00:00:00",
          "2022-09-06T00:00:00",
          "2022-09-08T00:00:00",
          "2022-09-09T00:00:00",
          "2022-09-12T00:00:00",
          "2022-09-13T00:00:00",
          "2022-09-14T00:00:00",
          "2022-09-15T00:00:00",
          "2022-09-16T00:00:00",
          "2022-09-19T00:00:00",
          "2022-09-20T00:00:00",
          "2022-09-21T00:00:00",
          "2022-09-22T00:00:00",
          "2022-09-23T00:00:00",
          "2022-09-26T00:00:00",
          "2022-09-27T00:00:00",
          "2022-09-28T00:00:00",
          "2022-09-29T00:00:00",
          "2022-09-30T00:00:00",
          "2022-10-03T00:00:00",
          "2022-10-04T00:00:00",
          "2022-10-05T00:00:00",
          "2022-10-06T00:00:00",
          "2022-10-07T00:00:00",
          "2022-10-10T00:00:00",
          "2022-10-11T00:00:00",
          "2022-10-13T00:00:00",
          "2022-10-14T00:00:00",
          "2022-10-17T00:00:00",
          "2022-10-18T00:00:00",
          "2022-10-19T00:00:00",
          "2022-10-20T00:00:00",
          "2022-10-21T00:00:00",
          "2022-10-24T00:00:00",
          "2022-10-25T00:00:00",
          "2022-10-26T00:00:00",
          "2022-10-27T00:00:00",
          "2022-10-28T00:00:00",
          "2022-10-31T00:00:00",
          "2022-11-01T00:00:00",
          "2022-11-03T00:00:00",
          "2022-11-04T00:00:00",
          "2022-11-07T00:00:00",
          "2022-11-08T00:00:00",
          "2022-11-09T00:00:00",
          "2022-11-10T00:00:00",
          "2022-11-11T00:00:00",
          "2022-11-14T00:00:00",
          "2022-11-16T00:00:00",
          "2022-11-17T00:00:00",
          "2022-11-18T00:00:00",
          "2022-11-21T00:00:00",
          "2022-11-22T00:00:00",
          "2022-11-23T00:00:00",
          "2022-11-24T00:00:00",
          "2022-11-25T00:00:00",
          "2022-11-28T00:00:00",
          "2022-11-29T00:00:00",
          "2022-11-30T00:00:00",
          "2022-12-01T00:00:00",
          "2022-12-02T00:00:00",
          "2022-12-05T00:00:00",
          "2022-12-06T00:00:00",
          "2022-12-07T00:00:00",
          "2022-12-08T00:00:00",
          "2022-12-09T00:00:00",
          "2022-12-12T00:00:00",
          "2022-12-13T00:00:00",
          "2022-12-14T00:00:00",
          "2022-12-15T00:00:00",
          "2022-12-16T00:00:00",
          "2022-12-19T00:00:00",
          "2022-12-20T00:00:00",
          "2022-12-21T00:00:00",
          "2022-12-22T00:00:00",
          "2022-12-23T00:00:00",
          "2022-12-26T00:00:00",
          "2022-12-27T00:00:00",
          "2022-12-28T00:00:00",
          "2022-12-29T00:00:00"
         ],
         "xaxis": "x",
         "y": [
          0.009131634415721068,
          0.005418117477803186,
          0.01675633697489176,
          0.04742030349102633,
          0.0349028183078095,
          0.04877149007027093,
          0.039494152125725934,
          0.05283663156191021,
          0.02611135317629043,
          0.035905380347843074,
          0.03154234976656278,
          0.02334872875178351,
          0.005923928268225298,
          -0.0021026176517259243,
          -0.00875455461655561,
          -0.013027511407768588,
          0.0031263048507979008,
          -0.026533725307332223,
          -0.001952718709600676,
          0.01640264721774143,
          0.03380833319013998,
          0.031840797774542295,
          0.03713218459738443,
          0.03394278691363639,
          0.03266964999028077,
          0.027694205756944923,
          0.051061937049601935,
          0.05637096066461367,
          0.05312642458386807,
          0.04423887123031345,
          0.04475698699707498,
          -0.004139058484822766,
          0.02805939734092111,
          0.032357311374143105,
          0.002179238900151814,
          -0.021850353356216545,
          -0.02380507323825798,
          -0.022009519393514365,
          -0.02371393666591315,
          -0.016793834214361314,
          -0.00921599290483277,
          -0.04935958472122448,
          -0.03698298724897453,
          -0.037080283164261374,
          -0.024600580452283305,
          -0.021432805810443045,
          -0.0023043925603407622,
          -0.007779896396949093,
          0.008517501075106182,
          -0.009219022310314351,
          -0.0021368566094995822,
          -0.010999139319377238,
          -0.024145051368036463,
          -0.03794651496921253,
          -0.023233133455655697,
          -0.01595738369773414,
          -0.012622592829393264,
          0.003919566869295954,
          0.1236770257353823,
          0.14776190736367445,
          0.15830013254665465,
          0.15865503441064832,
          0.1592112568948365,
          0.16475665295932673,
          0.15340114688304896,
          0.16667977595844796,
          0.16710556065616577,
          0.17391275878995138,
          0.17447860682833616,
          0.17580784481904232,
          0.17561556614816332,
          0.16021053103590455,
          0.15233622076181397,
          0.16377790744943077,
          0.17094223800859676,
          0.17481352491058155,
          0.1841924982249863,
          0.17848222569853767,
          0.17788367932988214,
          0.17162858987415985,
          0.15292103453736305,
          0.16682674139941556,
          0.1893485484031816,
          0.20444279209315086,
          0.2031865044437191,
          0.21201841845049252,
          0.17977998341692203,
          0.1905249596121128,
          0.1999244492211374,
          0.2112471245115215,
          0.21621349316852467,
          0.21107748335431875,
          0.21715011939900686,
          0.21356131330550432,
          0.23009819726647462,
          0.22682270582068886,
          0.2284559706981344,
          0.22512663940055178,
          0.2359880928194653,
          0.2458218719865044,
          0.25818654522885276,
          0.2695649223022547,
          0.28271601314211803,
          0.2896884647801985,
          0.2798654568859038,
          0.2766220663581038,
          0.28032292794857283,
          0.26683168572700233,
          0.28411704504329305,
          0.27893608084145116,
          0.2686350714860415,
          0.25716248490044524,
          0.2635842187919244,
          0.273858820938534,
          0.2713465351069497,
          0.26942941346018423,
          0.2757400426189305,
          0.2497177500236103,
          0.2598676491668368,
          0.25699148402985017,
          0.2471916916475052,
          0.23806457879104537,
          0.26205495510303356,
          0.255169952642585,
          0.23801861582910688,
          0.2604691932722156,
          0.23827649699961873,
          0.25006895931327366,
          0.24614806225606078,
          0.2518646819108834,
          0.24272946298974363,
          0.23265241424103444,
          0.213748116293071,
          0.21699735266198106,
          0.2187474004772425,
          0.229811007564666,
          0.21672888318191585,
          0.22391660185852236,
          0.21200615396896105,
          0.23349089453092597,
          0.22326396249651959,
          0.19298339312029889,
          0.20174425122058048,
          0.2077015858120952,
          0.18949123243189336,
          0.1918298407966046,
          0.20136999000720834,
          0.20627259367002115,
          0.1924150741170858,
          0.19067547583213207,
          0.19236874020438122,
          0.2039950011330811,
          0.1778277049413559,
          0.17191566192564456,
          0.1646140085318888,
          0.17886266553647556,
          0.19485241957347865,
          0.1947229894190634,
          0.21181412032488978,
          0.2237036382196187,
          0.20696710049413558,
          0.2238651559031395,
          0.20969592850013807,
          0.18847228249242587,
          0.19233970499159403,
          0.16842487189054856,
          0.16550544553594815,
          0.17977546550830947,
          0.1426844073173239,
          0.16611260820054352,
          0.1582118135894537,
          0.17710057655024736,
          0.176511819461729,
          0.17820628510008607,
          0.16586370718300625,
          0.14747963341550485,
          0.12633211006941902,
          0.1410795993587346,
          0.16598726569038047,
          0.18188603672650516,
          0.1693232425108515,
          0.16790423454274972,
          0.14823709294185838,
          0.14935687246437368,
          0.14880138227002693,
          0.16392522308247814,
          0.11880939777028843,
          0.11554372102895738,
          0.11046666811249839,
          0.1142693058403561,
          0.13922677040397957,
          0.13817278385468557,
          0.15498585690807087,
          0.15518819663498262,
          0.15453917337950318,
          0.16203311258490283,
          0.12860250405380502,
          0.12509682536283284,
          0.09727399535771886,
          0.07093162145838994,
          0.09647522678977838,
          0.08094631462353918,
          0.0784629484769983,
          0.07817460372659313,
          0.059789522846366294,
          0.07623764242842967,
          0.09139952606266633,
          0.06604454082409705,
          0.07193003262318531,
          0.06676336033242491,
          0.06982550711349367,
          0.07178517026908593,
          0.08376321176119039,
          0.0742798661169295,
          0.059056779136604565,
          0.04496795269042697,
          0.040773926902652136,
          0.05181593677677454,
          0.04197148157655817,
          0.04869403916819781,
          0.049149021759635536,
          0.060181686769295695,
          0.030192747455055846,
          0.033383125514418355,
          0.02268314106982472,
          0.008491143715670946,
          0.03853167042960748,
          0.04162699662254066,
          0.04326784837737385,
          0.059957039723244065,
          0.06626727929323706,
          0.05227528078380406,
          0.06262885104174476,
          0.062434931497049595,
          0.049453248705751296,
          0.05526908023503396,
          0.05334915481333691,
          0.04144179924284286,
          0.02171839534837061,
          0.025907600040185663,
          0.02226458979422974,
          0.01604184740610326,
          0.019979334761265122,
          0.014937009314255123,
          0.004227900539054863,
          0.023514578389226992,
          0.012444106832240731,
          0.004457407088345633,
          -0.027445748657129232,
          -0.004852522642861623,
          -0.005414385455589921,
          -0.022803341438139002,
          -0.009581584427336143,
          0.004452297181275933,
          0.0034114539391676413,
          0.014819974958083959,
          0.0075148009698484675,
          0.0038588881654195717,
          0.015445423222265164,
          0.03464840125789381,
          0.040382688845240544,
          0.027464224001796378,
          0.050803373948714814,
          0.06540903946566456,
          0.07970819568371645,
          0.0731952747111888,
          0.08366415587694553,
          0.09151763479063857,
          0.08065082691385861,
          0.07632891246627538,
          0.08366607584343289,
          0.07488605286237449,
          0.06946292708279644,
          0.07857010068667769,
          0.07873085704749672,
          0.08672050192596381,
          0.09157374515168648,
          0.11900955003825398,
          0.11916290065993373,
          0.11243871300603248,
          0.1074316243354223,
          0.09229553613795671,
          0.11304268668127548,
          0.11367284817561507,
          0.10087499985417558,
          0.11642045168301607,
          0.11945325389569339,
          0.12055664022017498,
          0.1103119498675893,
          0.08561962212506868,
          0.08466277638384878,
          0.1167389371682972,
          0.10579942294359235,
          0.0932779493861553,
          0.09407977985843541,
          0.08906020667167924,
          0.11309445598732304,
          0.12597075504840993,
          0.1391136588504407,
          0.13911097974214393,
          0.15619900116916452,
          0.15640326771262325,
          0.1653971361916704,
          0.1631124699163886,
          0.16653025155116352,
          0.18250041844668496,
          0.18729882939096942,
          0.1980385243775502,
          0.21578944647447518,
          0.2184492578267856,
          0.19428347415886682,
          0.18834073772280724,
          0.1903534480486626,
          0.19139815247712488,
          0.1763956007713554,
          0.16677146978520474,
          0.17473026469855357,
          0.158054010329286,
          0.1499324675708562,
          0.14687784520356262,
          0.14658978576833293,
          0.12249976548329689,
          0.12495012417317675,
          0.09547626864341452,
          0.1076332770883004,
          0.10844307086559346,
          0.09103319687896394,
          0.0777255485763888,
          0.0742706131909836,
          0.09873058751551311,
          0.05914819982811026,
          0.05062500425329031,
          0.026623180252399292,
          0.029272689591720136,
          0.02949782417967084,
          0.042005640525708765,
          0.05086961043230742,
          0.08128675157555199,
          0.08424157654556352,
          0.06591487654562589,
          0.06994925974764366,
          0.084260762824524,
          0.09632573313416803,
          0.09408290809172803,
          0.09932919066946377,
          0.11353024867739525,
          0.1117962469503675,
          0.09923611649419617,
          0.10143641888067556,
          0.10594716802247461,
          0.11350830372369503,
          0.09555255828114029,
          0.08362185245717146,
          0.08375368002771588,
          0.07008612724006569,
          0.06196520981795328,
          0.03840691861487233,
          0.020384482654856484,
          0.0257318220632623,
          0.030105156673747357,
          0.003139467629521775,
          0.0031073083214836483,
          0.01469008385475079,
          0.01703282198154099,
          0.009491625260545922,
          0.014730233748849075,
          0.0300275972866908,
          0.02355081849314633,
          0.02445153399080291,
          0.0234741513861787,
          0.028662405076484543,
          0.025621419870138107,
          0.029402903837207006,
          0.03830228999502583,
          0.05682896738330445,
          0.04952474789434014,
          0.02599009532090757,
          0.02075833245607872,
          0.024841211880261005,
          0.010376230980658319,
          0.009436281040231531,
          0.007893262035053139,
          0.02973802487173094,
          0.03100993402943919,
          0.044297776172744996,
          0.04647437866247173,
          0.06186122161203489,
          0.053693465118811234,
          0.07083001657338439,
          0.07987955429671412,
          0.08778364825862739,
          0.08140373910779886,
          0.09037014841331992,
          0.092619124728472,
          0.11640514192288509,
          0.11556348915973902,
          0.1453414972887599,
          0.14747708690996753,
          0.1642036094967121,
          0.1539997876121708,
          0.18038488645192619,
          0.18750025382215108,
          0.181458823576083,
          0.1842585833671606,
          0.19407087140997303,
          0.17127356861997778,
          0.15267829280821754,
          0.1706648560417654,
          0.17298908656844803,
          0.17206172659493335,
          0.15280994641677692,
          0.14864977334055185,
          0.13559103554958885,
          0.12879481735021736,
          0.14081151333558828,
          0.14629347104605972,
          0.1604592644559253,
          0.1389444200162988,
          0.13750361301379566,
          0.16010960850202705,
          0.1748186543608128,
          0.15138488704307718,
          0.15304323325854918,
          0.14201223028081333,
          0.13980615681001396,
          0.15562371767636574,
          0.16613628581782014,
          0.16449279107019188,
          0.18440148847694093,
          0.16509807238910446,
          0.14026451552459251,
          0.12142930022683496,
          0.1264521292286378,
          0.1203907401890878,
          0.1399487344570225,
          0.19327194714207274,
          0.18866546215237312,
          0.19057444960768866,
          0.19581468923527168,
          0.1884956510448379,
          0.18853452475661925,
          0.17582999295033375,
          0.17365295599734587,
          0.1542073666329753,
          0.17172158069644095,
          0.18775031812205234,
          0.1974833610761353,
          0.1995770308540632,
          0.21849115813058284,
          0.1891991326956477,
          0.17793132542971057,
          0.1729687817190504,
          0.19798974671661962,
          0.20371588639746507,
          0.22224416955534632,
          0.22346547283422313,
          0.23394802724517794,
          0.24284367154618325,
          0.22029525620887425,
          0.22701564582384282,
          0.21000068018089868,
          0.17878145465226236,
          0.19194710469212994,
          0.20595455057804268,
          0.1594883143467174,
          0.1548930600467302,
          0.15035622764407042,
          0.16102522607972314,
          0.14874046389264506,
          0.14900671493374218,
          0.18697226892007035,
          0.15198821332831947,
          0.14884000694224642,
          0.16284818427001713,
          0.1842396411357894,
          0.16764796995573095,
          0.17959396051649335,
          0.14215159547120937,
          0.15028916953722415,
          0.1371375810683051,
          0.11465963609876773,
          0.11054709420227882,
          0.08639609496218847,
          0.06253324951076356,
          0.0713203753448306,
          0.07420005464128598,
          0.0660989194300432,
          0.09353058851220841,
          0.11467798002945284,
          0.12218287599673472,
          0.12232888100265615,
          0.15083665748047625,
          0.1383940276381901,
          0.1309848264517539,
          0.1487750723710981,
          0.14177543570147555
         ],
         "yaxis": "y"
        }
       ],
       "layout": {
        "legend": {
         "tracegroupgap": 0
        },
        "template": {
         "data": {
          "bar": [
           {
            "error_x": {
             "color": "#2a3f5f"
            },
            "error_y": {
             "color": "#2a3f5f"
            },
            "marker": {
             "line": {
              "color": "#E5ECF6",
              "width": 0.5
             },
             "pattern": {
              "fillmode": "overlay",
              "size": 10,
              "solidity": 0.2
             }
            },
            "type": "bar"
           }
          ],
          "barpolar": [
           {
            "marker": {
             "line": {
              "color": "#E5ECF6",
              "width": 0.5
             },
             "pattern": {
              "fillmode": "overlay",
              "size": 10,
              "solidity": 0.2
             }
            },
            "type": "barpolar"
           }
          ],
          "carpet": [
           {
            "aaxis": {
             "endlinecolor": "#2a3f5f",
             "gridcolor": "white",
             "linecolor": "white",
             "minorgridcolor": "white",
             "startlinecolor": "#2a3f5f"
            },
            "baxis": {
             "endlinecolor": "#2a3f5f",
             "gridcolor": "white",
             "linecolor": "white",
             "minorgridcolor": "white",
             "startlinecolor": "#2a3f5f"
            },
            "type": "carpet"
           }
          ],
          "choropleth": [
           {
            "colorbar": {
             "outlinewidth": 0,
             "ticks": ""
            },
            "type": "choropleth"
           }
          ],
          "contour": [
           {
            "colorbar": {
             "outlinewidth": 0,
             "ticks": ""
            },
            "colorscale": [
             [
              0,
              "#0d0887"
             ],
             [
              0.1111111111111111,
              "#46039f"
             ],
             [
              0.2222222222222222,
              "#7201a8"
             ],
             [
              0.3333333333333333,
              "#9c179e"
             ],
             [
              0.4444444444444444,
              "#bd3786"
             ],
             [
              0.5555555555555556,
              "#d8576b"
             ],
             [
              0.6666666666666666,
              "#ed7953"
             ],
             [
              0.7777777777777778,
              "#fb9f3a"
             ],
             [
              0.8888888888888888,
              "#fdca26"
             ],
             [
              1,
              "#f0f921"
             ]
            ],
            "type": "contour"
           }
          ],
          "contourcarpet": [
           {
            "colorbar": {
             "outlinewidth": 0,
             "ticks": ""
            },
            "type": "contourcarpet"
           }
          ],
          "heatmap": [
           {
            "colorbar": {
             "outlinewidth": 0,
             "ticks": ""
            },
            "colorscale": [
             [
              0,
              "#0d0887"
             ],
             [
              0.1111111111111111,
              "#46039f"
             ],
             [
              0.2222222222222222,
              "#7201a8"
             ],
             [
              0.3333333333333333,
              "#9c179e"
             ],
             [
              0.4444444444444444,
              "#bd3786"
             ],
             [
              0.5555555555555556,
              "#d8576b"
             ],
             [
              0.6666666666666666,
              "#ed7953"
             ],
             [
              0.7777777777777778,
              "#fb9f3a"
             ],
             [
              0.8888888888888888,
              "#fdca26"
             ],
             [
              1,
              "#f0f921"
             ]
            ],
            "type": "heatmap"
           }
          ],
          "heatmapgl": [
           {
            "colorbar": {
             "outlinewidth": 0,
             "ticks": ""
            },
            "colorscale": [
             [
              0,
              "#0d0887"
             ],
             [
              0.1111111111111111,
              "#46039f"
             ],
             [
              0.2222222222222222,
              "#7201a8"
             ],
             [
              0.3333333333333333,
              "#9c179e"
             ],
             [
              0.4444444444444444,
              "#bd3786"
             ],
             [
              0.5555555555555556,
              "#d8576b"
             ],
             [
              0.6666666666666666,
              "#ed7953"
             ],
             [
              0.7777777777777778,
              "#fb9f3a"
             ],
             [
              0.8888888888888888,
              "#fdca26"
             ],
             [
              1,
              "#f0f921"
             ]
            ],
            "type": "heatmapgl"
           }
          ],
          "histogram": [
           {
            "marker": {
             "pattern": {
              "fillmode": "overlay",
              "size": 10,
              "solidity": 0.2
             }
            },
            "type": "histogram"
           }
          ],
          "histogram2d": [
           {
            "colorbar": {
             "outlinewidth": 0,
             "ticks": ""
            },
            "colorscale": [
             [
              0,
              "#0d0887"
             ],
             [
              0.1111111111111111,
              "#46039f"
             ],
             [
              0.2222222222222222,
              "#7201a8"
             ],
             [
              0.3333333333333333,
              "#9c179e"
             ],
             [
              0.4444444444444444,
              "#bd3786"
             ],
             [
              0.5555555555555556,
              "#d8576b"
             ],
             [
              0.6666666666666666,
              "#ed7953"
             ],
             [
              0.7777777777777778,
              "#fb9f3a"
             ],
             [
              0.8888888888888888,
              "#fdca26"
             ],
             [
              1,
              "#f0f921"
             ]
            ],
            "type": "histogram2d"
           }
          ],
          "histogram2dcontour": [
           {
            "colorbar": {
             "outlinewidth": 0,
             "ticks": ""
            },
            "colorscale": [
             [
              0,
              "#0d0887"
             ],
             [
              0.1111111111111111,
              "#46039f"
             ],
             [
              0.2222222222222222,
              "#7201a8"
             ],
             [
              0.3333333333333333,
              "#9c179e"
             ],
             [
              0.4444444444444444,
              "#bd3786"
             ],
             [
              0.5555555555555556,
              "#d8576b"
             ],
             [
              0.6666666666666666,
              "#ed7953"
             ],
             [
              0.7777777777777778,
              "#fb9f3a"
             ],
             [
              0.8888888888888888,
              "#fdca26"
             ],
             [
              1,
              "#f0f921"
             ]
            ],
            "type": "histogram2dcontour"
           }
          ],
          "mesh3d": [
           {
            "colorbar": {
             "outlinewidth": 0,
             "ticks": ""
            },
            "type": "mesh3d"
           }
          ],
          "parcoords": [
           {
            "line": {
             "colorbar": {
              "outlinewidth": 0,
              "ticks": ""
             }
            },
            "type": "parcoords"
           }
          ],
          "pie": [
           {
            "automargin": true,
            "type": "pie"
           }
          ],
          "scatter": [
           {
            "fillpattern": {
             "fillmode": "overlay",
             "size": 10,
             "solidity": 0.2
            },
            "type": "scatter"
           }
          ],
          "scatter3d": [
           {
            "line": {
             "colorbar": {
              "outlinewidth": 0,
              "ticks": ""
             }
            },
            "marker": {
             "colorbar": {
              "outlinewidth": 0,
              "ticks": ""
             }
            },
            "type": "scatter3d"
           }
          ],
          "scattercarpet": [
           {
            "marker": {
             "colorbar": {
              "outlinewidth": 0,
              "ticks": ""
             }
            },
            "type": "scattercarpet"
           }
          ],
          "scattergeo": [
           {
            "marker": {
             "colorbar": {
              "outlinewidth": 0,
              "ticks": ""
             }
            },
            "type": "scattergeo"
           }
          ],
          "scattergl": [
           {
            "marker": {
             "colorbar": {
              "outlinewidth": 0,
              "ticks": ""
             }
            },
            "type": "scattergl"
           }
          ],
          "scattermapbox": [
           {
            "marker": {
             "colorbar": {
              "outlinewidth": 0,
              "ticks": ""
             }
            },
            "type": "scattermapbox"
           }
          ],
          "scatterpolar": [
           {
            "marker": {
             "colorbar": {
              "outlinewidth": 0,
              "ticks": ""
             }
            },
            "type": "scatterpolar"
           }
          ],
          "scatterpolargl": [
           {
            "marker": {
             "colorbar": {
              "outlinewidth": 0,
              "ticks": ""
             }
            },
            "type": "scatterpolargl"
           }
          ],
          "scatterternary": [
           {
            "marker": {
             "colorbar": {
              "outlinewidth": 0,
              "ticks": ""
             }
            },
            "type": "scatterternary"
           }
          ],
          "surface": [
           {
            "colorbar": {
             "outlinewidth": 0,
             "ticks": ""
            },
            "colorscale": [
             [
              0,
              "#0d0887"
             ],
             [
              0.1111111111111111,
              "#46039f"
             ],
             [
              0.2222222222222222,
              "#7201a8"
             ],
             [
              0.3333333333333333,
              "#9c179e"
             ],
             [
              0.4444444444444444,
              "#bd3786"
             ],
             [
              0.5555555555555556,
              "#d8576b"
             ],
             [
              0.6666666666666666,
              "#ed7953"
             ],
             [
              0.7777777777777778,
              "#fb9f3a"
             ],
             [
              0.8888888888888888,
              "#fdca26"
             ],
             [
              1,
              "#f0f921"
             ]
            ],
            "type": "surface"
           }
          ],
          "table": [
           {
            "cells": {
             "fill": {
              "color": "#EBF0F8"
             },
             "line": {
              "color": "white"
             }
            },
            "header": {
             "fill": {
              "color": "#C8D4E3"
             },
             "line": {
              "color": "white"
             }
            },
            "type": "table"
           }
          ]
         },
         "layout": {
          "annotationdefaults": {
           "arrowcolor": "#2a3f5f",
           "arrowhead": 0,
           "arrowwidth": 1
          },
          "autotypenumbers": "strict",
          "coloraxis": {
           "colorbar": {
            "outlinewidth": 0,
            "ticks": ""
           }
          },
          "colorscale": {
           "diverging": [
            [
             0,
             "#8e0152"
            ],
            [
             0.1,
             "#c51b7d"
            ],
            [
             0.2,
             "#de77ae"
            ],
            [
             0.3,
             "#f1b6da"
            ],
            [
             0.4,
             "#fde0ef"
            ],
            [
             0.5,
             "#f7f7f7"
            ],
            [
             0.6,
             "#e6f5d0"
            ],
            [
             0.7,
             "#b8e186"
            ],
            [
             0.8,
             "#7fbc41"
            ],
            [
             0.9,
             "#4d9221"
            ],
            [
             1,
             "#276419"
            ]
           ],
           "sequential": [
            [
             0,
             "#0d0887"
            ],
            [
             0.1111111111111111,
             "#46039f"
            ],
            [
             0.2222222222222222,
             "#7201a8"
            ],
            [
             0.3333333333333333,
             "#9c179e"
            ],
            [
             0.4444444444444444,
             "#bd3786"
            ],
            [
             0.5555555555555556,
             "#d8576b"
            ],
            [
             0.6666666666666666,
             "#ed7953"
            ],
            [
             0.7777777777777778,
             "#fb9f3a"
            ],
            [
             0.8888888888888888,
             "#fdca26"
            ],
            [
             1,
             "#f0f921"
            ]
           ],
           "sequentialminus": [
            [
             0,
             "#0d0887"
            ],
            [
             0.1111111111111111,
             "#46039f"
            ],
            [
             0.2222222222222222,
             "#7201a8"
            ],
            [
             0.3333333333333333,
             "#9c179e"
            ],
            [
             0.4444444444444444,
             "#bd3786"
            ],
            [
             0.5555555555555556,
             "#d8576b"
            ],
            [
             0.6666666666666666,
             "#ed7953"
            ],
            [
             0.7777777777777778,
             "#fb9f3a"
            ],
            [
             0.8888888888888888,
             "#fdca26"
            ],
            [
             1,
             "#f0f921"
            ]
           ]
          },
          "colorway": [
           "#636efa",
           "#EF553B",
           "#00cc96",
           "#ab63fa",
           "#FFA15A",
           "#19d3f3",
           "#FF6692",
           "#B6E880",
           "#FF97FF",
           "#FECB52"
          ],
          "font": {
           "color": "#2a3f5f"
          },
          "geo": {
           "bgcolor": "white",
           "lakecolor": "white",
           "landcolor": "#E5ECF6",
           "showlakes": true,
           "showland": true,
           "subunitcolor": "white"
          },
          "hoverlabel": {
           "align": "left"
          },
          "hovermode": "closest",
          "mapbox": {
           "style": "light"
          },
          "paper_bgcolor": "white",
          "plot_bgcolor": "#E5ECF6",
          "polar": {
           "angularaxis": {
            "gridcolor": "white",
            "linecolor": "white",
            "ticks": ""
           },
           "bgcolor": "#E5ECF6",
           "radialaxis": {
            "gridcolor": "white",
            "linecolor": "white",
            "ticks": ""
           }
          },
          "scene": {
           "xaxis": {
            "backgroundcolor": "#E5ECF6",
            "gridcolor": "white",
            "gridwidth": 2,
            "linecolor": "white",
            "showbackground": true,
            "ticks": "",
            "zerolinecolor": "white"
           },
           "yaxis": {
            "backgroundcolor": "#E5ECF6",
            "gridcolor": "white",
            "gridwidth": 2,
            "linecolor": "white",
            "showbackground": true,
            "ticks": "",
            "zerolinecolor": "white"
           },
           "zaxis": {
            "backgroundcolor": "#E5ECF6",
            "gridcolor": "white",
            "gridwidth": 2,
            "linecolor": "white",
            "showbackground": true,
            "ticks": "",
            "zerolinecolor": "white"
           }
          },
          "shapedefaults": {
           "line": {
            "color": "#2a3f5f"
           }
          },
          "ternary": {
           "aaxis": {
            "gridcolor": "white",
            "linecolor": "white",
            "ticks": ""
           },
           "baxis": {
            "gridcolor": "white",
            "linecolor": "white",
            "ticks": ""
           },
           "bgcolor": "#E5ECF6",
           "caxis": {
            "gridcolor": "white",
            "linecolor": "white",
            "ticks": ""
           }
          },
          "title": {
           "x": 0.05
          },
          "xaxis": {
           "automargin": true,
           "gridcolor": "white",
           "linecolor": "white",
           "ticks": "",
           "title": {
            "standoff": 15
           },
           "zerolinecolor": "white",
           "zerolinewidth": 2
          },
          "yaxis": {
           "automargin": true,
           "gridcolor": "white",
           "linecolor": "white",
           "ticks": "",
           "title": {
            "standoff": 15
           },
           "zerolinecolor": "white",
           "zerolinewidth": 2
          }
         }
        },
        "title": {
         "text": "Estratégia sem otimização"
        },
        "xaxis": {
         "anchor": "y",
         "domain": [
          0,
          1
         ],
         "title": {
          "text": "Date"
         }
        },
        "yaxis": {
         "anchor": "x",
         "domain": [
          0,
          1
         ],
         "title": {
          "text": "y"
         }
        }
       }
      }
     },
     "metadata": {},
     "output_type": "display_data"
    }
   ],
   "source": [
    "vanilla_portfolio = (returns*weights_vanilla).sum(axis=1)\n",
    "vanilla_portfolio = vanilla_portfolio + 1\n",
    "vanilla_portfolio = vanilla_portfolio.cumprod() - 1\n",
    "px.line(vanilla_portfolio, title='Estratégia sem otimização', x=vanilla_portfolio.index, y=vanilla_portfolio.values)"
   ]
  },
  {
   "cell_type": "code",
   "execution_count": 20,
   "metadata": {},
   "outputs": [
    {
     "name": "stdout",
     "output_type": "stream",
     "text": [
      "[*********************100%***********************]  11 of 11 completed\n"
     ]
    }
   ],
   "source": [
    "data_test = yf.download(stocks, start='2023-01-01', end='2023-05-01')['Adj Close']\n",
    "data_test = data_test.pct_change().dropna()"
   ]
  },
  {
   "cell_type": "code",
   "execution_count": 76,
   "metadata": {},
   "outputs": [
    {
     "name": "stdout",
     "output_type": "stream",
     "text": [
      "Retorno otimizado teste: Date\n",
      "2023-04-28    0.058099\n",
      "dtype: float64\n",
      "--------------------\n",
      "Retorno normal teste: Date\n",
      "2023-04-28    0.047323\n",
      "dtype: float64\n"
     ]
    }
   ],
   "source": [
    "print('Retorno otimizado teste:', port_return(best_individual, dataset=data_test))\n",
    "print('-'*20)\n",
    "print('Retorno normal teste:', port_return(weights_vanilla, dataset=data_test))"
   ]
  },
  {
   "cell_type": "code",
   "execution_count": 77,
   "metadata": {},
   "outputs": [
    {
     "name": "stdout",
     "output_type": "stream",
     "text": [
      "Retorno médio otimizado: 0.03779467776739413\n",
      "--------------------\n",
      "Retorno médio normal: 0.02654261259134097\n"
     ]
    }
   ],
   "source": [
    "print('Retorno médio otimizado:', calculate_returns(best_individual, dataset=data_test).mean())\n",
    "print('-'*20)\n",
    "print('Retorno médio normal:', calculate_returns(weights_vanilla, dataset=data_test).mean())"
   ]
  },
  {
   "cell_type": "code",
   "execution_count": 78,
   "metadata": {},
   "outputs": [
    {
     "name": "stdout",
     "output_type": "stream",
     "text": [
      "Desvio padrão carteira otimizada: 0.018118067810919705\n",
      "--------------------\n",
      "Desvio padrão carteira normal: 0.023603736786014205\n"
     ]
    }
   ],
   "source": [
    "print('Desvio padrão carteira otimizada:', calculate_returns(best_individual, dataset=data_test).std())\n",
    "print('-'*20)\n",
    "print('Desvio padrão carteira normal:', calculate_returns(weights_vanilla, dataset=data_test).std())"
   ]
  },
  {
   "cell_type": "code",
   "execution_count": 80,
   "metadata": {},
   "outputs": [
    {
     "data": {
      "application/vnd.plotly.v1+json": {
       "config": {
        "plotlyServerURL": "https://plot.ly"
       },
       "data": [
        {
         "hovertemplate": "Date=%{x}<br>y=%{y}<extra></extra>",
         "legendgroup": "",
         "line": {
          "color": "#636efa",
          "dash": "solid"
         },
         "marker": {
          "symbol": "circle"
         },
         "mode": "lines",
         "name": "",
         "orientation": "v",
         "showlegend": false,
         "type": "scatter",
         "x": [
          "2023-01-03T00:00:00",
          "2023-01-04T00:00:00",
          "2023-01-05T00:00:00",
          "2023-01-06T00:00:00",
          "2023-01-09T00:00:00",
          "2023-01-10T00:00:00",
          "2023-01-11T00:00:00",
          "2023-01-12T00:00:00",
          "2023-01-13T00:00:00",
          "2023-01-16T00:00:00",
          "2023-01-17T00:00:00",
          "2023-01-18T00:00:00",
          "2023-01-19T00:00:00",
          "2023-01-20T00:00:00",
          "2023-01-23T00:00:00",
          "2023-01-24T00:00:00",
          "2023-01-25T00:00:00",
          "2023-01-26T00:00:00",
          "2023-01-27T00:00:00",
          "2023-01-30T00:00:00",
          "2023-01-31T00:00:00",
          "2023-02-01T00:00:00",
          "2023-02-02T00:00:00",
          "2023-02-03T00:00:00",
          "2023-02-06T00:00:00",
          "2023-02-07T00:00:00",
          "2023-02-08T00:00:00",
          "2023-02-09T00:00:00",
          "2023-02-10T00:00:00",
          "2023-02-13T00:00:00",
          "2023-02-14T00:00:00",
          "2023-02-15T00:00:00",
          "2023-02-16T00:00:00",
          "2023-02-17T00:00:00",
          "2023-02-22T00:00:00",
          "2023-02-23T00:00:00",
          "2023-02-24T00:00:00",
          "2023-02-27T00:00:00",
          "2023-02-28T00:00:00",
          "2023-03-01T00:00:00",
          "2023-03-02T00:00:00",
          "2023-03-03T00:00:00",
          "2023-03-06T00:00:00",
          "2023-03-07T00:00:00",
          "2023-03-08T00:00:00",
          "2023-03-09T00:00:00",
          "2023-03-10T00:00:00",
          "2023-03-13T00:00:00",
          "2023-03-14T00:00:00",
          "2023-03-15T00:00:00",
          "2023-03-16T00:00:00",
          "2023-03-17T00:00:00",
          "2023-03-20T00:00:00",
          "2023-03-21T00:00:00",
          "2023-03-22T00:00:00",
          "2023-03-23T00:00:00",
          "2023-03-24T00:00:00",
          "2023-03-27T00:00:00",
          "2023-03-28T00:00:00",
          "2023-03-29T00:00:00",
          "2023-03-30T00:00:00",
          "2023-03-31T00:00:00",
          "2023-04-03T00:00:00",
          "2023-04-04T00:00:00",
          "2023-04-05T00:00:00",
          "2023-04-06T00:00:00",
          "2023-04-10T00:00:00",
          "2023-04-11T00:00:00",
          "2023-04-12T00:00:00",
          "2023-04-13T00:00:00",
          "2023-04-14T00:00:00",
          "2023-04-17T00:00:00",
          "2023-04-18T00:00:00",
          "2023-04-19T00:00:00",
          "2023-04-20T00:00:00",
          "2023-04-24T00:00:00",
          "2023-04-25T00:00:00",
          "2023-04-26T00:00:00",
          "2023-04-27T00:00:00",
          "2023-04-28T00:00:00"
         ],
         "xaxis": "x",
         "y": [
          -0.022077113606553733,
          -0.005975138220490894,
          0.01569555040240811,
          0.02350113614001148,
          0.024617275784039716,
          0.03134839324949912,
          0.042412063393971744,
          0.03779676158355105,
          0.034802021167395614,
          0.01620293750875801,
          0.04540780896977137,
          0.05012906826462116,
          0.05533622767486812,
          0.04246533574854561,
          0.05322460420532504,
          0.06111135899772879,
          0.07629157137717879,
          0.07320566967498388,
          0.0640682983455989,
          0.05990298270345806,
          0.07460237265428438,
          0.0661803913317649,
          0.04825711907547259,
          0.035841689639415586,
          0.034171045416837575,
          0.028243584491792095,
          0.04033902991169591,
          0.031184993413566175,
          0.04239455818328586,
          0.04132305222618626,
          0.032058597264793764,
          0.05015304189435654,
          0.055838387174237836,
          0.05928959218026697,
          0.034871470957304584,
          0.05374118001123329,
          0.03433612599332947,
          0.03368382960705607,
          0.02658212847388941,
          0.0310322717005469,
          0.025985852552981248,
          0.02943518800655842,
          0.03857713706355703,
          0.03515384608928107,
          0.05195448857957485,
          0.046680732573120665,
          0.03422284127900954,
          0.03607153350221037,
          0.03317090910701648,
          0.03641349758943524,
          0.03874134829609721,
          0.02494194566366703,
          0.01795117744313046,
          0.019054343771424787,
          0.011343615708634625,
          -0.0036248292340258503,
          0.005975597647150277,
          0.01451011590316087,
          0.023348336528916214,
          0.032960841275580854,
          0.05020908524920897,
          0.029374053459719773,
          0.02947425270099502,
          0.033801810783627984,
          0.02144423100079429,
          0.011184192924895697,
          0.01564848991835177,
          0.05695846156414319,
          0.06229758593511203,
          0.050050333836979544,
          0.045473805758927455,
          0.05147212096035969,
          0.05421109388360801,
          0.03802453693455621,
          0.04892736959639454,
          0.051995883485670635,
          0.04206404352383042,
          0.03997224970633084,
          0.04643154582330267,
          0.05809928003225462
         ],
         "yaxis": "y"
        }
       ],
       "layout": {
        "legend": {
         "tracegroupgap": 0
        },
        "template": {
         "data": {
          "bar": [
           {
            "error_x": {
             "color": "#2a3f5f"
            },
            "error_y": {
             "color": "#2a3f5f"
            },
            "marker": {
             "line": {
              "color": "#E5ECF6",
              "width": 0.5
             },
             "pattern": {
              "fillmode": "overlay",
              "size": 10,
              "solidity": 0.2
             }
            },
            "type": "bar"
           }
          ],
          "barpolar": [
           {
            "marker": {
             "line": {
              "color": "#E5ECF6",
              "width": 0.5
             },
             "pattern": {
              "fillmode": "overlay",
              "size": 10,
              "solidity": 0.2
             }
            },
            "type": "barpolar"
           }
          ],
          "carpet": [
           {
            "aaxis": {
             "endlinecolor": "#2a3f5f",
             "gridcolor": "white",
             "linecolor": "white",
             "minorgridcolor": "white",
             "startlinecolor": "#2a3f5f"
            },
            "baxis": {
             "endlinecolor": "#2a3f5f",
             "gridcolor": "white",
             "linecolor": "white",
             "minorgridcolor": "white",
             "startlinecolor": "#2a3f5f"
            },
            "type": "carpet"
           }
          ],
          "choropleth": [
           {
            "colorbar": {
             "outlinewidth": 0,
             "ticks": ""
            },
            "type": "choropleth"
           }
          ],
          "contour": [
           {
            "colorbar": {
             "outlinewidth": 0,
             "ticks": ""
            },
            "colorscale": [
             [
              0,
              "#0d0887"
             ],
             [
              0.1111111111111111,
              "#46039f"
             ],
             [
              0.2222222222222222,
              "#7201a8"
             ],
             [
              0.3333333333333333,
              "#9c179e"
             ],
             [
              0.4444444444444444,
              "#bd3786"
             ],
             [
              0.5555555555555556,
              "#d8576b"
             ],
             [
              0.6666666666666666,
              "#ed7953"
             ],
             [
              0.7777777777777778,
              "#fb9f3a"
             ],
             [
              0.8888888888888888,
              "#fdca26"
             ],
             [
              1,
              "#f0f921"
             ]
            ],
            "type": "contour"
           }
          ],
          "contourcarpet": [
           {
            "colorbar": {
             "outlinewidth": 0,
             "ticks": ""
            },
            "type": "contourcarpet"
           }
          ],
          "heatmap": [
           {
            "colorbar": {
             "outlinewidth": 0,
             "ticks": ""
            },
            "colorscale": [
             [
              0,
              "#0d0887"
             ],
             [
              0.1111111111111111,
              "#46039f"
             ],
             [
              0.2222222222222222,
              "#7201a8"
             ],
             [
              0.3333333333333333,
              "#9c179e"
             ],
             [
              0.4444444444444444,
              "#bd3786"
             ],
             [
              0.5555555555555556,
              "#d8576b"
             ],
             [
              0.6666666666666666,
              "#ed7953"
             ],
             [
              0.7777777777777778,
              "#fb9f3a"
             ],
             [
              0.8888888888888888,
              "#fdca26"
             ],
             [
              1,
              "#f0f921"
             ]
            ],
            "type": "heatmap"
           }
          ],
          "heatmapgl": [
           {
            "colorbar": {
             "outlinewidth": 0,
             "ticks": ""
            },
            "colorscale": [
             [
              0,
              "#0d0887"
             ],
             [
              0.1111111111111111,
              "#46039f"
             ],
             [
              0.2222222222222222,
              "#7201a8"
             ],
             [
              0.3333333333333333,
              "#9c179e"
             ],
             [
              0.4444444444444444,
              "#bd3786"
             ],
             [
              0.5555555555555556,
              "#d8576b"
             ],
             [
              0.6666666666666666,
              "#ed7953"
             ],
             [
              0.7777777777777778,
              "#fb9f3a"
             ],
             [
              0.8888888888888888,
              "#fdca26"
             ],
             [
              1,
              "#f0f921"
             ]
            ],
            "type": "heatmapgl"
           }
          ],
          "histogram": [
           {
            "marker": {
             "pattern": {
              "fillmode": "overlay",
              "size": 10,
              "solidity": 0.2
             }
            },
            "type": "histogram"
           }
          ],
          "histogram2d": [
           {
            "colorbar": {
             "outlinewidth": 0,
             "ticks": ""
            },
            "colorscale": [
             [
              0,
              "#0d0887"
             ],
             [
              0.1111111111111111,
              "#46039f"
             ],
             [
              0.2222222222222222,
              "#7201a8"
             ],
             [
              0.3333333333333333,
              "#9c179e"
             ],
             [
              0.4444444444444444,
              "#bd3786"
             ],
             [
              0.5555555555555556,
              "#d8576b"
             ],
             [
              0.6666666666666666,
              "#ed7953"
             ],
             [
              0.7777777777777778,
              "#fb9f3a"
             ],
             [
              0.8888888888888888,
              "#fdca26"
             ],
             [
              1,
              "#f0f921"
             ]
            ],
            "type": "histogram2d"
           }
          ],
          "histogram2dcontour": [
           {
            "colorbar": {
             "outlinewidth": 0,
             "ticks": ""
            },
            "colorscale": [
             [
              0,
              "#0d0887"
             ],
             [
              0.1111111111111111,
              "#46039f"
             ],
             [
              0.2222222222222222,
              "#7201a8"
             ],
             [
              0.3333333333333333,
              "#9c179e"
             ],
             [
              0.4444444444444444,
              "#bd3786"
             ],
             [
              0.5555555555555556,
              "#d8576b"
             ],
             [
              0.6666666666666666,
              "#ed7953"
             ],
             [
              0.7777777777777778,
              "#fb9f3a"
             ],
             [
              0.8888888888888888,
              "#fdca26"
             ],
             [
              1,
              "#f0f921"
             ]
            ],
            "type": "histogram2dcontour"
           }
          ],
          "mesh3d": [
           {
            "colorbar": {
             "outlinewidth": 0,
             "ticks": ""
            },
            "type": "mesh3d"
           }
          ],
          "parcoords": [
           {
            "line": {
             "colorbar": {
              "outlinewidth": 0,
              "ticks": ""
             }
            },
            "type": "parcoords"
           }
          ],
          "pie": [
           {
            "automargin": true,
            "type": "pie"
           }
          ],
          "scatter": [
           {
            "fillpattern": {
             "fillmode": "overlay",
             "size": 10,
             "solidity": 0.2
            },
            "type": "scatter"
           }
          ],
          "scatter3d": [
           {
            "line": {
             "colorbar": {
              "outlinewidth": 0,
              "ticks": ""
             }
            },
            "marker": {
             "colorbar": {
              "outlinewidth": 0,
              "ticks": ""
             }
            },
            "type": "scatter3d"
           }
          ],
          "scattercarpet": [
           {
            "marker": {
             "colorbar": {
              "outlinewidth": 0,
              "ticks": ""
             }
            },
            "type": "scattercarpet"
           }
          ],
          "scattergeo": [
           {
            "marker": {
             "colorbar": {
              "outlinewidth": 0,
              "ticks": ""
             }
            },
            "type": "scattergeo"
           }
          ],
          "scattergl": [
           {
            "marker": {
             "colorbar": {
              "outlinewidth": 0,
              "ticks": ""
             }
            },
            "type": "scattergl"
           }
          ],
          "scattermapbox": [
           {
            "marker": {
             "colorbar": {
              "outlinewidth": 0,
              "ticks": ""
             }
            },
            "type": "scattermapbox"
           }
          ],
          "scatterpolar": [
           {
            "marker": {
             "colorbar": {
              "outlinewidth": 0,
              "ticks": ""
             }
            },
            "type": "scatterpolar"
           }
          ],
          "scatterpolargl": [
           {
            "marker": {
             "colorbar": {
              "outlinewidth": 0,
              "ticks": ""
             }
            },
            "type": "scatterpolargl"
           }
          ],
          "scatterternary": [
           {
            "marker": {
             "colorbar": {
              "outlinewidth": 0,
              "ticks": ""
             }
            },
            "type": "scatterternary"
           }
          ],
          "surface": [
           {
            "colorbar": {
             "outlinewidth": 0,
             "ticks": ""
            },
            "colorscale": [
             [
              0,
              "#0d0887"
             ],
             [
              0.1111111111111111,
              "#46039f"
             ],
             [
              0.2222222222222222,
              "#7201a8"
             ],
             [
              0.3333333333333333,
              "#9c179e"
             ],
             [
              0.4444444444444444,
              "#bd3786"
             ],
             [
              0.5555555555555556,
              "#d8576b"
             ],
             [
              0.6666666666666666,
              "#ed7953"
             ],
             [
              0.7777777777777778,
              "#fb9f3a"
             ],
             [
              0.8888888888888888,
              "#fdca26"
             ],
             [
              1,
              "#f0f921"
             ]
            ],
            "type": "surface"
           }
          ],
          "table": [
           {
            "cells": {
             "fill": {
              "color": "#EBF0F8"
             },
             "line": {
              "color": "white"
             }
            },
            "header": {
             "fill": {
              "color": "#C8D4E3"
             },
             "line": {
              "color": "white"
             }
            },
            "type": "table"
           }
          ]
         },
         "layout": {
          "annotationdefaults": {
           "arrowcolor": "#2a3f5f",
           "arrowhead": 0,
           "arrowwidth": 1
          },
          "autotypenumbers": "strict",
          "coloraxis": {
           "colorbar": {
            "outlinewidth": 0,
            "ticks": ""
           }
          },
          "colorscale": {
           "diverging": [
            [
             0,
             "#8e0152"
            ],
            [
             0.1,
             "#c51b7d"
            ],
            [
             0.2,
             "#de77ae"
            ],
            [
             0.3,
             "#f1b6da"
            ],
            [
             0.4,
             "#fde0ef"
            ],
            [
             0.5,
             "#f7f7f7"
            ],
            [
             0.6,
             "#e6f5d0"
            ],
            [
             0.7,
             "#b8e186"
            ],
            [
             0.8,
             "#7fbc41"
            ],
            [
             0.9,
             "#4d9221"
            ],
            [
             1,
             "#276419"
            ]
           ],
           "sequential": [
            [
             0,
             "#0d0887"
            ],
            [
             0.1111111111111111,
             "#46039f"
            ],
            [
             0.2222222222222222,
             "#7201a8"
            ],
            [
             0.3333333333333333,
             "#9c179e"
            ],
            [
             0.4444444444444444,
             "#bd3786"
            ],
            [
             0.5555555555555556,
             "#d8576b"
            ],
            [
             0.6666666666666666,
             "#ed7953"
            ],
            [
             0.7777777777777778,
             "#fb9f3a"
            ],
            [
             0.8888888888888888,
             "#fdca26"
            ],
            [
             1,
             "#f0f921"
            ]
           ],
           "sequentialminus": [
            [
             0,
             "#0d0887"
            ],
            [
             0.1111111111111111,
             "#46039f"
            ],
            [
             0.2222222222222222,
             "#7201a8"
            ],
            [
             0.3333333333333333,
             "#9c179e"
            ],
            [
             0.4444444444444444,
             "#bd3786"
            ],
            [
             0.5555555555555556,
             "#d8576b"
            ],
            [
             0.6666666666666666,
             "#ed7953"
            ],
            [
             0.7777777777777778,
             "#fb9f3a"
            ],
            [
             0.8888888888888888,
             "#fdca26"
            ],
            [
             1,
             "#f0f921"
            ]
           ]
          },
          "colorway": [
           "#636efa",
           "#EF553B",
           "#00cc96",
           "#ab63fa",
           "#FFA15A",
           "#19d3f3",
           "#FF6692",
           "#B6E880",
           "#FF97FF",
           "#FECB52"
          ],
          "font": {
           "color": "#2a3f5f"
          },
          "geo": {
           "bgcolor": "white",
           "lakecolor": "white",
           "landcolor": "#E5ECF6",
           "showlakes": true,
           "showland": true,
           "subunitcolor": "white"
          },
          "hoverlabel": {
           "align": "left"
          },
          "hovermode": "closest",
          "mapbox": {
           "style": "light"
          },
          "paper_bgcolor": "white",
          "plot_bgcolor": "#E5ECF6",
          "polar": {
           "angularaxis": {
            "gridcolor": "white",
            "linecolor": "white",
            "ticks": ""
           },
           "bgcolor": "#E5ECF6",
           "radialaxis": {
            "gridcolor": "white",
            "linecolor": "white",
            "ticks": ""
           }
          },
          "scene": {
           "xaxis": {
            "backgroundcolor": "#E5ECF6",
            "gridcolor": "white",
            "gridwidth": 2,
            "linecolor": "white",
            "showbackground": true,
            "ticks": "",
            "zerolinecolor": "white"
           },
           "yaxis": {
            "backgroundcolor": "#E5ECF6",
            "gridcolor": "white",
            "gridwidth": 2,
            "linecolor": "white",
            "showbackground": true,
            "ticks": "",
            "zerolinecolor": "white"
           },
           "zaxis": {
            "backgroundcolor": "#E5ECF6",
            "gridcolor": "white",
            "gridwidth": 2,
            "linecolor": "white",
            "showbackground": true,
            "ticks": "",
            "zerolinecolor": "white"
           }
          },
          "shapedefaults": {
           "line": {
            "color": "#2a3f5f"
           }
          },
          "ternary": {
           "aaxis": {
            "gridcolor": "white",
            "linecolor": "white",
            "ticks": ""
           },
           "baxis": {
            "gridcolor": "white",
            "linecolor": "white",
            "ticks": ""
           },
           "bgcolor": "#E5ECF6",
           "caxis": {
            "gridcolor": "white",
            "linecolor": "white",
            "ticks": ""
           }
          },
          "title": {
           "x": 0.05
          },
          "xaxis": {
           "automargin": true,
           "gridcolor": "white",
           "linecolor": "white",
           "ticks": "",
           "title": {
            "standoff": 15
           },
           "zerolinecolor": "white",
           "zerolinewidth": 2
          },
          "yaxis": {
           "automargin": true,
           "gridcolor": "white",
           "linecolor": "white",
           "ticks": "",
           "title": {
            "standoff": 15
           },
           "zerolinecolor": "white",
           "zerolinewidth": 2
          }
         }
        },
        "title": {
         "text": "Estratégia otimizada"
        },
        "xaxis": {
         "anchor": "y",
         "domain": [
          0,
          1
         ],
         "title": {
          "text": "Date"
         }
        },
        "yaxis": {
         "anchor": "x",
         "domain": [
          0,
          1
         ],
         "title": {
          "text": "y"
         }
        }
       }
      }
     },
     "metadata": {},
     "output_type": "display_data"
    }
   ],
   "source": [
    "opt_teste = data_test.mul(best_individual).sum(axis=1)  # Soma dos retornos da carteira dia a dia\n",
    "opt_teste = opt_teste + 1\n",
    "opt_teste = opt_teste.cumprod() - 1\n",
    "px.line(opt_teste, title='Estratégia otimizada', x=opt_teste.index, y=opt_teste.values)"
   ]
  },
  {
   "cell_type": "code",
   "execution_count": 81,
   "metadata": {},
   "outputs": [
    {
     "data": {
      "application/vnd.plotly.v1+json": {
       "config": {
        "plotlyServerURL": "https://plot.ly"
       },
       "data": [
        {
         "hovertemplate": "Date=%{x}<br>y=%{y}<extra></extra>",
         "legendgroup": "",
         "line": {
          "color": "#636efa",
          "dash": "solid"
         },
         "marker": {
          "symbol": "circle"
         },
         "mode": "lines",
         "name": "",
         "orientation": "v",
         "showlegend": false,
         "type": "scatter",
         "x": [
          "2023-01-03T00:00:00",
          "2023-01-04T00:00:00",
          "2023-01-05T00:00:00",
          "2023-01-06T00:00:00",
          "2023-01-09T00:00:00",
          "2023-01-10T00:00:00",
          "2023-01-11T00:00:00",
          "2023-01-12T00:00:00",
          "2023-01-13T00:00:00",
          "2023-01-16T00:00:00",
          "2023-01-17T00:00:00",
          "2023-01-18T00:00:00",
          "2023-01-19T00:00:00",
          "2023-01-20T00:00:00",
          "2023-01-23T00:00:00",
          "2023-01-24T00:00:00",
          "2023-01-25T00:00:00",
          "2023-01-26T00:00:00",
          "2023-01-27T00:00:00",
          "2023-01-30T00:00:00",
          "2023-01-31T00:00:00",
          "2023-02-01T00:00:00",
          "2023-02-02T00:00:00",
          "2023-02-03T00:00:00",
          "2023-02-06T00:00:00",
          "2023-02-07T00:00:00",
          "2023-02-08T00:00:00",
          "2023-02-09T00:00:00",
          "2023-02-10T00:00:00",
          "2023-02-13T00:00:00",
          "2023-02-14T00:00:00",
          "2023-02-15T00:00:00",
          "2023-02-16T00:00:00",
          "2023-02-17T00:00:00",
          "2023-02-22T00:00:00",
          "2023-02-23T00:00:00",
          "2023-02-24T00:00:00",
          "2023-02-27T00:00:00",
          "2023-02-28T00:00:00",
          "2023-03-01T00:00:00",
          "2023-03-02T00:00:00",
          "2023-03-03T00:00:00",
          "2023-03-06T00:00:00",
          "2023-03-07T00:00:00",
          "2023-03-08T00:00:00",
          "2023-03-09T00:00:00",
          "2023-03-10T00:00:00",
          "2023-03-13T00:00:00",
          "2023-03-14T00:00:00",
          "2023-03-15T00:00:00",
          "2023-03-16T00:00:00",
          "2023-03-17T00:00:00",
          "2023-03-20T00:00:00",
          "2023-03-21T00:00:00",
          "2023-03-22T00:00:00",
          "2023-03-23T00:00:00",
          "2023-03-24T00:00:00",
          "2023-03-27T00:00:00",
          "2023-03-28T00:00:00",
          "2023-03-29T00:00:00",
          "2023-03-30T00:00:00",
          "2023-03-31T00:00:00",
          "2023-04-03T00:00:00",
          "2023-04-04T00:00:00",
          "2023-04-05T00:00:00",
          "2023-04-06T00:00:00",
          "2023-04-10T00:00:00",
          "2023-04-11T00:00:00",
          "2023-04-12T00:00:00",
          "2023-04-13T00:00:00",
          "2023-04-14T00:00:00",
          "2023-04-17T00:00:00",
          "2023-04-18T00:00:00",
          "2023-04-19T00:00:00",
          "2023-04-20T00:00:00",
          "2023-04-24T00:00:00",
          "2023-04-25T00:00:00",
          "2023-04-26T00:00:00",
          "2023-04-27T00:00:00",
          "2023-04-28T00:00:00"
         ],
         "xaxis": "x",
         "y": [
          -0.02162557453189129,
          -0.005335991104782001,
          0.017038611175520524,
          0.024131388895938022,
          0.026884255444435956,
          0.03485720316224783,
          0.04635921971773427,
          0.039129088100393394,
          0.03203827803997439,
          0.015543218292063177,
          0.04723879972058875,
          0.05413983779794518,
          0.059554578515115475,
          0.04341730647749098,
          0.049837674730032644,
          0.061404643984364515,
          0.07336914001372485,
          0.07210579221922786,
          0.0626699398452859,
          0.058269526387511705,
          0.07240084932810054,
          0.06153702743263545,
          0.04746270048182755,
          0.031531710004313984,
          0.031140647359475304,
          0.019909161553485433,
          0.03926435949675233,
          0.02524459266035506,
          0.03426252572888111,
          0.03608449875353026,
          0.022331368445535738,
          0.04089398530505939,
          0.04716075380340845,
          0.04915971573997013,
          0.025758487427460786,
          0.03942491350920441,
          0.02069809548953172,
          0.019071210760521318,
          0.011169375213466282,
          0.008447567390594823,
          -0.0003500585325338923,
          0.0016127324385191155,
          0.0134237629947358,
          0.009478532322569455,
          0.028338586176039238,
          0.02120505320840027,
          0.00669833044166146,
          0.007805637133550425,
          0.003894803629247434,
          0.014610408198081126,
          0.018760036070057273,
          -0.0013163539284994918,
          -0.00866100056761665,
          -0.009862214872325081,
          -0.015380058561276777,
          -0.03284874651818781,
          -0.02212461732187221,
          -0.012893809599542783,
          -0.001119016526442751,
          0.007328602296747366,
          0.028227268320242693,
          0.010778234653095797,
          0.008035077006879332,
          0.017914010652738455,
          0.008287623928853627,
          -0.0002537255921856163,
          0.004587927379982926,
          0.047254473082416704,
          0.054487219893234906,
          0.04432817901016395,
          0.041616645877567304,
          0.042967120712284146,
          0.04659084487981602,
          0.02986778677090962,
          0.039371338158047164,
          0.043193329192799945,
          0.034429269119731654,
          0.03250175677671607,
          0.03932097882623031,
          0.047322557409408716
         ],
         "yaxis": "y"
        }
       ],
       "layout": {
        "legend": {
         "tracegroupgap": 0
        },
        "template": {
         "data": {
          "bar": [
           {
            "error_x": {
             "color": "#2a3f5f"
            },
            "error_y": {
             "color": "#2a3f5f"
            },
            "marker": {
             "line": {
              "color": "#E5ECF6",
              "width": 0.5
             },
             "pattern": {
              "fillmode": "overlay",
              "size": 10,
              "solidity": 0.2
             }
            },
            "type": "bar"
           }
          ],
          "barpolar": [
           {
            "marker": {
             "line": {
              "color": "#E5ECF6",
              "width": 0.5
             },
             "pattern": {
              "fillmode": "overlay",
              "size": 10,
              "solidity": 0.2
             }
            },
            "type": "barpolar"
           }
          ],
          "carpet": [
           {
            "aaxis": {
             "endlinecolor": "#2a3f5f",
             "gridcolor": "white",
             "linecolor": "white",
             "minorgridcolor": "white",
             "startlinecolor": "#2a3f5f"
            },
            "baxis": {
             "endlinecolor": "#2a3f5f",
             "gridcolor": "white",
             "linecolor": "white",
             "minorgridcolor": "white",
             "startlinecolor": "#2a3f5f"
            },
            "type": "carpet"
           }
          ],
          "choropleth": [
           {
            "colorbar": {
             "outlinewidth": 0,
             "ticks": ""
            },
            "type": "choropleth"
           }
          ],
          "contour": [
           {
            "colorbar": {
             "outlinewidth": 0,
             "ticks": ""
            },
            "colorscale": [
             [
              0,
              "#0d0887"
             ],
             [
              0.1111111111111111,
              "#46039f"
             ],
             [
              0.2222222222222222,
              "#7201a8"
             ],
             [
              0.3333333333333333,
              "#9c179e"
             ],
             [
              0.4444444444444444,
              "#bd3786"
             ],
             [
              0.5555555555555556,
              "#d8576b"
             ],
             [
              0.6666666666666666,
              "#ed7953"
             ],
             [
              0.7777777777777778,
              "#fb9f3a"
             ],
             [
              0.8888888888888888,
              "#fdca26"
             ],
             [
              1,
              "#f0f921"
             ]
            ],
            "type": "contour"
           }
          ],
          "contourcarpet": [
           {
            "colorbar": {
             "outlinewidth": 0,
             "ticks": ""
            },
            "type": "contourcarpet"
           }
          ],
          "heatmap": [
           {
            "colorbar": {
             "outlinewidth": 0,
             "ticks": ""
            },
            "colorscale": [
             [
              0,
              "#0d0887"
             ],
             [
              0.1111111111111111,
              "#46039f"
             ],
             [
              0.2222222222222222,
              "#7201a8"
             ],
             [
              0.3333333333333333,
              "#9c179e"
             ],
             [
              0.4444444444444444,
              "#bd3786"
             ],
             [
              0.5555555555555556,
              "#d8576b"
             ],
             [
              0.6666666666666666,
              "#ed7953"
             ],
             [
              0.7777777777777778,
              "#fb9f3a"
             ],
             [
              0.8888888888888888,
              "#fdca26"
             ],
             [
              1,
              "#f0f921"
             ]
            ],
            "type": "heatmap"
           }
          ],
          "heatmapgl": [
           {
            "colorbar": {
             "outlinewidth": 0,
             "ticks": ""
            },
            "colorscale": [
             [
              0,
              "#0d0887"
             ],
             [
              0.1111111111111111,
              "#46039f"
             ],
             [
              0.2222222222222222,
              "#7201a8"
             ],
             [
              0.3333333333333333,
              "#9c179e"
             ],
             [
              0.4444444444444444,
              "#bd3786"
             ],
             [
              0.5555555555555556,
              "#d8576b"
             ],
             [
              0.6666666666666666,
              "#ed7953"
             ],
             [
              0.7777777777777778,
              "#fb9f3a"
             ],
             [
              0.8888888888888888,
              "#fdca26"
             ],
             [
              1,
              "#f0f921"
             ]
            ],
            "type": "heatmapgl"
           }
          ],
          "histogram": [
           {
            "marker": {
             "pattern": {
              "fillmode": "overlay",
              "size": 10,
              "solidity": 0.2
             }
            },
            "type": "histogram"
           }
          ],
          "histogram2d": [
           {
            "colorbar": {
             "outlinewidth": 0,
             "ticks": ""
            },
            "colorscale": [
             [
              0,
              "#0d0887"
             ],
             [
              0.1111111111111111,
              "#46039f"
             ],
             [
              0.2222222222222222,
              "#7201a8"
             ],
             [
              0.3333333333333333,
              "#9c179e"
             ],
             [
              0.4444444444444444,
              "#bd3786"
             ],
             [
              0.5555555555555556,
              "#d8576b"
             ],
             [
              0.6666666666666666,
              "#ed7953"
             ],
             [
              0.7777777777777778,
              "#fb9f3a"
             ],
             [
              0.8888888888888888,
              "#fdca26"
             ],
             [
              1,
              "#f0f921"
             ]
            ],
            "type": "histogram2d"
           }
          ],
          "histogram2dcontour": [
           {
            "colorbar": {
             "outlinewidth": 0,
             "ticks": ""
            },
            "colorscale": [
             [
              0,
              "#0d0887"
             ],
             [
              0.1111111111111111,
              "#46039f"
             ],
             [
              0.2222222222222222,
              "#7201a8"
             ],
             [
              0.3333333333333333,
              "#9c179e"
             ],
             [
              0.4444444444444444,
              "#bd3786"
             ],
             [
              0.5555555555555556,
              "#d8576b"
             ],
             [
              0.6666666666666666,
              "#ed7953"
             ],
             [
              0.7777777777777778,
              "#fb9f3a"
             ],
             [
              0.8888888888888888,
              "#fdca26"
             ],
             [
              1,
              "#f0f921"
             ]
            ],
            "type": "histogram2dcontour"
           }
          ],
          "mesh3d": [
           {
            "colorbar": {
             "outlinewidth": 0,
             "ticks": ""
            },
            "type": "mesh3d"
           }
          ],
          "parcoords": [
           {
            "line": {
             "colorbar": {
              "outlinewidth": 0,
              "ticks": ""
             }
            },
            "type": "parcoords"
           }
          ],
          "pie": [
           {
            "automargin": true,
            "type": "pie"
           }
          ],
          "scatter": [
           {
            "fillpattern": {
             "fillmode": "overlay",
             "size": 10,
             "solidity": 0.2
            },
            "type": "scatter"
           }
          ],
          "scatter3d": [
           {
            "line": {
             "colorbar": {
              "outlinewidth": 0,
              "ticks": ""
             }
            },
            "marker": {
             "colorbar": {
              "outlinewidth": 0,
              "ticks": ""
             }
            },
            "type": "scatter3d"
           }
          ],
          "scattercarpet": [
           {
            "marker": {
             "colorbar": {
              "outlinewidth": 0,
              "ticks": ""
             }
            },
            "type": "scattercarpet"
           }
          ],
          "scattergeo": [
           {
            "marker": {
             "colorbar": {
              "outlinewidth": 0,
              "ticks": ""
             }
            },
            "type": "scattergeo"
           }
          ],
          "scattergl": [
           {
            "marker": {
             "colorbar": {
              "outlinewidth": 0,
              "ticks": ""
             }
            },
            "type": "scattergl"
           }
          ],
          "scattermapbox": [
           {
            "marker": {
             "colorbar": {
              "outlinewidth": 0,
              "ticks": ""
             }
            },
            "type": "scattermapbox"
           }
          ],
          "scatterpolar": [
           {
            "marker": {
             "colorbar": {
              "outlinewidth": 0,
              "ticks": ""
             }
            },
            "type": "scatterpolar"
           }
          ],
          "scatterpolargl": [
           {
            "marker": {
             "colorbar": {
              "outlinewidth": 0,
              "ticks": ""
             }
            },
            "type": "scatterpolargl"
           }
          ],
          "scatterternary": [
           {
            "marker": {
             "colorbar": {
              "outlinewidth": 0,
              "ticks": ""
             }
            },
            "type": "scatterternary"
           }
          ],
          "surface": [
           {
            "colorbar": {
             "outlinewidth": 0,
             "ticks": ""
            },
            "colorscale": [
             [
              0,
              "#0d0887"
             ],
             [
              0.1111111111111111,
              "#46039f"
             ],
             [
              0.2222222222222222,
              "#7201a8"
             ],
             [
              0.3333333333333333,
              "#9c179e"
             ],
             [
              0.4444444444444444,
              "#bd3786"
             ],
             [
              0.5555555555555556,
              "#d8576b"
             ],
             [
              0.6666666666666666,
              "#ed7953"
             ],
             [
              0.7777777777777778,
              "#fb9f3a"
             ],
             [
              0.8888888888888888,
              "#fdca26"
             ],
             [
              1,
              "#f0f921"
             ]
            ],
            "type": "surface"
           }
          ],
          "table": [
           {
            "cells": {
             "fill": {
              "color": "#EBF0F8"
             },
             "line": {
              "color": "white"
             }
            },
            "header": {
             "fill": {
              "color": "#C8D4E3"
             },
             "line": {
              "color": "white"
             }
            },
            "type": "table"
           }
          ]
         },
         "layout": {
          "annotationdefaults": {
           "arrowcolor": "#2a3f5f",
           "arrowhead": 0,
           "arrowwidth": 1
          },
          "autotypenumbers": "strict",
          "coloraxis": {
           "colorbar": {
            "outlinewidth": 0,
            "ticks": ""
           }
          },
          "colorscale": {
           "diverging": [
            [
             0,
             "#8e0152"
            ],
            [
             0.1,
             "#c51b7d"
            ],
            [
             0.2,
             "#de77ae"
            ],
            [
             0.3,
             "#f1b6da"
            ],
            [
             0.4,
             "#fde0ef"
            ],
            [
             0.5,
             "#f7f7f7"
            ],
            [
             0.6,
             "#e6f5d0"
            ],
            [
             0.7,
             "#b8e186"
            ],
            [
             0.8,
             "#7fbc41"
            ],
            [
             0.9,
             "#4d9221"
            ],
            [
             1,
             "#276419"
            ]
           ],
           "sequential": [
            [
             0,
             "#0d0887"
            ],
            [
             0.1111111111111111,
             "#46039f"
            ],
            [
             0.2222222222222222,
             "#7201a8"
            ],
            [
             0.3333333333333333,
             "#9c179e"
            ],
            [
             0.4444444444444444,
             "#bd3786"
            ],
            [
             0.5555555555555556,
             "#d8576b"
            ],
            [
             0.6666666666666666,
             "#ed7953"
            ],
            [
             0.7777777777777778,
             "#fb9f3a"
            ],
            [
             0.8888888888888888,
             "#fdca26"
            ],
            [
             1,
             "#f0f921"
            ]
           ],
           "sequentialminus": [
            [
             0,
             "#0d0887"
            ],
            [
             0.1111111111111111,
             "#46039f"
            ],
            [
             0.2222222222222222,
             "#7201a8"
            ],
            [
             0.3333333333333333,
             "#9c179e"
            ],
            [
             0.4444444444444444,
             "#bd3786"
            ],
            [
             0.5555555555555556,
             "#d8576b"
            ],
            [
             0.6666666666666666,
             "#ed7953"
            ],
            [
             0.7777777777777778,
             "#fb9f3a"
            ],
            [
             0.8888888888888888,
             "#fdca26"
            ],
            [
             1,
             "#f0f921"
            ]
           ]
          },
          "colorway": [
           "#636efa",
           "#EF553B",
           "#00cc96",
           "#ab63fa",
           "#FFA15A",
           "#19d3f3",
           "#FF6692",
           "#B6E880",
           "#FF97FF",
           "#FECB52"
          ],
          "font": {
           "color": "#2a3f5f"
          },
          "geo": {
           "bgcolor": "white",
           "lakecolor": "white",
           "landcolor": "#E5ECF6",
           "showlakes": true,
           "showland": true,
           "subunitcolor": "white"
          },
          "hoverlabel": {
           "align": "left"
          },
          "hovermode": "closest",
          "mapbox": {
           "style": "light"
          },
          "paper_bgcolor": "white",
          "plot_bgcolor": "#E5ECF6",
          "polar": {
           "angularaxis": {
            "gridcolor": "white",
            "linecolor": "white",
            "ticks": ""
           },
           "bgcolor": "#E5ECF6",
           "radialaxis": {
            "gridcolor": "white",
            "linecolor": "white",
            "ticks": ""
           }
          },
          "scene": {
           "xaxis": {
            "backgroundcolor": "#E5ECF6",
            "gridcolor": "white",
            "gridwidth": 2,
            "linecolor": "white",
            "showbackground": true,
            "ticks": "",
            "zerolinecolor": "white"
           },
           "yaxis": {
            "backgroundcolor": "#E5ECF6",
            "gridcolor": "white",
            "gridwidth": 2,
            "linecolor": "white",
            "showbackground": true,
            "ticks": "",
            "zerolinecolor": "white"
           },
           "zaxis": {
            "backgroundcolor": "#E5ECF6",
            "gridcolor": "white",
            "gridwidth": 2,
            "linecolor": "white",
            "showbackground": true,
            "ticks": "",
            "zerolinecolor": "white"
           }
          },
          "shapedefaults": {
           "line": {
            "color": "#2a3f5f"
           }
          },
          "ternary": {
           "aaxis": {
            "gridcolor": "white",
            "linecolor": "white",
            "ticks": ""
           },
           "baxis": {
            "gridcolor": "white",
            "linecolor": "white",
            "ticks": ""
           },
           "bgcolor": "#E5ECF6",
           "caxis": {
            "gridcolor": "white",
            "linecolor": "white",
            "ticks": ""
           }
          },
          "title": {
           "x": 0.05
          },
          "xaxis": {
           "automargin": true,
           "gridcolor": "white",
           "linecolor": "white",
           "ticks": "",
           "title": {
            "standoff": 15
           },
           "zerolinecolor": "white",
           "zerolinewidth": 2
          },
          "yaxis": {
           "automargin": true,
           "gridcolor": "white",
           "linecolor": "white",
           "ticks": "",
           "title": {
            "standoff": 15
           },
           "zerolinecolor": "white",
           "zerolinewidth": 2
          }
         }
        },
        "title": {
         "text": "Estratégia sem otimização"
        },
        "xaxis": {
         "anchor": "y",
         "domain": [
          0,
          1
         ],
         "title": {
          "text": "Date"
         }
        },
        "yaxis": {
         "anchor": "x",
         "domain": [
          0,
          1
         ],
         "title": {
          "text": "y"
         }
        }
       }
      }
     },
     "metadata": {},
     "output_type": "display_data"
    }
   ],
   "source": [
    "vanilla = data_test.mul(weights_vanilla).sum(axis=1)\n",
    "vanilla = vanilla + 1\n",
    "vanilla = vanilla.cumprod() - 1\n",
    "px.line(vanilla, title='Estratégia sem otimização', x=vanilla.index, y=vanilla.values)"
   ]
  },
  {
   "cell_type": "markdown",
   "metadata": {},
   "source": [
    "### Max return"
   ]
  },
  {
   "cell_type": "code",
   "execution_count": 24,
   "metadata": {},
   "outputs": [
    {
     "name": "stderr",
     "output_type": "stream",
     "text": [
      "c:\\Users\\Yamac\\AppData\\Local\\Programs\\Python\\Python310\\lib\\site-packages\\deap\\creator.py:138: RuntimeWarning:\n",
      "\n",
      "A class named 'Individual' has already been created and it will be overwritten. Consider deleting previous creation of that class or rename it.\n",
      "\n"
     ]
    }
   ],
   "source": [
    "creator.create('FitnessMax', base.Fitness, weights=(1.0,))  # O objetivo é minimizar a solução\n",
    "creator.create(\"Individual\", list, fitness=creator.FitnessMax)"
   ]
  },
  {
   "cell_type": "code",
   "execution_count": 25,
   "metadata": {},
   "outputs": [],
   "source": [
    "def calculate_returns_cum(individual, dataset=returns):\n",
    "    x = returns.mul(individual).sum(axis=1)  # Soma dos retornos da carteira dia a dia\n",
    "    x = x + 1\n",
    "    x = x.cumprod() - 1\n",
    "    return x.tail(1)\n",
    "\n",
    "def evaluate_portfolio(individual):\n",
    "    # Calculate returns and risk based on individual weights\n",
    "    returns = calculate_returns_cum(individual)\n",
    "\n",
    "    penalty = abs((np.sum(individual) - 1)**2)  # Penalidade para a soma dos pesos ser 1\n",
    "    alocation_penalty = 0\n",
    "    if max(individual) > 0.33:\n",
    "        alocation_penalty = 100\n",
    "    # Return a tuple of the fitness values (returns, -risk as it's a maximization problem)\n",
    "    #return float(returns - 100*penalty -alocation_penalty), float(risk + 100*penalty + alocation_penalty)\n",
    "    return (float(returns - 150*penalty - alocation_penalty),)"
   ]
  },
  {
   "cell_type": "code",
   "execution_count": 26,
   "metadata": {},
   "outputs": [],
   "source": [
    "toolbox = base.Toolbox()\n",
    "toolbox.register('attr_bool', random.randint, 0, 1)\n",
    "toolbox.register(\"individual\", generateES, creator.Individual, n_stocks, 0, 1)\n",
    "toolbox.register(\"population\", tools.initRepeat, list, toolbox.individual)  # Coleção dos indívduos iniciais - serão armazenados em uma lista\n",
    "toolbox.register(\"evaluate\", evaluate_portfolio)\n",
    "toolbox.register(\"mate\", tools.cxTwoPoint)\n",
    "toolbox.register(\"mutate\", tools.mutPolynomialBounded, eta=0.5, low=lower_bound, up=upper_bound, indpb=0.1)\n",
    "toolbox.register(\"select\", tools.selTournament, tournsize=3)"
   ]
  },
  {
   "cell_type": "code",
   "execution_count": 27,
   "metadata": {},
   "outputs": [
    {
     "name": "stdout",
     "output_type": "stream",
     "text": [
      "gen\tnevals\n",
      "0  \t100   \n",
      "1  \t61    \n",
      "2  \t63    \n",
      "3  \t68    \n",
      "4  \t65    \n",
      "5  \t54    \n",
      "6  \t60    \n",
      "7  \t65    \n",
      "8  \t60    \n",
      "9  \t60    \n",
      "10 \t58    \n",
      "11 \t58    \n",
      "12 \t65    \n",
      "13 \t61    \n",
      "14 \t50    \n",
      "15 \t62    \n",
      "16 \t61    \n",
      "17 \t71    \n",
      "18 \t58    \n",
      "19 \t49    \n",
      "20 \t47    \n",
      "21 \t61    \n",
      "22 \t62    \n",
      "23 \t63    \n",
      "24 \t47    \n",
      "25 \t59    \n",
      "26 \t62    \n",
      "27 \t53    \n",
      "28 \t66    \n",
      "29 \t68    \n",
      "30 \t58    \n",
      "31 \t47    \n",
      "32 \t55    \n",
      "33 \t67    \n",
      "34 \t65    \n",
      "35 \t61    \n",
      "36 \t58    \n",
      "37 \t63    \n",
      "38 \t51    \n",
      "39 \t48    \n",
      "40 \t59    \n",
      "41 \t61    \n",
      "42 \t58    \n",
      "43 \t64    \n",
      "44 \t64    \n",
      "45 \t62    \n",
      "46 \t70    \n",
      "47 \t60    \n",
      "48 \t72    \n",
      "49 \t63    \n",
      "50 \t59    \n"
     ]
    },
    {
     "data": {
      "text/plain": [
       "([[0.03610327283150716,\n",
       "   0.09610957334680448,\n",
       "   0.026668454101507977,\n",
       "   0.018243436734834417,\n",
       "   0.2421754677832938,\n",
       "   0.022530581445369235,\n",
       "   0.015204980171214189,\n",
       "   0.03160585175676722,\n",
       "   0.24376490207702528,\n",
       "   0.2022622091957622,\n",
       "   0.05852648801809823],\n",
       "  [0.03610327283150716,\n",
       "   0.09610957334680448,\n",
       "   0.026668454101507977,\n",
       "   0.018243436734834417,\n",
       "   0.2421754677832938,\n",
       "   0.022530581445369235,\n",
       "   0.015204980171214189,\n",
       "   0.03160585175676722,\n",
       "   0.24376490207702528,\n",
       "   0.2022622091957622,\n",
       "   0.05852648801809823],\n",
       "  [0.03610327283150716,\n",
       "   0.09610957334680448,\n",
       "   0.026668454101507977,\n",
       "   0.018243436734834417,\n",
       "   0.2421754677832938,\n",
       "   0.022530581445369235,\n",
       "   0.015204980171214189,\n",
       "   0.03160585175676722,\n",
       "   0.24376490207702528,\n",
       "   0.2022622091957622,\n",
       "   0.05852648801809823],\n",
       "  [0.03610327283150716,\n",
       "   0.09610957334680448,\n",
       "   0.026668454101507977,\n",
       "   0.018243436734834417,\n",
       "   0.2421754677832938,\n",
       "   0.022530581445369235,\n",
       "   0.015204980171214189,\n",
       "   0.03160585175676722,\n",
       "   0.24376490207702528,\n",
       "   0.2022622091957622,\n",
       "   0.05852648801809823],\n",
       "  [0.03610327283150716,\n",
       "   0.09610957334680448,\n",
       "   0.026668454101507977,\n",
       "   0.018243436734834417,\n",
       "   0.2421754677832938,\n",
       "   0.022530581445369235,\n",
       "   0.015204980171214189,\n",
       "   0.03160585175676722,\n",
       "   0.24376490207702528,\n",
       "   0.2022622091957622,\n",
       "   0.05852648801809823],\n",
       "  [0.03610327283150716,\n",
       "   0.09610957334680448,\n",
       "   0.026668454101507977,\n",
       "   0.018243436734834417,\n",
       "   0.2421754677832938,\n",
       "   0.022530581445369235,\n",
       "   0.015204980171214189,\n",
       "   0.03160585175676722,\n",
       "   0.24376490207702528,\n",
       "   0.2022622091957622,\n",
       "   0.05852648801809823],\n",
       "  [0.03610327283150716,\n",
       "   0.09610957334680448,\n",
       "   0.026668454101507977,\n",
       "   0.018243436734834417,\n",
       "   0.2421754677832938,\n",
       "   0.022530581445369235,\n",
       "   0.015204980171214189,\n",
       "   0.03160585175676722,\n",
       "   0.24376490207702528,\n",
       "   0.2022622091957622,\n",
       "   0.05852648801809823],\n",
       "  [0.03610327283150716,\n",
       "   0.09610957334680448,\n",
       "   0.026668454101507977,\n",
       "   0.018243436734834417,\n",
       "   0.2421754677832938,\n",
       "   0.022530581445369235,\n",
       "   0.015204980171214189,\n",
       "   0.03160585175676722,\n",
       "   0.24376490207702528,\n",
       "   0.2022622091957622,\n",
       "   0.05852648801809823],\n",
       "  [0.03610327283150716,\n",
       "   0.09610957334680448,\n",
       "   0.026668454101507977,\n",
       "   0.018243436734834417,\n",
       "   0.2421754677832938,\n",
       "   0.022530581445369235,\n",
       "   0.015204980171214189,\n",
       "   0.03160585175676722,\n",
       "   0.24376490207702528,\n",
       "   0.2022622091957622,\n",
       "   0.05852648801809823],\n",
       "  [0.03610327283150716,\n",
       "   0.09610957334680448,\n",
       "   0.026668454101507977,\n",
       "   0.018243436734834417,\n",
       "   0.2421754677832938,\n",
       "   0.022530581445369235,\n",
       "   0.015204980171214189,\n",
       "   0.03160585175676722,\n",
       "   0.24376490207702528,\n",
       "   0.2022622091957622,\n",
       "   0.05852648801809823],\n",
       "  [0.03610327283150716,\n",
       "   0.09610957334680448,\n",
       "   0.026668454101507977,\n",
       "   0.018243436734834417,\n",
       "   0.2421754677832938,\n",
       "   0.022530581445369235,\n",
       "   0.015204980171214189,\n",
       "   0.03160585175676722,\n",
       "   0.24376490207702528,\n",
       "   0.2022622091957622,\n",
       "   0.05852648801809823],\n",
       "  [0.03610327283150716,\n",
       "   0.09610957334680448,\n",
       "   0.026668454101507977,\n",
       "   0.018243436734834417,\n",
       "   0.2421754677832938,\n",
       "   0.022530581445369235,\n",
       "   0.015204980171214189,\n",
       "   0.03160585175676722,\n",
       "   0.24376490207702528,\n",
       "   0.2022622091957622,\n",
       "   0.05852648801809823],\n",
       "  [0.03610327283150716,\n",
       "   0.09610957334680448,\n",
       "   0.026668454101507977,\n",
       "   0.018243436734834417,\n",
       "   0.2421754677832938,\n",
       "   0.022530581445369235,\n",
       "   0.015204980171214189,\n",
       "   0.03160585175676722,\n",
       "   0.24376490207702528,\n",
       "   0.2022622091957622,\n",
       "   0.05852648801809823],\n",
       "  [0.03610327283150716,\n",
       "   0.09610957334680448,\n",
       "   0.026668454101507977,\n",
       "   0.018243436734834417,\n",
       "   0.2421754677832938,\n",
       "   0.022530581445369235,\n",
       "   0.015204980171214189,\n",
       "   0.03160585175676722,\n",
       "   0.24376490207702528,\n",
       "   0.2022622091957622,\n",
       "   0.05852648801809823],\n",
       "  [0.03610327283150716,\n",
       "   0.06788791805482586,\n",
       "   0.026668454101507977,\n",
       "   0.018243436734834417,\n",
       "   0.2342564293353515,\n",
       "   0.022530581445369235,\n",
       "   0.015204980171214189,\n",
       "   0.03160585175676722,\n",
       "   0.24376490207702528,\n",
       "   0.2022622091957622,\n",
       "   0.43029072607749286],\n",
       "  [0.03610327283150716,\n",
       "   0.09610957334680448,\n",
       "   0.026668454101507977,\n",
       "   0.018243436734834417,\n",
       "   0.2421754677832938,\n",
       "   0.022530581445369235,\n",
       "   0.015204980171214189,\n",
       "   0.03160585175676722,\n",
       "   0.24376490207702528,\n",
       "   0.2022622091957622,\n",
       "   0.05852648801809823],\n",
       "  [0.03610327283150716,\n",
       "   0.09610957334680448,\n",
       "   0.026668454101507977,\n",
       "   0.018243436734834417,\n",
       "   0.2421754677832938,\n",
       "   0.022530581445369235,\n",
       "   0.015204980171214189,\n",
       "   0.03160585175676722,\n",
       "   0.24376490207702528,\n",
       "   0.2022622091957622,\n",
       "   0.05852648801809823],\n",
       "  [0.03610327283150716,\n",
       "   0.09610957334680448,\n",
       "   0.026668454101507977,\n",
       "   0.018243436734834417,\n",
       "   0.2421754677832938,\n",
       "   0.022530581445369235,\n",
       "   0.015204980171214189,\n",
       "   0.03160585175676722,\n",
       "   0.24376490207702528,\n",
       "   0.2022622091957622,\n",
       "   0.05852648801809823],\n",
       "  [0.03610327283150716,\n",
       "   0.09610957334680448,\n",
       "   0.026668454101507977,\n",
       "   0.018243436734834417,\n",
       "   0.2421754677832938,\n",
       "   0.022530581445369235,\n",
       "   0.015204980171214189,\n",
       "   0.03160585175676722,\n",
       "   0.24376490207702528,\n",
       "   0.2022622091957622,\n",
       "   0.05852648801809823],\n",
       "  [0.03610327283150716,\n",
       "   0.11813614077764878,\n",
       "   0.9173241261920361,\n",
       "   0.018243436734834417,\n",
       "   0.2421754677832938,\n",
       "   0.022530581445369235,\n",
       "   0.015204980171214189,\n",
       "   0.03160585175676722,\n",
       "   0.24376490207702528,\n",
       "   0.2022622091957622,\n",
       "   0.05852648801809823],\n",
       "  [0.03610327283150716,\n",
       "   0.09610957334680448,\n",
       "   0.026668454101507977,\n",
       "   0.00558015958742375,\n",
       "   0.2421754677832938,\n",
       "   0.126094899872496,\n",
       "   0.015204980171214189,\n",
       "   0.03160585175676722,\n",
       "   0.07107004238456416,\n",
       "   0.2022622091957622,\n",
       "   0.05852648801809823],\n",
       "  [0.03610327283150716,\n",
       "   0.09610957334680448,\n",
       "   0.026668454101507977,\n",
       "   0.018243436734834417,\n",
       "   0.2421754677832938,\n",
       "   0.022530581445369235,\n",
       "   0.0807917735187278,\n",
       "   0.03160585175676722,\n",
       "   0.24376490207702528,\n",
       "   0.2022622091957622,\n",
       "   0.05852648801809823],\n",
       "  [0.03610327283150716,\n",
       "   0.09610957334680448,\n",
       "   0.026668454101507977,\n",
       "   0.018243436734834417,\n",
       "   0.2421754677832938,\n",
       "   0.022530581445369235,\n",
       "   0.015204980171214189,\n",
       "   0.03160585175676722,\n",
       "   0.24376490207702528,\n",
       "   0.2022622091957622,\n",
       "   0.05852648801809823],\n",
       "  [0.03610327283150716,\n",
       "   0.09610957334680448,\n",
       "   0.026668454101507977,\n",
       "   0.018243436734834417,\n",
       "   0.2421754677832938,\n",
       "   0.022530581445369235,\n",
       "   0.015204980171214189,\n",
       "   0.03160585175676722,\n",
       "   0.24376490207702528,\n",
       "   0.2022622091957622,\n",
       "   0.05852648801809823],\n",
       "  [0.03610327283150716,\n",
       "   0.09610957334680448,\n",
       "   0.026668454101507977,\n",
       "   0.018243436734834417,\n",
       "   0.2421754677832938,\n",
       "   0.022530581445369235,\n",
       "   0.015204980171214189,\n",
       "   0.03160585175676722,\n",
       "   0.24376490207702528,\n",
       "   0.2022622091957622,\n",
       "   0.05852648801809823],\n",
       "  [0.03610327283150716,\n",
       "   0.09610957334680448,\n",
       "   0.026668454101507977,\n",
       "   0.018243436734834417,\n",
       "   0.2421754677832938,\n",
       "   0.022530581445369235,\n",
       "   0.015204980171214189,\n",
       "   0.03160585175676722,\n",
       "   0.24376490207702528,\n",
       "   0.2022622091957622,\n",
       "   0.05852648801809823],\n",
       "  [0.03610327283150716,\n",
       "   0.09610957334680448,\n",
       "   0.026668454101507977,\n",
       "   0.018243436734834417,\n",
       "   0.2421754677832938,\n",
       "   0.022530581445369235,\n",
       "   0.015204980171214189,\n",
       "   0.03160585175676722,\n",
       "   0.24376490207702528,\n",
       "   0.2022622091957622,\n",
       "   0.05852648801809823],\n",
       "  [0.03610327283150716,\n",
       "   0.09610957334680448,\n",
       "   0.026668454101507977,\n",
       "   0.018243436734834417,\n",
       "   0.2421754677832938,\n",
       "   0.0032612018304528645,\n",
       "   0.015204980171214189,\n",
       "   0.03160585175676722,\n",
       "   0.24376490207702528,\n",
       "   0.2022622091957622,\n",
       "   0.05852648801809823],\n",
       "  [0.03610327283150716,\n",
       "   0.09610957334680448,\n",
       "   0.026668454101507977,\n",
       "   0.018243436734834417,\n",
       "   0.2421754677832938,\n",
       "   0.022530581445369235,\n",
       "   0.015204980171214189,\n",
       "   0.03160585175676722,\n",
       "   0.24376490207702528,\n",
       "   0.2022622091957622,\n",
       "   0.05852648801809823],\n",
       "  [0.03610327283150716,\n",
       "   0.09610957334680448,\n",
       "   0.026668454101507977,\n",
       "   0.018243436734834417,\n",
       "   0.2421754677832938,\n",
       "   0.022530581445369235,\n",
       "   0.015204980171214189,\n",
       "   0.03160585175676722,\n",
       "   0.24376490207702528,\n",
       "   0.2022622091957622,\n",
       "   0.05852648801809823],\n",
       "  [0.03610327283150716,\n",
       "   0.09610957334680448,\n",
       "   0.026668454101507977,\n",
       "   0.018243436734834417,\n",
       "   0.2421754677832938,\n",
       "   0.022530581445369235,\n",
       "   0.015204980171214189,\n",
       "   0.03160585175676722,\n",
       "   0.24376490207702528,\n",
       "   0.2022622091957622,\n",
       "   0.05852648801809823],\n",
       "  [0.03610327283150716,\n",
       "   0.09610957334680448,\n",
       "   0.026668454101507977,\n",
       "   0.018243436734834417,\n",
       "   0.2421754677832938,\n",
       "   0.022530581445369235,\n",
       "   0.015204980171214189,\n",
       "   0.03160585175676722,\n",
       "   0.24376490207702528,\n",
       "   0.2022622091957622,\n",
       "   0.05852648801809823],\n",
       "  [0.03610327283150716,\n",
       "   0.09610957334680448,\n",
       "   0.026668454101507977,\n",
       "   0.018243436734834417,\n",
       "   0.2421754677832938,\n",
       "   0.022530581445369235,\n",
       "   0.015204980171214189,\n",
       "   0.03160585175676722,\n",
       "   0.24376490207702528,\n",
       "   0.2022622091957622,\n",
       "   0.05852648801809823],\n",
       "  [0.03610327283150716,\n",
       "   0.09610957334680448,\n",
       "   0.026668454101507977,\n",
       "   0.018243436734834417,\n",
       "   0.2421754677832938,\n",
       "   0.022530581445369235,\n",
       "   0.015204980171214189,\n",
       "   0.03160585175676722,\n",
       "   0.24376490207702528,\n",
       "   0.2022622091957622,\n",
       "   0.05852648801809823],\n",
       "  [0.03610327283150716,\n",
       "   0.09610957334680448,\n",
       "   0.026668454101507977,\n",
       "   0.018243436734834417,\n",
       "   0.2421754677832938,\n",
       "   0.022530581445369235,\n",
       "   0.015204980171214189,\n",
       "   0.03160585175676722,\n",
       "   0.24376490207702528,\n",
       "   0.2022622091957622,\n",
       "   0.05852648801809823],\n",
       "  [0.03610327283150716,\n",
       "   0.015512954260682776,\n",
       "   0.026668454101507977,\n",
       "   0.018243436734834417,\n",
       "   0.2421754677832938,\n",
       "   0.022530581445369235,\n",
       "   0.015204980171214189,\n",
       "   0.03160585175676722,\n",
       "   0.24376490207702528,\n",
       "   0.2022622091957622,\n",
       "   0.05852648801809823],\n",
       "  [0.03610327283150716,\n",
       "   0.09610957334680448,\n",
       "   0.026668454101507977,\n",
       "   0.01770186420716402,\n",
       "   0.2421754677832938,\n",
       "   0.0034114780379670417,\n",
       "   0.015204980171214189,\n",
       "   0.03160585175676722,\n",
       "   0.24376490207702528,\n",
       "   0.2022622091957622,\n",
       "   0.05852648801809823],\n",
       "  [0.03610327283150716,\n",
       "   0.09610957334680448,\n",
       "   0.026668454101507977,\n",
       "   0.018243436734834417,\n",
       "   0.2421754677832938,\n",
       "   0.022530581445369235,\n",
       "   0.015204980171214189,\n",
       "   0.03160585175676722,\n",
       "   0.24376490207702528,\n",
       "   0.2022622091957622,\n",
       "   0.05852648801809823],\n",
       "  [0.16776914870752746,\n",
       "   0.09610957334680448,\n",
       "   0.026668454101507977,\n",
       "   0.018243436734834417,\n",
       "   0.2421754677832938,\n",
       "   0.022530581445369235,\n",
       "   0.015204980171214189,\n",
       "   0.03160585175676722,\n",
       "   0.24376490207702528,\n",
       "   0.2022622091957622,\n",
       "   0.05852648801809823],\n",
       "  [0.03610327283150716,\n",
       "   0.09610957334680448,\n",
       "   0.026668454101507977,\n",
       "   0.018243436734834417,\n",
       "   0.2421754677832938,\n",
       "   0.022530581445369235,\n",
       "   0.015204980171214189,\n",
       "   0.03160585175676722,\n",
       "   0.24376490207702528,\n",
       "   0.2022622091957622,\n",
       "   0.05852648801809823],\n",
       "  [0.03610327283150716,\n",
       "   0.09610957334680448,\n",
       "   0.026668454101507977,\n",
       "   0.018243436734834417,\n",
       "   0.2421754677832938,\n",
       "   0.022530581445369235,\n",
       "   0.015204980171214189,\n",
       "   0.03160585175676722,\n",
       "   0.24376490207702528,\n",
       "   0.2022622091957622,\n",
       "   0.05852648801809823],\n",
       "  [0.03610327283150716,\n",
       "   0.09610957334680448,\n",
       "   0.026668454101507977,\n",
       "   0.018243436734834417,\n",
       "   0.2421754677832938,\n",
       "   0.022530581445369235,\n",
       "   0.015204980171214189,\n",
       "   0.03160585175676722,\n",
       "   0.1848384203518545,\n",
       "   0.2022622091957622,\n",
       "   0.05852648801809823],\n",
       "  [0.03610327283150716,\n",
       "   0.09610957334680448,\n",
       "   0.026668454101507977,\n",
       "   0.018243436734834417,\n",
       "   0.2421754677832938,\n",
       "   0.022530581445369235,\n",
       "   0.015204980171214189,\n",
       "   0.03160585175676722,\n",
       "   0.24376490207702528,\n",
       "   0.2022622091957622,\n",
       "   0.05852648801809823],\n",
       "  [0.03610327283150716,\n",
       "   0.09610957334680448,\n",
       "   0.026668454101507977,\n",
       "   0.018243436734834417,\n",
       "   0.2421754677832938,\n",
       "   0.022530581445369235,\n",
       "   0.015204980171214189,\n",
       "   0.03160585175676722,\n",
       "   0.24376490207702528,\n",
       "   0.2022622091957622,\n",
       "   0.05852648801809823],\n",
       "  [0.03610327283150716,\n",
       "   0.09610957334680448,\n",
       "   0.026668454101507977,\n",
       "   0.018243436734834417,\n",
       "   0.2421754677832938,\n",
       "   0.022530581445369235,\n",
       "   0.015204980171214189,\n",
       "   0.03160585175676722,\n",
       "   0.24376490207702528,\n",
       "   0.2022622091957622,\n",
       "   0.05852648801809823],\n",
       "  [0.03610327283150716,\n",
       "   0.09610957334680448,\n",
       "   0.026668454101507977,\n",
       "   0.018243436734834417,\n",
       "   0.2421754677832938,\n",
       "   0.022530581445369235,\n",
       "   0.015204980171214189,\n",
       "   0.03160585175676722,\n",
       "   0.24376490207702528,\n",
       "   0.2022622091957622,\n",
       "   0.05852648801809823],\n",
       "  [0.03610327283150716,\n",
       "   0.09610957334680448,\n",
       "   0.026668454101507977,\n",
       "   0.018243436734834417,\n",
       "   0.2421754677832938,\n",
       "   0.022530581445369235,\n",
       "   0.015204980171214189,\n",
       "   0.03160585175676722,\n",
       "   0.24376490207702528,\n",
       "   0.2022622091957622,\n",
       "   0.011083055776483164],\n",
       "  [0.03610327283150716,\n",
       "   0.09610957334680448,\n",
       "   0.026668454101507977,\n",
       "   0.018243436734834417,\n",
       "   0.2421754677832938,\n",
       "   0.022530581445369235,\n",
       "   0.015204980171214189,\n",
       "   0.03160585175676722,\n",
       "   0.24376490207702528,\n",
       "   0.2022622091957622,\n",
       "   0.05852648801809823],\n",
       "  [0.03610327283150716,\n",
       "   0.09610957334680448,\n",
       "   0.026668454101507977,\n",
       "   0.018243436734834417,\n",
       "   0.2421754677832938,\n",
       "   0.022530581445369235,\n",
       "   0.015204980171214189,\n",
       "   0.03160585175676722,\n",
       "   0.24376490207702528,\n",
       "   0.2022622091957622,\n",
       "   0.05852648801809823],\n",
       "  [0.03610327283150716,\n",
       "   0.09610957334680448,\n",
       "   0.026668454101507977,\n",
       "   0.018243436734834417,\n",
       "   0.2421754677832938,\n",
       "   0.022530581445369235,\n",
       "   0.015204980171214189,\n",
       "   0.03160585175676722,\n",
       "   0.24376490207702528,\n",
       "   0.2022622091957622,\n",
       "   0.05852648801809823],\n",
       "  [0.03610327283150716,\n",
       "   0.09610957334680448,\n",
       "   0.026668454101507977,\n",
       "   0.018243436734834417,\n",
       "   0.2421754677832938,\n",
       "   0.022530581445369235,\n",
       "   0.015204980171214189,\n",
       "   0.03160585175676722,\n",
       "   0.24376490207702528,\n",
       "   0.2022622091957622,\n",
       "   0.05852648801809823],\n",
       "  [0.03610327283150716,\n",
       "   0.08965315823839504,\n",
       "   0.026668454101507977,\n",
       "   0.018243436734834417,\n",
       "   0.2421754677832938,\n",
       "   0.022530581445369235,\n",
       "   0.015204980171214189,\n",
       "   0.03160585175676722,\n",
       "   0.24376490207702528,\n",
       "   0.2022622091957622,\n",
       "   0.05852648801809823],\n",
       "  [0.03610327283150716,\n",
       "   0.09610957334680448,\n",
       "   0.026668454101507977,\n",
       "   0.018243436734834417,\n",
       "   0.2421754677832938,\n",
       "   0.022530581445369235,\n",
       "   0.015204980171214189,\n",
       "   0.03160585175676722,\n",
       "   0.24376490207702528,\n",
       "   0.2022622091957622,\n",
       "   0.05852648801809823],\n",
       "  [0.03610327283150716,\n",
       "   0.09610957334680448,\n",
       "   0.026668454101507977,\n",
       "   0.018243436734834417,\n",
       "   0.2421754677832938,\n",
       "   0.022530581445369235,\n",
       "   0.015204980171214189,\n",
       "   0.03160585175676722,\n",
       "   0.24376490207702528,\n",
       "   0.2022622091957622,\n",
       "   0.05852648801809823],\n",
       "  [0.03610327283150716,\n",
       "   0.09610957334680448,\n",
       "   0.026668454101507977,\n",
       "   0.018243436734834417,\n",
       "   0.2421754677832938,\n",
       "   0.022530581445369235,\n",
       "   0.015204980171214189,\n",
       "   0.03160585175676722,\n",
       "   0.24376490207702528,\n",
       "   0.2022622091957622,\n",
       "   0.05852648801809823],\n",
       "  [0.03610327283150716,\n",
       "   0.09610957334680448,\n",
       "   0.026668454101507977,\n",
       "   0.018243436734834417,\n",
       "   0.2421754677832938,\n",
       "   0.022530581445369235,\n",
       "   0.015204980171214189,\n",
       "   0.03160585175676722,\n",
       "   0.24376490207702528,\n",
       "   0.2022622091957622,\n",
       "   0.05852648801809823],\n",
       "  [0.03610327283150716,\n",
       "   0.09610957334680448,\n",
       "   0.026668454101507977,\n",
       "   0.018243436734834417,\n",
       "   0.2421754677832938,\n",
       "   0.022530581445369235,\n",
       "   0.015204980171214189,\n",
       "   0.03160585175676722,\n",
       "   0.24376490207702528,\n",
       "   0.2022622091957622,\n",
       "   0.05852648801809823],\n",
       "  [0.03610327283150716,\n",
       "   0.09610957334680448,\n",
       "   0.026668454101507977,\n",
       "   0.018243436734834417,\n",
       "   0.2421754677832938,\n",
       "   0.022530581445369235,\n",
       "   0.015204980171214189,\n",
       "   0.03160585175676722,\n",
       "   0.24376490207702528,\n",
       "   0.2022622091957622,\n",
       "   0.05852648801809823],\n",
       "  [0.03610327283150716,\n",
       "   0.09610957334680448,\n",
       "   0.026668454101507977,\n",
       "   0.018243436734834417,\n",
       "   0.2421754677832938,\n",
       "   0.033929058307813675,\n",
       "   0.015204980171214189,\n",
       "   0.03160585175676722,\n",
       "   0.24376490207702528,\n",
       "   0.2022622091957622,\n",
       "   0.05852648801809823],\n",
       "  [0.03610327283150716,\n",
       "   0.09610957334680448,\n",
       "   0.026668454101507977,\n",
       "   0.018243436734834417,\n",
       "   0.2421754677832938,\n",
       "   0.022530581445369235,\n",
       "   0.015204980171214189,\n",
       "   0.03160585175676722,\n",
       "   0.24376490207702528,\n",
       "   0.2022622091957622,\n",
       "   0.05852648801809823],\n",
       "  [0.03610327283150716,\n",
       "   0.09610957334680448,\n",
       "   0.026668454101507977,\n",
       "   0.018243436734834417,\n",
       "   0.2421754677832938,\n",
       "   0.022530581445369235,\n",
       "   0.015204980171214189,\n",
       "   0.03160585175676722,\n",
       "   0.24376490207702528,\n",
       "   0.2022622091957622,\n",
       "   0.05852648801809823],\n",
       "  [0.03610327283150716,\n",
       "   0.09610957334680448,\n",
       "   0.026668454101507977,\n",
       "   0.018243436734834417,\n",
       "   0.2421754677832938,\n",
       "   0.022530581445369235,\n",
       "   0.015204980171214189,\n",
       "   0.03160585175676722,\n",
       "   0.24376490207702528,\n",
       "   0.2022622091957622,\n",
       "   0.05852648801809823],\n",
       "  [0.03610327283150716,\n",
       "   0.09610957334680448,\n",
       "   0.026668454101507977,\n",
       "   0.018243436734834417,\n",
       "   0.2421754677832938,\n",
       "   0.012331792329455804,\n",
       "   0.015204980171214189,\n",
       "   0.03160585175676722,\n",
       "   0.24376490207702528,\n",
       "   0.2022622091957622,\n",
       "   0.05852648801809823],\n",
       "  [0.03610327283150716,\n",
       "   0.09610957334680448,\n",
       "   0.026668454101507977,\n",
       "   0.018243436734834417,\n",
       "   0.2421754677832938,\n",
       "   0.022530581445369235,\n",
       "   0.015204980171214189,\n",
       "   0.03160585175676722,\n",
       "   0.24376490207702528,\n",
       "   0.2022622091957622,\n",
       "   0.05852648801809823],\n",
       "  [0.03610327283150716,\n",
       "   0.09610957334680448,\n",
       "   0.026668454101507977,\n",
       "   0.018243436734834417,\n",
       "   0.2421754677832938,\n",
       "   0.022530581445369235,\n",
       "   0.015204980171214189,\n",
       "   0.03160585175676722,\n",
       "   0.24376490207702528,\n",
       "   0.2022622091957622,\n",
       "   0.05852648801809823],\n",
       "  [0.03610327283150716,\n",
       "   0.09610957334680448,\n",
       "   0.026668454101507977,\n",
       "   0.018243436734834417,\n",
       "   0.2421754677832938,\n",
       "   0.022530581445369235,\n",
       "   0.015204980171214189,\n",
       "   0.03160585175676722,\n",
       "   0.24376490207702528,\n",
       "   0.2022622091957622,\n",
       "   0.05852648801809823],\n",
       "  [0.03610327283150716,\n",
       "   0.09610957334680448,\n",
       "   0.026668454101507977,\n",
       "   0.018243436734834417,\n",
       "   0.2421754677832938,\n",
       "   0.022530581445369235,\n",
       "   0.015204980171214189,\n",
       "   0.03160585175676722,\n",
       "   0.24376490207702528,\n",
       "   0.2022622091957622,\n",
       "   0.05852648801809823],\n",
       "  [0.03610327283150716,\n",
       "   0.09610957334680448,\n",
       "   0.026668454101507977,\n",
       "   0.018243436734834417,\n",
       "   0.2421754677832938,\n",
       "   0.022530581445369235,\n",
       "   0.7779398175190292,\n",
       "   0.03160585175676722,\n",
       "   0.24376490207702528,\n",
       "   0.2022622091957622,\n",
       "   0.05852648801809823],\n",
       "  [0.03610327283150716,\n",
       "   0.09610957334680448,\n",
       "   0.026668454101507977,\n",
       "   0.018243436734834417,\n",
       "   0.2421754677832938,\n",
       "   0.022530581445369235,\n",
       "   0.015204980171214189,\n",
       "   0.03160585175676722,\n",
       "   0.24376490207702528,\n",
       "   0.2022622091957622,\n",
       "   0.05852648801809823],\n",
       "  [0.03610327283150716,\n",
       "   0.09610957334680448,\n",
       "   0.026668454101507977,\n",
       "   0.018243436734834417,\n",
       "   0.2421754677832938,\n",
       "   0.022530581445369235,\n",
       "   0.015204980171214189,\n",
       "   0.03160585175676722,\n",
       "   0.24376490207702528,\n",
       "   0.2022622091957622,\n",
       "   0.05852648801809823],\n",
       "  [0.03610327283150716,\n",
       "   0.09610957334680448,\n",
       "   0.026668454101507977,\n",
       "   0.018243436734834417,\n",
       "   0.2421754677832938,\n",
       "   0.022530581445369235,\n",
       "   0.015204980171214189,\n",
       "   0.03160585175676722,\n",
       "   0.24376490207702528,\n",
       "   0.2022622091957622,\n",
       "   0.05852648801809823],\n",
       "  [0.03610327283150716,\n",
       "   0.09610957334680448,\n",
       "   0.026668454101507977,\n",
       "   0.018243436734834417,\n",
       "   0.2421754677832938,\n",
       "   0.022530581445369235,\n",
       "   0.015204980171214189,\n",
       "   0.03160585175676722,\n",
       "   0.24376490207702528,\n",
       "   0.2022622091957622,\n",
       "   0.05852648801809823],\n",
       "  [0.03610327283150716,\n",
       "   0.09610957334680448,\n",
       "   0.026668454101507977,\n",
       "   0.018243436734834417,\n",
       "   0.2421754677832938,\n",
       "   0.022530581445369235,\n",
       "   0.015204980171214189,\n",
       "   0.03160585175676722,\n",
       "   0.24376490207702528,\n",
       "   0.2022622091957622,\n",
       "   0.05852648801809823],\n",
       "  [0.03610327283150716,\n",
       "   0.09610957334680448,\n",
       "   0.026668454101507977,\n",
       "   0.018243436734834417,\n",
       "   0.2421754677832938,\n",
       "   0.022530581445369235,\n",
       "   0.015204980171214189,\n",
       "   0.03160585175676722,\n",
       "   0.24376490207702528,\n",
       "   0.2022622091957622,\n",
       "   0.05852648801809823],\n",
       "  [0.03610327283150716,\n",
       "   0.09610957334680448,\n",
       "   0.026668454101507977,\n",
       "   0.018243436734834417,\n",
       "   0.2421754677832938,\n",
       "   0.022530581445369235,\n",
       "   0.015204980171214189,\n",
       "   0.03160585175676722,\n",
       "   0.24376490207702528,\n",
       "   0.2022622091957622,\n",
       "   0.05852648801809823],\n",
       "  [0.03610327283150716,\n",
       "   0.09610957334680448,\n",
       "   0.026668454101507977,\n",
       "   0.018243436734834417,\n",
       "   0.2421754677832938,\n",
       "   0.022530581445369235,\n",
       "   0.015204980171214189,\n",
       "   0.03160585175676722,\n",
       "   0.24376490207702528,\n",
       "   0.2022622091957622,\n",
       "   0.05852648801809823],\n",
       "  [0.03610327283150716,\n",
       "   0.09610957334680448,\n",
       "   0.026668454101507977,\n",
       "   0.018243436734834417,\n",
       "   0.2421754677832938,\n",
       "   0.022530581445369235,\n",
       "   0.015204980171214189,\n",
       "   0.03160585175676722,\n",
       "   0.24376490207702528,\n",
       "   0.2022622091957622,\n",
       "   0.05852648801809823],\n",
       "  [0.03610327283150716,\n",
       "   0.09610957334680448,\n",
       "   0.026668454101507977,\n",
       "   0.018243436734834417,\n",
       "   0.2421754677832938,\n",
       "   0.022530581445369235,\n",
       "   0.015204980171214189,\n",
       "   0.03160585175676722,\n",
       "   0.24376490207702528,\n",
       "   0.2022622091957622,\n",
       "   0.05852648801809823],\n",
       "  [0.03610327283150716,\n",
       "   0.09610957334680448,\n",
       "   0.026668454101507977,\n",
       "   0.018243436734834417,\n",
       "   0.2421754677832938,\n",
       "   0.022530581445369235,\n",
       "   0.015204980171214189,\n",
       "   0.03160585175676722,\n",
       "   0.24376490207702528,\n",
       "   0.2022622091957622,\n",
       "   0.05852648801809823],\n",
       "  [0.03610327283150716,\n",
       "   0.09610957334680448,\n",
       "   0.024145168596494404,\n",
       "   0.018243436734834417,\n",
       "   0.2421754677832938,\n",
       "   0.022530581445369235,\n",
       "   0.015204980171214189,\n",
       "   0.03160585175676722,\n",
       "   0.24376490207702528,\n",
       "   0.2022622091957622,\n",
       "   0.05852648801809823],\n",
       "  [0.03610327283150716,\n",
       "   0.09610957334680448,\n",
       "   0.026668454101507977,\n",
       "   0.018243436734834417,\n",
       "   0.2421754677832938,\n",
       "   0.022530581445369235,\n",
       "   0.015204980171214189,\n",
       "   0.03160585175676722,\n",
       "   0.24376490207702528,\n",
       "   0.2022622091957622,\n",
       "   0.05852648801809823],\n",
       "  [0.03610327283150716,\n",
       "   0.09610957334680448,\n",
       "   0.026668454101507977,\n",
       "   0.018243436734834417,\n",
       "   0.2421754677832938,\n",
       "   0.022530581445369235,\n",
       "   0.015204980171214189,\n",
       "   0.03160585175676722,\n",
       "   0.24376490207702528,\n",
       "   0.2022622091957622,\n",
       "   0.05852648801809823],\n",
       "  [0.03610327283150716,\n",
       "   0.09610957334680448,\n",
       "   0.026668454101507977,\n",
       "   0.018243436734834417,\n",
       "   0.2421754677832938,\n",
       "   0.022530581445369235,\n",
       "   0.015204980171214189,\n",
       "   0.03160585175676722,\n",
       "   0.24376490207702528,\n",
       "   0.2022622091957622,\n",
       "   0.05852648801809823],\n",
       "  [0.03610327283150716,\n",
       "   0.09610957334680448,\n",
       "   0.026668454101507977,\n",
       "   0.018243436734834417,\n",
       "   0.2421754677832938,\n",
       "   0.022530581445369235,\n",
       "   0.015204980171214189,\n",
       "   0.03160585175676722,\n",
       "   0.24376490207702528,\n",
       "   0.2022622091957622,\n",
       "   0.05852648801809823],\n",
       "  [0.03610327283150716,\n",
       "   0.09610957334680448,\n",
       "   0.026668454101507977,\n",
       "   0.018243436734834417,\n",
       "   0.2421754677832938,\n",
       "   0.022530581445369235,\n",
       "   0.015204980171214189,\n",
       "   0.03160585175676722,\n",
       "   0.24376490207702528,\n",
       "   0.2022622091957622,\n",
       "   0.05852648801809823],\n",
       "  [0.03610327283150716,\n",
       "   0.09610957334680448,\n",
       "   0.026668454101507977,\n",
       "   0.018243436734834417,\n",
       "   0.2421754677832938,\n",
       "   0.022530581445369235,\n",
       "   0.015204980171214189,\n",
       "   0.03160585175676722,\n",
       "   0.24376490207702528,\n",
       "   0.2022622091957622,\n",
       "   0.05852648801809823],\n",
       "  [0.03610327283150716,\n",
       "   0.09610957334680448,\n",
       "   0.026668454101507977,\n",
       "   0.018243436734834417,\n",
       "   0.2421754677832938,\n",
       "   0.022530581445369235,\n",
       "   0.015204980171214189,\n",
       "   0.03160585175676722,\n",
       "   0.24376490207702528,\n",
       "   0.2022622091957622,\n",
       "   0.05852648801809823],\n",
       "  [0.03610327283150716,\n",
       "   0.09610957334680448,\n",
       "   0.026668454101507977,\n",
       "   0.018243436734834417,\n",
       "   0.2421754677832938,\n",
       "   0.022530581445369235,\n",
       "   0.015204980171214189,\n",
       "   0.03160585175676722,\n",
       "   0.24376490207702528,\n",
       "   0.2022622091957622,\n",
       "   0.05852648801809823],\n",
       "  [0.03610327283150716,\n",
       "   0.09610957334680448,\n",
       "   0.026668454101507977,\n",
       "   0.018243436734834417,\n",
       "   0.2421754677832938,\n",
       "   0.022530581445369235,\n",
       "   0.015204980171214189,\n",
       "   0.03160585175676722,\n",
       "   0.24376490207702528,\n",
       "   0.2022622091957622,\n",
       "   0.05852648801809823],\n",
       "  [0.03610327283150716,\n",
       "   0.09610957334680448,\n",
       "   0.026668454101507977,\n",
       "   0.018243436734834417,\n",
       "   0.2421754677832938,\n",
       "   0.022530581445369235,\n",
       "   0.015204980171214189,\n",
       "   0.03160585175676722,\n",
       "   0.24376490207702528,\n",
       "   0.2022622091957622,\n",
       "   0.05852648801809823],\n",
       "  [0.03610327283150716,\n",
       "   0.09610957334680448,\n",
       "   0.026668454101507977,\n",
       "   0.018243436734834417,\n",
       "   0.2421754677832938,\n",
       "   0.022530581445369235,\n",
       "   0.015204980171214189,\n",
       "   0.03160585175676722,\n",
       "   0.24376490207702528,\n",
       "   0.2022622091957622,\n",
       "   0.05852648801809823],\n",
       "  [0.03610327283150716,\n",
       "   0.09610957334680448,\n",
       "   0.026668454101507977,\n",
       "   0.018243436734834417,\n",
       "   0.2421754677832938,\n",
       "   0.022530581445369235,\n",
       "   0.015204980171214189,\n",
       "   0.03160585175676722,\n",
       "   0.24376490207702528,\n",
       "   0.2022622091957622,\n",
       "   0.05852648801809823],\n",
       "  [0.03610327283150716,\n",
       "   0.09610957334680448,\n",
       "   0.026668454101507977,\n",
       "   0.018243436734834417,\n",
       "   0.2421754677832938,\n",
       "   0.022530581445369235,\n",
       "   0.015204980171214189,\n",
       "   0.03160585175676722,\n",
       "   0.24376490207702528,\n",
       "   0.2022622091957622,\n",
       "   0.05852648801809823],\n",
       "  [0.03610327283150716,\n",
       "   0.09610957334680448,\n",
       "   0.026668454101507977,\n",
       "   0.018243436734834417,\n",
       "   0.2421754677832938,\n",
       "   0.022530581445369235,\n",
       "   0.015204980171214189,\n",
       "   0.03160585175676722,\n",
       "   0.24376490207702528,\n",
       "   0.2022622091957622,\n",
       "   0.05852648801809823],\n",
       "  [0.03610327283150716,\n",
       "   0.09610957334680448,\n",
       "   0.026668454101507977,\n",
       "   0.018243436734834417,\n",
       "   0.2421754677832938,\n",
       "   0.022530581445369235,\n",
       "   0.015204980171214189,\n",
       "   0.03160585175676722,\n",
       "   0.24376490207702528,\n",
       "   0.2022622091957622,\n",
       "   0.05852648801809823],\n",
       "  [0.03610327283150716,\n",
       "   0.09610957334680448,\n",
       "   0.026668454101507977,\n",
       "   0.018243436734834417,\n",
       "   0.2421754677832938,\n",
       "   0.022530581445369235,\n",
       "   0.015204980171214189,\n",
       "   0.03160585175676722,\n",
       "   0.24376490207702528,\n",
       "   0.2022622091957622,\n",
       "   0.05852648801809823],\n",
       "  [0.03610327283150716,\n",
       "   0.09610957334680448,\n",
       "   0.026668454101507977,\n",
       "   0.0034018019012103107,\n",
       "   0.2421754677832938,\n",
       "   0.022530581445369235,\n",
       "   0.015204980171214189,\n",
       "   0.03160585175676722,\n",
       "   0.24376490207702528,\n",
       "   0.019488620029806114,\n",
       "   0.05852648801809823],\n",
       "  [0.03610327283150716,\n",
       "   0.09610957334680448,\n",
       "   0.026668454101507977,\n",
       "   0.018243436734834417,\n",
       "   0.2421754677832938,\n",
       "   0.022530581445369235,\n",
       "   0.015204980171214189,\n",
       "   0.03160585175676722,\n",
       "   0.24376490207702528,\n",
       "   0.2022622091957622,\n",
       "   0.05852648801809823],\n",
       "  [0.03610327283150716,\n",
       "   0.09610957334680448,\n",
       "   0.026668454101507977,\n",
       "   0.018243436734834417,\n",
       "   0.2421754677832938,\n",
       "   0.022530581445369235,\n",
       "   0.015204980171214189,\n",
       "   0.03160585175676722,\n",
       "   0.24376490207702528,\n",
       "   0.2022622091957622,\n",
       "   0.05852648801809823],\n",
       "  [0.03610327283150716,\n",
       "   0.09610957334680448,\n",
       "   0.026668454101507977,\n",
       "   0.018243436734834417,\n",
       "   0.2421754677832938,\n",
       "   0.022530581445369235,\n",
       "   0.015204980171214189,\n",
       "   0.03160585175676722,\n",
       "   0.24376490207702528,\n",
       "   0.2022622091957622,\n",
       "   0.05852648801809823]],\n",
       " [{'gen': 0, 'nevals': 100},\n",
       "  {'gen': 1, 'nevals': 61},\n",
       "  {'gen': 2, 'nevals': 63},\n",
       "  {'gen': 3, 'nevals': 68},\n",
       "  {'gen': 4, 'nevals': 65},\n",
       "  {'gen': 5, 'nevals': 54},\n",
       "  {'gen': 6, 'nevals': 60},\n",
       "  {'gen': 7, 'nevals': 65},\n",
       "  {'gen': 8, 'nevals': 60},\n",
       "  {'gen': 9, 'nevals': 60},\n",
       "  {'gen': 10, 'nevals': 58},\n",
       "  {'gen': 11, 'nevals': 58},\n",
       "  {'gen': 12, 'nevals': 65},\n",
       "  {'gen': 13, 'nevals': 61},\n",
       "  {'gen': 14, 'nevals': 50},\n",
       "  {'gen': 15, 'nevals': 62},\n",
       "  {'gen': 16, 'nevals': 61},\n",
       "  {'gen': 17, 'nevals': 71},\n",
       "  {'gen': 18, 'nevals': 58},\n",
       "  {'gen': 19, 'nevals': 49},\n",
       "  {'gen': 20, 'nevals': 47},\n",
       "  {'gen': 21, 'nevals': 61},\n",
       "  {'gen': 22, 'nevals': 62},\n",
       "  {'gen': 23, 'nevals': 63},\n",
       "  {'gen': 24, 'nevals': 47},\n",
       "  {'gen': 25, 'nevals': 59},\n",
       "  {'gen': 26, 'nevals': 62},\n",
       "  {'gen': 27, 'nevals': 53},\n",
       "  {'gen': 28, 'nevals': 66},\n",
       "  {'gen': 29, 'nevals': 68},\n",
       "  {'gen': 30, 'nevals': 58},\n",
       "  {'gen': 31, 'nevals': 47},\n",
       "  {'gen': 32, 'nevals': 55},\n",
       "  {'gen': 33, 'nevals': 67},\n",
       "  {'gen': 34, 'nevals': 65},\n",
       "  {'gen': 35, 'nevals': 61},\n",
       "  {'gen': 36, 'nevals': 58},\n",
       "  {'gen': 37, 'nevals': 63},\n",
       "  {'gen': 38, 'nevals': 51},\n",
       "  {'gen': 39, 'nevals': 48},\n",
       "  {'gen': 40, 'nevals': 59},\n",
       "  {'gen': 41, 'nevals': 61},\n",
       "  {'gen': 42, 'nevals': 58},\n",
       "  {'gen': 43, 'nevals': 64},\n",
       "  {'gen': 44, 'nevals': 64},\n",
       "  {'gen': 45, 'nevals': 62},\n",
       "  {'gen': 46, 'nevals': 70},\n",
       "  {'gen': 47, 'nevals': 60},\n",
       "  {'gen': 48, 'nevals': 72},\n",
       "  {'gen': 49, 'nevals': 63},\n",
       "  {'gen': 50, 'nevals': 59}])"
      ]
     },
     "execution_count": 27,
     "metadata": {},
     "output_type": "execute_result"
    }
   ],
   "source": [
    "population = toolbox.population(n=population_size)\n",
    "algorithms.eaSimple(population, toolbox, cx_prob, mut_prob, num_generations)"
   ]
  },
  {
   "cell_type": "code",
   "execution_count": 28,
   "metadata": {},
   "outputs": [
    {
     "data": {
      "text/plain": [
       "[0.03610327283150716,\n",
       " 0.09610957334680448,\n",
       " 0.026668454101507977,\n",
       " 0.018243436734834417,\n",
       " 0.2421754677832938,\n",
       " 0.022530581445369235,\n",
       " 0.015204980171214189,\n",
       " 0.03160585175676722,\n",
       " 0.24376490207702528,\n",
       " 0.2022622091957622,\n",
       " 0.05852648801809823]"
      ]
     },
     "execution_count": 28,
     "metadata": {},
     "output_type": "execute_result"
    }
   ],
   "source": [
    "best_individual = tools.selBest(population, k=1)[0]\n",
    "best_individual"
   ]
  },
  {
   "cell_type": "code",
   "execution_count": 29,
   "metadata": {},
   "outputs": [
    {
     "data": {
      "text/plain": [
       "0.9931952174621842"
      ]
     },
     "execution_count": 29,
     "metadata": {},
     "output_type": "execute_result"
    }
   ],
   "source": [
    "np.sum(best_individual)"
   ]
  },
  {
   "cell_type": "code",
   "execution_count": 30,
   "metadata": {},
   "outputs": [
    {
     "name": "stdout",
     "output_type": "stream",
     "text": [
      "Retorno otimizado: Date\n",
      "2022-12-29    0.355012\n",
      "dtype: float64\n",
      "--------------------\n",
      "Retorno normal: Date\n",
      "2022-12-29    0.141775\n",
      "dtype: float64\n"
     ]
    }
   ],
   "source": [
    "print('Retorno otimizado:', port_return(best_individual))\n",
    "print('-'*20)\n",
    "print('Retorno normal:', port_return(weights_vanilla))"
   ]
  },
  {
   "cell_type": "code",
   "execution_count": 31,
   "metadata": {},
   "outputs": [
    {
     "name": "stdout",
     "output_type": "stream",
     "text": [
      "Retorno otimizado teste: Date\n",
      "2023-04-28    0.058171\n",
      "dtype: float64\n",
      "--------------------\n",
      "Retorno normal teste: Date\n",
      "2023-04-28    0.047323\n",
      "dtype: float64\n"
     ]
    }
   ],
   "source": [
    "print('Retorno otimizado teste:', port_return(best_individual, dataset=data_test))\n",
    "print('-'*20)\n",
    "print('Retorno normal teste:', port_return(weights_vanilla, dataset=data_test))"
   ]
  },
  {
   "cell_type": "markdown",
   "metadata": {},
   "source": [
    "### Sharpe Ratio"
   ]
  },
  {
   "cell_type": "code",
   "execution_count": 32,
   "metadata": {},
   "outputs": [],
   "source": [
    "def sharpe_eval(individual):\n",
    "    returns = calculate_returns_cum(individual)\n",
    "    sharpe = returns - 0.05/calculate_returns(individual).std()\n",
    "    \n",
    "    penalty = abs((np.sum(individual) - 1)**2)  # Penalidade para a soma dos pesos ser 1\n",
    "    alocation_penalty = 0\n",
    "    if max(individual) > 0.33:\n",
    "        alocation_penalty = 100\n",
    "\n",
    "    return (float(returns - 100*penalty - alocation_penalty),)"
   ]
  },
  {
   "cell_type": "code",
   "execution_count": 33,
   "metadata": {},
   "outputs": [],
   "source": [
    "toolbox = base.Toolbox()\n",
    "toolbox.register('attr_bool', random.randint, 0, 1)\n",
    "toolbox.register(\"individual\", generateES, creator.Individual, n_stocks, 0, 1)\n",
    "toolbox.register(\"population\", tools.initRepeat, list, toolbox.individual)  # Coleção dos indívduos iniciais - serão armazenados em uma lista\n",
    "toolbox.register(\"evaluate\", sharpe_eval)\n",
    "toolbox.register(\"mate\", tools.cxTwoPoint)\n",
    "toolbox.register(\"mutate\", tools.mutPolynomialBounded, eta=0.5, low=lower_bound, up=upper_bound, indpb=0.1)\n",
    "toolbox.register(\"select\", tools.selTournament, tournsize=3)"
   ]
  },
  {
   "cell_type": "code",
   "execution_count": 34,
   "metadata": {},
   "outputs": [
    {
     "name": "stdout",
     "output_type": "stream",
     "text": [
      "gen\tnevals\n",
      "0  \t100   \n",
      "1  \t66    \n",
      "2  \t74    \n",
      "3  \t59    \n",
      "4  \t58    \n",
      "5  \t65    \n",
      "6  \t60    \n",
      "7  \t52    \n",
      "8  \t52    \n",
      "9  \t56    \n",
      "10 \t63    \n",
      "11 \t70    \n",
      "12 \t59    \n",
      "13 \t59    \n",
      "14 \t62    \n",
      "15 \t62    \n",
      "16 \t69    \n",
      "17 \t63    \n",
      "18 \t55    \n",
      "19 \t60    \n",
      "20 \t56    \n",
      "21 \t77    \n",
      "22 \t45    \n",
      "23 \t66    \n",
      "24 \t58    \n",
      "25 \t73    \n",
      "26 \t55    \n",
      "27 \t58    \n",
      "28 \t62    \n",
      "29 \t52    \n",
      "30 \t68    \n",
      "31 \t60    \n",
      "32 \t60    \n",
      "33 \t59    \n",
      "34 \t60    \n",
      "35 \t63    \n",
      "36 \t56    \n",
      "37 \t43    \n",
      "38 \t68    \n",
      "39 \t58    \n",
      "40 \t52    \n",
      "41 \t53    \n",
      "42 \t58    \n",
      "43 \t60    \n",
      "44 \t50    \n",
      "45 \t59    \n",
      "46 \t62    \n",
      "47 \t58    \n",
      "48 \t59    \n",
      "49 \t64    \n",
      "50 \t48    \n"
     ]
    },
    {
     "data": {
      "text/plain": [
       "([[0.005724390389551748,\n",
       "   0.05851546923936224,\n",
       "   0.020348223664092835,\n",
       "   0.17985788264751457,\n",
       "   0.3051331954118691,\n",
       "   0.0005933316307529246,\n",
       "   0.003157405969652749,\n",
       "   0.15720826935643462,\n",
       "   0.01813425772021582,\n",
       "   0.15231668011884136,\n",
       "   0.09678061753489697],\n",
       "  [0.005724390389551748,\n",
       "   0.05851546923936224,\n",
       "   0.020348223664092835,\n",
       "   0.17985788264751457,\n",
       "   0.3051331954118691,\n",
       "   0.0011122290488130293,\n",
       "   0.003157405969652749,\n",
       "   0.15720826935643462,\n",
       "   0.01813425772021582,\n",
       "   0.15231668011884136,\n",
       "   0.09678061753489697],\n",
       "  [0.005724390389551748,\n",
       "   0.05851546923936224,\n",
       "   0.020348223664092835,\n",
       "   0.17985788264751457,\n",
       "   0.3051331954118691,\n",
       "   0.0011122290488130293,\n",
       "   0.003157405969652749,\n",
       "   0.15720826935643462,\n",
       "   0.01813425772021582,\n",
       "   0.15231668011884136,\n",
       "   0.09678061753489697],\n",
       "  [0.005724390389551748,\n",
       "   0.05851546923936224,\n",
       "   0.020348223664092835,\n",
       "   0.17985788264751457,\n",
       "   0.3051331954118691,\n",
       "   0.001023480540735866,\n",
       "   0.003157405969652749,\n",
       "   0.25336122709691167,\n",
       "   0.01813425772021582,\n",
       "   0.15231668011884136,\n",
       "   0.09678061753489697],\n",
       "  [0.005724390389551748,\n",
       "   0.05851546923936224,\n",
       "   0.020348223664092835,\n",
       "   0.17985788264751457,\n",
       "   0.3051331954118691,\n",
       "   0.001023480540735866,\n",
       "   0.003157405969652749,\n",
       "   0.15720826935643462,\n",
       "   0.01813425772021582,\n",
       "   0.15231668011884136,\n",
       "   0.09678061753489697],\n",
       "  [0.005724390389551748,\n",
       "   0.05851546923936224,\n",
       "   0.020348223664092835,\n",
       "   0.17985788264751457,\n",
       "   0.3051331954118691,\n",
       "   0.0005933316307529246,\n",
       "   0.003157405969652749,\n",
       "   0.15720826935643462,\n",
       "   0.01813425772021582,\n",
       "   0.15231668011884136,\n",
       "   0.09678061753489697],\n",
       "  [0.005724390389551748,\n",
       "   0.05851546923936224,\n",
       "   0.020348223664092835,\n",
       "   0.17985788264751457,\n",
       "   0.3051331954118691,\n",
       "   0.0005933316307529246,\n",
       "   0.003157405969652749,\n",
       "   0.15720826935643462,\n",
       "   0.01813425772021582,\n",
       "   0.15231668011884136,\n",
       "   0.09678061753489697],\n",
       "  [0.005724390389551748,\n",
       "   0.05851546923936224,\n",
       "   0.020348223664092835,\n",
       "   0.17985788264751457,\n",
       "   0.3051331954118691,\n",
       "   0.0011122290488130293,\n",
       "   0.003157405969652749,\n",
       "   0.15720826935643462,\n",
       "   0.01813425772021582,\n",
       "   0.15231668011884136,\n",
       "   0.09678061753489697],\n",
       "  [0.005724390389551748,\n",
       "   0.05851546923936224,\n",
       "   0.020348223664092835,\n",
       "   0.17985788264751457,\n",
       "   0.3051331954118691,\n",
       "   0.0011122290488130293,\n",
       "   0.003157405969652749,\n",
       "   0.15720826935643462,\n",
       "   0.01813425772021582,\n",
       "   0.15231668011884136,\n",
       "   0.09678061753489697],\n",
       "  [0.005724390389551748,\n",
       "   0.05851546923936224,\n",
       "   0.020348223664092835,\n",
       "   0.17985788264751457,\n",
       "   0.3051331954118691,\n",
       "   0.0005933316307529246,\n",
       "   0.003157405969652749,\n",
       "   0.15720826935643462,\n",
       "   0.01813425772021582,\n",
       "   0.15231668011884136,\n",
       "   0.09678061753489697],\n",
       "  [0.005724390389551748,\n",
       "   0.05851546923936224,\n",
       "   0.020348223664092835,\n",
       "   0.17985788264751457,\n",
       "   0.3051331954118691,\n",
       "   0.0011122290488130293,\n",
       "   0.003157405969652749,\n",
       "   0.15720826935643462,\n",
       "   0.01813425772021582,\n",
       "   0.15231668011884136,\n",
       "   0.09678061753489697],\n",
       "  [0.005724390389551748,\n",
       "   0.05851546923936224,\n",
       "   0.020348223664092835,\n",
       "   0.17985788264751457,\n",
       "   0.3051331954118691,\n",
       "   0.0011122290488130293,\n",
       "   0.003157405969652749,\n",
       "   0.15720826935643462,\n",
       "   0.01813425772021582,\n",
       "   0.15231668011884136,\n",
       "   0.09678061753489697],\n",
       "  [0.005724390389551748,\n",
       "   0.05851546923936224,\n",
       "   0.020348223664092835,\n",
       "   0.17985788264751457,\n",
       "   0.3051331954118691,\n",
       "   0.0005933316307529246,\n",
       "   0.003157405969652749,\n",
       "   0.15720826935643462,\n",
       "   0.01813425772021582,\n",
       "   0.15231668011884136,\n",
       "   0.09678061753489697],\n",
       "  [0.005724390389551748,\n",
       "   0.05851546923936224,\n",
       "   0.020348223664092835,\n",
       "   0.17985788264751457,\n",
       "   0.3051331954118691,\n",
       "   0.0011122290488130293,\n",
       "   0.003157405969652749,\n",
       "   0.15720826935643462,\n",
       "   0.01813425772021582,\n",
       "   0.15231668011884136,\n",
       "   0.09678061753489697],\n",
       "  [0.005724390389551748,\n",
       "   0.05851546923936224,\n",
       "   0.020348223664092835,\n",
       "   0.17985788264751457,\n",
       "   0.3051331954118691,\n",
       "   0.001023480540735866,\n",
       "   0.003157405969652749,\n",
       "   0.15720826935643462,\n",
       "   0.01813425772021582,\n",
       "   0.15231668011884136,\n",
       "   0.09678061753489697],\n",
       "  [0.005724390389551748,\n",
       "   0.05851546923936224,\n",
       "   0.020088058097729844,\n",
       "   0.628632753816923,\n",
       "   0.3051331954118691,\n",
       "   0.0011122290488130293,\n",
       "   0.003157405969652749,\n",
       "   0.15720826935643462,\n",
       "   0.01813425772021582,\n",
       "   0.15231668011884136,\n",
       "   0.09678061753489697],\n",
       "  [0.005724390389551748,\n",
       "   0.05851546923936224,\n",
       "   0.0007916733511023066,\n",
       "   0.9135264683274089,\n",
       "   0.3051331954118691,\n",
       "   0.0011122290488130293,\n",
       "   0.003157405969652749,\n",
       "   0.15720826935643462,\n",
       "   0.01813425772021582,\n",
       "   0.15231668011884136,\n",
       "   0.09678061753489697],\n",
       "  [0.005724390389551748,\n",
       "   0.05851546923936224,\n",
       "   0.020348223664092835,\n",
       "   0.17985788264751457,\n",
       "   0.599235677662439,\n",
       "   0.0005933316307529246,\n",
       "   0.003157405969652749,\n",
       "   0.15720826935643462,\n",
       "   0.01813425772021582,\n",
       "   0.15231668011884136,\n",
       "   0.09678061753489697],\n",
       "  [0.005724390389551748,\n",
       "   0.05851546923936224,\n",
       "   0.020348223664092835,\n",
       "   0.17985788264751457,\n",
       "   0.3051331954118691,\n",
       "   0.0011122290488130293,\n",
       "   0.003157405969652749,\n",
       "   0.15720826935643462,\n",
       "   0.01813425772021582,\n",
       "   0.15231668011884136,\n",
       "   0.09678061753489697],\n",
       "  [0.005724390389551748,\n",
       "   0.05851546923936224,\n",
       "   0.020348223664092835,\n",
       "   0.17985788264751457,\n",
       "   0.3051331954118691,\n",
       "   0.0011122290488130293,\n",
       "   0.003157405969652749,\n",
       "   0.15720826935643462,\n",
       "   0.01813425772021582,\n",
       "   0.15231668011884136,\n",
       "   0.09678061753489697],\n",
       "  [0.005724390389551748,\n",
       "   0.05851546923936224,\n",
       "   0.020348223664092835,\n",
       "   0.17985788264751457,\n",
       "   0.3051331954118691,\n",
       "   0.0005933316307529246,\n",
       "   0.003157405969652749,\n",
       "   0.15720826935643462,\n",
       "   0.01813425772021582,\n",
       "   0.15231668011884136,\n",
       "   0.09678061753489697],\n",
       "  [0.005724390389551748,\n",
       "   0.05851546923936224,\n",
       "   0.020348223664092835,\n",
       "   0.17985788264751457,\n",
       "   0.3051331954118691,\n",
       "   0.0005933316307529246,\n",
       "   0.003157405969652749,\n",
       "   0.15720826935643462,\n",
       "   0.017311441112975112,\n",
       "   0.15231668011884136,\n",
       "   0.09678061753489697],\n",
       "  [0.005724390389551748,\n",
       "   0.05851546923936224,\n",
       "   0.020348223664092835,\n",
       "   0.17985788264751457,\n",
       "   0.3051331954118691,\n",
       "   0.0011122290488130293,\n",
       "   0.003157405969652749,\n",
       "   0.15720826935643462,\n",
       "   0.01813425772021582,\n",
       "   0.15231668011884136,\n",
       "   0.09678061753489697],\n",
       "  [0.005724390389551748,\n",
       "   0.05851546923936224,\n",
       "   0.020348223664092835,\n",
       "   0.17985788264751457,\n",
       "   0.3051331954118691,\n",
       "   0.0011122290488130293,\n",
       "   0.003157405969652749,\n",
       "   0.15720826935643462,\n",
       "   0.01813425772021582,\n",
       "   0.15231668011884136,\n",
       "   0.09678061753489697],\n",
       "  [0.005724390389551748,\n",
       "   0.05851546923936224,\n",
       "   0.020348223664092835,\n",
       "   0.17985788264751457,\n",
       "   0.3051331954118691,\n",
       "   0.0005933316307529246,\n",
       "   0.003157405969652749,\n",
       "   0.15720826935643462,\n",
       "   0.01813425772021582,\n",
       "   0.15231668011884136,\n",
       "   0.09678061753489697],\n",
       "  [0.005724390389551748,\n",
       "   0.05851546923936224,\n",
       "   0.020348223664092835,\n",
       "   0.17985788264751457,\n",
       "   0.3051331954118691,\n",
       "   0.0011122290488130293,\n",
       "   0.003157405969652749,\n",
       "   0.15720826935643462,\n",
       "   0.01813425772021582,\n",
       "   0.15231668011884136,\n",
       "   0.09678061753489697],\n",
       "  [0.005724390389551748,\n",
       "   0.05851546923936224,\n",
       "   0.020348223664092835,\n",
       "   0.17985788264751457,\n",
       "   0.3051331954118691,\n",
       "   0.0005933316307529246,\n",
       "   0.003157405969652749,\n",
       "   0.15720826935643462,\n",
       "   0.01813425772021582,\n",
       "   0.15231668011884136,\n",
       "   0.09678061753489697],\n",
       "  [0.005724390389551748,\n",
       "   0.05851546923936224,\n",
       "   0.020348223664092835,\n",
       "   0.17985788264751457,\n",
       "   0.3051331954118691,\n",
       "   0.0005933316307529246,\n",
       "   0.003157405969652749,\n",
       "   0.15720826935643462,\n",
       "   0.01813425772021582,\n",
       "   0.15231668011884136,\n",
       "   0.09678061753489697],\n",
       "  [0.005724390389551748,\n",
       "   0.05851546923936224,\n",
       "   0.020348223664092835,\n",
       "   0.17985788264751457,\n",
       "   0.3051331954118691,\n",
       "   0.0011122290488130293,\n",
       "   0.003157405969652749,\n",
       "   0.15720826935643462,\n",
       "   0.01813425772021582,\n",
       "   0.15231668011884136,\n",
       "   0.09678061753489697],\n",
       "  [0.005724390389551748,\n",
       "   0.05851546923936224,\n",
       "   0.020348223664092835,\n",
       "   0.17985788264751457,\n",
       "   0.3051331954118691,\n",
       "   0.0005933316307529246,\n",
       "   0.003157405969652749,\n",
       "   0.15720826935643462,\n",
       "   0.01813425772021582,\n",
       "   0.15231668011884136,\n",
       "   0.09678061753489697],\n",
       "  [0.005724390389551748,\n",
       "   0.05851546923936224,\n",
       "   0.020348223664092835,\n",
       "   0.17985788264751457,\n",
       "   0.3051331954118691,\n",
       "   0.0011122290488130293,\n",
       "   0.003157405969652749,\n",
       "   0.15720826935643462,\n",
       "   0.01813425772021582,\n",
       "   0.15231668011884136,\n",
       "   0.09678061753489697],\n",
       "  [0.005724390389551748,\n",
       "   0.05851546923936224,\n",
       "   0.020348223664092835,\n",
       "   0.17985788264751457,\n",
       "   0.3051331954118691,\n",
       "   0.0011122290488130293,\n",
       "   0.003157405969652749,\n",
       "   0.15720826935643462,\n",
       "   0.01813425772021582,\n",
       "   0.15231668011884136,\n",
       "   0.09678061753489697],\n",
       "  [0.005724390389551748,\n",
       "   0.05851546923936224,\n",
       "   0.020348223664092835,\n",
       "   0.17985788264751457,\n",
       "   0.3051331954118691,\n",
       "   0.0011122290488130293,\n",
       "   0.003157405969652749,\n",
       "   0.15720826935643462,\n",
       "   0.01813425772021582,\n",
       "   0.15231668011884136,\n",
       "   0.09678061753489697],\n",
       "  [0.005724390389551748,\n",
       "   0.05851546923936224,\n",
       "   0.020348223664092835,\n",
       "   0.17985788264751457,\n",
       "   0.3051331954118691,\n",
       "   0.0005933316307529246,\n",
       "   0.003157405969652749,\n",
       "   0.15720826935643462,\n",
       "   0.01813425772021582,\n",
       "   0.15231668011884136,\n",
       "   0.09678061753489697],\n",
       "  [0.005724390389551748,\n",
       "   0.05851546923936224,\n",
       "   0.020348223664092835,\n",
       "   0.17985788264751457,\n",
       "   0.3051331954118691,\n",
       "   0.0011122290488130293,\n",
       "   0.003157405969652749,\n",
       "   0.15720826935643462,\n",
       "   0.01813425772021582,\n",
       "   0.15231668011884136,\n",
       "   0.09678061753489697],\n",
       "  [0.005724390389551748,\n",
       "   0.05851546923936224,\n",
       "   0.020348223664092835,\n",
       "   0.17985788264751457,\n",
       "   0.3051331954118691,\n",
       "   0.001023480540735866,\n",
       "   0.003157405969652749,\n",
       "   0.15720826935643462,\n",
       "   0.01813425772021582,\n",
       "   0.15231668011884136,\n",
       "   0.09678061753489697],\n",
       "  [0.005724390389551748,\n",
       "   0.05701211354102709,\n",
       "   0.020348223664092835,\n",
       "   0.17985788264751457,\n",
       "   0.3051331954118691,\n",
       "   0.0005933316307529246,\n",
       "   0.003157405969652749,\n",
       "   0.15720826935643462,\n",
       "   0.01813425772021582,\n",
       "   0.15231668011884136,\n",
       "   0.09678061753489697],\n",
       "  [0.005724390389551748,\n",
       "   0.05851546923936224,\n",
       "   0.020348223664092835,\n",
       "   0.17985788264751457,\n",
       "   0.3051331954118691,\n",
       "   0.0011122290488130293,\n",
       "   0.003157405969652749,\n",
       "   0.15720826935643462,\n",
       "   0.01813425772021582,\n",
       "   0.15231668011884136,\n",
       "   0.09678061753489697],\n",
       "  [0.005724390389551748,\n",
       "   0.05851546923936224,\n",
       "   0.020348223664092835,\n",
       "   0.17985788264751457,\n",
       "   0.3051331954118691,\n",
       "   0.0011122290488130293,\n",
       "   0.003157405969652749,\n",
       "   0.15720826935643462,\n",
       "   0.01813425772021582,\n",
       "   0.15231668011884136,\n",
       "   0.09678061753489697],\n",
       "  [0.005724390389551748,\n",
       "   0.05851546923936224,\n",
       "   0.020348223664092835,\n",
       "   0.17985788264751457,\n",
       "   0.3051331954118691,\n",
       "   0.0011122290488130293,\n",
       "   0.003157405969652749,\n",
       "   0.15720826935643462,\n",
       "   0.01813425772021582,\n",
       "   0.15231668011884136,\n",
       "   0.09678061753489697],\n",
       "  [0.005724390389551748,\n",
       "   0.05851546923936224,\n",
       "   0.020348223664092835,\n",
       "   0.17985788264751457,\n",
       "   0.3051331954118691,\n",
       "   0.0011122290488130293,\n",
       "   0.003157405969652749,\n",
       "   0.15720826935643462,\n",
       "   0.01813425772021582,\n",
       "   0.15231668011884136,\n",
       "   0.09678061753489697],\n",
       "  [0.005724390389551748,\n",
       "   0.05851546923936224,\n",
       "   0.020348223664092835,\n",
       "   0.17985788264751457,\n",
       "   0.3051331954118691,\n",
       "   0.0005933316307529246,\n",
       "   0.003157405969652749,\n",
       "   0.15720826935643462,\n",
       "   0.01813425772021582,\n",
       "   0.15231668011884136,\n",
       "   0.09678061753489697],\n",
       "  [0.005724390389551748,\n",
       "   0.05851546923936224,\n",
       "   0.020348223664092835,\n",
       "   0.17985788264751457,\n",
       "   0.3051331954118691,\n",
       "   0.0011122290488130293,\n",
       "   0.003157405969652749,\n",
       "   0.15720826935643462,\n",
       "   0.01813425772021582,\n",
       "   0.15231668011884136,\n",
       "   0.09678061753489697],\n",
       "  [0.005724390389551748,\n",
       "   0.05851546923936224,\n",
       "   0.020348223664092835,\n",
       "   0.17985788264751457,\n",
       "   0.3051331954118691,\n",
       "   0.0005933316307529246,\n",
       "   0.003157405969652749,\n",
       "   0.15720826935643462,\n",
       "   0.01813425772021582,\n",
       "   0.15231668011884136,\n",
       "   0.09678061753489697],\n",
       "  [0.00141053959686821,\n",
       "   0.05851546923936224,\n",
       "   0.020348223664092835,\n",
       "   0.17985788264751457,\n",
       "   0.3051331954118691,\n",
       "   0.0005933316307529246,\n",
       "   0.003157405969652749,\n",
       "   0.15720826935643462,\n",
       "   0.01813425772021582,\n",
       "   0.15231668011884136,\n",
       "   0.09678061753489697],\n",
       "  [0.005724390389551748,\n",
       "   0.05851546923936224,\n",
       "   0.020348223664092835,\n",
       "   0.17985788264751457,\n",
       "   0.3051331954118691,\n",
       "   0.0005933316307529246,\n",
       "   0.003157405969652749,\n",
       "   0.15720826935643462,\n",
       "   0.01813425772021582,\n",
       "   0.15231668011884136,\n",
       "   0.09678061753489697],\n",
       "  [0.005724390389551748,\n",
       "   0.05851546923936224,\n",
       "   0.020348223664092835,\n",
       "   0.17985788264751457,\n",
       "   0.3051331954118691,\n",
       "   0.001023480540735866,\n",
       "   0.003157405969652749,\n",
       "   0.15720826935643462,\n",
       "   0.01813425772021582,\n",
       "   0.15231668011884136,\n",
       "   0.09678061753489697],\n",
       "  [0.005724390389551748,\n",
       "   0.05851546923936224,\n",
       "   0.020348223664092835,\n",
       "   0.17985788264751457,\n",
       "   0.3051331954118691,\n",
       "   0.0011122290488130293,\n",
       "   0.003157405969652749,\n",
       "   0.15720826935643462,\n",
       "   0.01813425772021582,\n",
       "   0.15231668011884136,\n",
       "   0.09678061753489697],\n",
       "  [0.005724390389551748,\n",
       "   0.05851546923936224,\n",
       "   0.020348223664092835,\n",
       "   0.17985788264751457,\n",
       "   0.3051331954118691,\n",
       "   0.0011122290488130293,\n",
       "   0.003157405969652749,\n",
       "   0.15720826935643462,\n",
       "   0.01813425772021582,\n",
       "   0.15231668011884136,\n",
       "   0.09678061753489697],\n",
       "  [0.005724390389551748,\n",
       "   0.05851546923936224,\n",
       "   0.020348223664092835,\n",
       "   0.17985788264751457,\n",
       "   0.3051331954118691,\n",
       "   0.0005933316307529246,\n",
       "   0.003157405969652749,\n",
       "   0.15720826935643462,\n",
       "   0.01813425772021582,\n",
       "   0.15231668011884136,\n",
       "   0.09678061753489697],\n",
       "  [0.005724390389551748,\n",
       "   0.05851546923936224,\n",
       "   0.020348223664092835,\n",
       "   0.17985788264751457,\n",
       "   0.3051331954118691,\n",
       "   0.0011122290488130293,\n",
       "   0.003157405969652749,\n",
       "   0.15720826935643462,\n",
       "   0.01813425772021582,\n",
       "   0.15231668011884136,\n",
       "   0.09678061753489697],\n",
       "  [0.23376036468269756,\n",
       "   0.05851546923936224,\n",
       "   0.020348223664092835,\n",
       "   0.6524005185702327,\n",
       "   0.3051331954118691,\n",
       "   0.0005933316307529246,\n",
       "   0.003157405969652749,\n",
       "   0.15720826935643462,\n",
       "   0.01813425772021582,\n",
       "   0.15231668011884136,\n",
       "   0.09678061753489697],\n",
       "  [0.005724390389551748,\n",
       "   0.05851546923936224,\n",
       "   0.020348223664092835,\n",
       "   0.17985788264751457,\n",
       "   0.3051331954118691,\n",
       "   0.0011122290488130293,\n",
       "   0.003157405969652749,\n",
       "   0.15720826935643462,\n",
       "   0.01813425772021582,\n",
       "   0.15231668011884136,\n",
       "   0.09678061753489697],\n",
       "  [0.005724390389551748,\n",
       "   0.05851546923936224,\n",
       "   0.020348223664092835,\n",
       "   0.17985788264751457,\n",
       "   0.3051331954118691,\n",
       "   0.0011122290488130293,\n",
       "   0.003157405969652749,\n",
       "   0.15720826935643462,\n",
       "   0.01813425772021582,\n",
       "   0.15231668011884136,\n",
       "   0.09678061753489697],\n",
       "  [0.005724390389551748,\n",
       "   0.05851546923936224,\n",
       "   0.020348223664092835,\n",
       "   0.17985788264751457,\n",
       "   0.3051331954118691,\n",
       "   0.0011122290488130293,\n",
       "   0.003157405969652749,\n",
       "   0.15720826935643462,\n",
       "   0.01813425772021582,\n",
       "   0.15231668011884136,\n",
       "   0.09678061753489697],\n",
       "  [0.005724390389551748,\n",
       "   0.05851546923936224,\n",
       "   0.020348223664092835,\n",
       "   0.17985788264751457,\n",
       "   0.3051331954118691,\n",
       "   0.0011122290488130293,\n",
       "   0.00032160397452996037,\n",
       "   0.15720826935643462,\n",
       "   0.01813425772021582,\n",
       "   0.15231668011884136,\n",
       "   0.09678061753489697],\n",
       "  [0.005724390389551748,\n",
       "   0.05851546923936224,\n",
       "   0.020348223664092835,\n",
       "   0.17985788264751457,\n",
       "   0.3051331954118691,\n",
       "   0.0011122290488130293,\n",
       "   0.003157405969652749,\n",
       "   0.15720826935643462,\n",
       "   0.01813425772021582,\n",
       "   0.15231668011884136,\n",
       "   0.09678061753489697],\n",
       "  [0.005724390389551748,\n",
       "   0.05851546923936224,\n",
       "   0.020348223664092835,\n",
       "   0.17985788264751457,\n",
       "   0.3051331954118691,\n",
       "   0.0005933316307529246,\n",
       "   0.003157405969652749,\n",
       "   0.15720826935643462,\n",
       "   0.01813425772021582,\n",
       "   0.15231668011884136,\n",
       "   0.09678061753489697],\n",
       "  [0.005724390389551748,\n",
       "   0.05851546923936224,\n",
       "   0.020348223664092835,\n",
       "   0.17985788264751457,\n",
       "   0.3051331954118691,\n",
       "   0.0011122290488130293,\n",
       "   0.003157405969652749,\n",
       "   0.15720826935643462,\n",
       "   0.01813425772021582,\n",
       "   0.15231668011884136,\n",
       "   0.09678061753489697],\n",
       "  [0.005724390389551748,\n",
       "   0.05851546923936224,\n",
       "   0.020348223664092835,\n",
       "   0.17985788264751457,\n",
       "   0.3051331954118691,\n",
       "   0.001023480540735866,\n",
       "   0.003157405969652749,\n",
       "   0.15720826935643462,\n",
       "   0.01813425772021582,\n",
       "   0.15231668011884136,\n",
       "   0.09678061753489697],\n",
       "  [0.005724390389551748,\n",
       "   0.05851546923936224,\n",
       "   0.020348223664092835,\n",
       "   0.17985788264751457,\n",
       "   0.3051331954118691,\n",
       "   0.0011122290488130293,\n",
       "   0.003157405969652749,\n",
       "   0.15720826935643462,\n",
       "   0.01813425772021582,\n",
       "   0.15231668011884136,\n",
       "   0.09678061753489697],\n",
       "  [0.005724390389551748,\n",
       "   0.05851546923936224,\n",
       "   0.020348223664092835,\n",
       "   0.17985788264751457,\n",
       "   0.3051331954118691,\n",
       "   0.0011122290488130293,\n",
       "   0.003157405969652749,\n",
       "   0.15720826935643462,\n",
       "   0.01813425772021582,\n",
       "   0.15231668011884136,\n",
       "   0.09678061753489697],\n",
       "  [0.005724390389551748,\n",
       "   0.05851546923936224,\n",
       "   0.020348223664092835,\n",
       "   0.17985788264751457,\n",
       "   0.3051331954118691,\n",
       "   0.001023480540735866,\n",
       "   0.003157405969652749,\n",
       "   0.15720826935643462,\n",
       "   0.01813425772021582,\n",
       "   0.15231668011884136,\n",
       "   0.09678061753489697],\n",
       "  [0.005724390389551748,\n",
       "   0.05851546923936224,\n",
       "   0.020348223664092835,\n",
       "   0.17985788264751457,\n",
       "   0.3051331954118691,\n",
       "   0.001023480540735866,\n",
       "   0.003157405969652749,\n",
       "   0.15720826935643462,\n",
       "   0.01813425772021582,\n",
       "   0.15231668011884136,\n",
       "   0.09678061753489697],\n",
       "  [0.005724390389551748,\n",
       "   0.05851546923936224,\n",
       "   0.020348223664092835,\n",
       "   0.17985788264751457,\n",
       "   0.3051331954118691,\n",
       "   0.0005933316307529246,\n",
       "   0.003157405969652749,\n",
       "   0.15720826935643462,\n",
       "   0.01813425772021582,\n",
       "   0.15231668011884136,\n",
       "   0.09678061753489697],\n",
       "  [0.005724390389551748,\n",
       "   0.05851546923936224,\n",
       "   0.020348223664092835,\n",
       "   0.17985788264751457,\n",
       "   0.3051331954118691,\n",
       "   0.0011122290488130293,\n",
       "   0.003157405969652749,\n",
       "   0.15720826935643462,\n",
       "   0.01813425772021582,\n",
       "   0.15231668011884136,\n",
       "   0.09678061753489697],\n",
       "  [0.005724390389551748,\n",
       "   0.05851546923936224,\n",
       "   0.020348223664092835,\n",
       "   0.17985788264751457,\n",
       "   0.3051331954118691,\n",
       "   0.0011122290488130293,\n",
       "   0.003157405969652749,\n",
       "   0.15720826935643462,\n",
       "   0.01813425772021582,\n",
       "   0.15231668011884136,\n",
       "   0.09678061753489697],\n",
       "  [0.005724390389551748,\n",
       "   0.05851546923936224,\n",
       "   0.020348223664092835,\n",
       "   0.17985788264751457,\n",
       "   0.3051331954118691,\n",
       "   0.0005933316307529246,\n",
       "   0.003157405969652749,\n",
       "   0.15720826935643462,\n",
       "   0.01813425772021582,\n",
       "   0.15231668011884136,\n",
       "   0.09678061753489697],\n",
       "  [0.005724390389551748,\n",
       "   0.05851546923936224,\n",
       "   0.020348223664092835,\n",
       "   0.17985788264751457,\n",
       "   0.3051331954118691,\n",
       "   0.0011122290488130293,\n",
       "   0.003157405969652749,\n",
       "   0.15720826935643462,\n",
       "   0.01813425772021582,\n",
       "   0.15231668011884136,\n",
       "   0.09678061753489697],\n",
       "  [0.005724390389551748,\n",
       "   0.05851546923936224,\n",
       "   0.020348223664092835,\n",
       "   0.17985788264751457,\n",
       "   0.3051331954118691,\n",
       "   0.0011122290488130293,\n",
       "   0.003157405969652749,\n",
       "   0.15720826935643462,\n",
       "   0.01813425772021582,\n",
       "   0.15231668011884136,\n",
       "   0.09678061753489697],\n",
       "  [0.005724390389551748,\n",
       "   0.05851546923936224,\n",
       "   0.020348223664092835,\n",
       "   0.17985788264751457,\n",
       "   0.3051331954118691,\n",
       "   0.0005933316307529246,\n",
       "   0.003157405969652749,\n",
       "   0.15720826935643462,\n",
       "   0.01813425772021582,\n",
       "   0.15231668011884136,\n",
       "   0.09678061753489697],\n",
       "  [0.005724390389551748,\n",
       "   0.05851546923936224,\n",
       "   0.020348223664092835,\n",
       "   0.17985788264751457,\n",
       "   0.3051331954118691,\n",
       "   0.0005933316307529246,\n",
       "   0.003157405969652749,\n",
       "   0.15720826935643462,\n",
       "   0.01813425772021582,\n",
       "   0.15231668011884136,\n",
       "   0.09678061753489697],\n",
       "  [0.005724390389551748,\n",
       "   0.05851546923936224,\n",
       "   0.016220703996217223,\n",
       "   0.17985788264751457,\n",
       "   0.3051331954118691,\n",
       "   0.0011122290488130293,\n",
       "   0.003157405969652749,\n",
       "   0.15720826935643462,\n",
       "   0.01813425772021582,\n",
       "   0.15231668011884136,\n",
       "   0.09678061753489697],\n",
       "  [0.005724390389551748,\n",
       "   0.05851546923936224,\n",
       "   0.020348223664092835,\n",
       "   0.17985788264751457,\n",
       "   0.3051331954118691,\n",
       "   0.0005933316307529246,\n",
       "   0.003157405969652749,\n",
       "   0.15720826935643462,\n",
       "   0.01813425772021582,\n",
       "   0.15231668011884136,\n",
       "   0.09678061753489697],\n",
       "  [0.005724390389551748,\n",
       "   0.05851546923936224,\n",
       "   0.020348223664092835,\n",
       "   0.17985788264751457,\n",
       "   0.3051331954118691,\n",
       "   0.0011122290488130293,\n",
       "   0.003157405969652749,\n",
       "   0.15720826935643462,\n",
       "   0.01813425772021582,\n",
       "   0.15231668011884136,\n",
       "   0.09678061753489697],\n",
       "  [0.005724390389551748,\n",
       "   0.05851546923936224,\n",
       "   0.020348223664092835,\n",
       "   0.17985788264751457,\n",
       "   0.3051331954118691,\n",
       "   0.0011122290488130293,\n",
       "   0.003157405969652749,\n",
       "   0.15720826935643462,\n",
       "   0.01813425772021582,\n",
       "   0.15231668011884136,\n",
       "   0.09678061753489697],\n",
       "  [0.005724390389551748,\n",
       "   0.05851546923936224,\n",
       "   0.020348223664092835,\n",
       "   0.17985788264751457,\n",
       "   0.3051331954118691,\n",
       "   0.0011122290488130293,\n",
       "   0.003157405969652749,\n",
       "   0.15720826935643462,\n",
       "   0.01813425772021582,\n",
       "   0.15231668011884136,\n",
       "   0.09678061753489697],\n",
       "  [0.005724390389551748,\n",
       "   0.02723862312124181,\n",
       "   0.020348223664092835,\n",
       "   0.17985788264751457,\n",
       "   0.3051331954118691,\n",
       "   0.0005933316307529246,\n",
       "   0.003157405969652749,\n",
       "   0.15720826935643462,\n",
       "   0.01813425772021582,\n",
       "   0.15231668011884136,\n",
       "   0.09678061753489697],\n",
       "  [0.005724390389551748,\n",
       "   0.05851546923936224,\n",
       "   0.020348223664092835,\n",
       "   0.17985788264751457,\n",
       "   0.3051331954118691,\n",
       "   0.0005933316307529246,\n",
       "   0.003157405969652749,\n",
       "   0.15720826935643462,\n",
       "   0.01813425772021582,\n",
       "   0.15231668011884136,\n",
       "   0.09678061753489697],\n",
       "  [0.005724390389551748,\n",
       "   0.05851546923936224,\n",
       "   0.020348223664092835,\n",
       "   0.17985788264751457,\n",
       "   0.3051331954118691,\n",
       "   0.0011122290488130293,\n",
       "   0.003157405969652749,\n",
       "   0.15720826935643462,\n",
       "   0.01813425772021582,\n",
       "   0.15231668011884136,\n",
       "   0.09678061753489697],\n",
       "  [0.005724390389551748,\n",
       "   0.05851546923936224,\n",
       "   0.020348223664092835,\n",
       "   0.17985788264751457,\n",
       "   0.3051331954118691,\n",
       "   0.0011122290488130293,\n",
       "   0.003157405969652749,\n",
       "   0.15720826935643462,\n",
       "   0.01813425772021582,\n",
       "   0.15231668011884136,\n",
       "   0.09678061753489697],\n",
       "  [0.005724390389551748,\n",
       "   0.05851546923936224,\n",
       "   0.020348223664092835,\n",
       "   0.17985788264751457,\n",
       "   0.3051331954118691,\n",
       "   0.0005933316307529246,\n",
       "   0.003157405969652749,\n",
       "   0.15720826935643462,\n",
       "   0.01813425772021582,\n",
       "   0.15231668011884136,\n",
       "   0.09678061753489697],\n",
       "  [0.005724390389551748,\n",
       "   0.05851546923936224,\n",
       "   0.020348223664092835,\n",
       "   0.17985788264751457,\n",
       "   0.3051331954118691,\n",
       "   0.0005933316307529246,\n",
       "   0.003157405969652749,\n",
       "   0.15720826935643462,\n",
       "   0.01813425772021582,\n",
       "   0.15231668011884136,\n",
       "   0.09678061753489697],\n",
       "  [0.005724390389551748,\n",
       "   0.05851546923936224,\n",
       "   0.020348223664092835,\n",
       "   0.17985788264751457,\n",
       "   0.3051331954118691,\n",
       "   0.0011122290488130293,\n",
       "   0.003157405969652749,\n",
       "   0.15720826935643462,\n",
       "   0.01813425772021582,\n",
       "   0.15231668011884136,\n",
       "   0.09678061753489697],\n",
       "  [0.9981219819086034,\n",
       "   0.05851546923936224,\n",
       "   0.020348223664092835,\n",
       "   0.17985788264751457,\n",
       "   0.3051331954118691,\n",
       "   0.3595054693350631,\n",
       "   0.003157405969652749,\n",
       "   0.15720826935643462,\n",
       "   0.01813425772021582,\n",
       "   0.15231668011884136,\n",
       "   0.5053355024688942],\n",
       "  [0.005724390389551748,\n",
       "   0.05851546923936224,\n",
       "   0.020348223664092835,\n",
       "   0.17985788264751457,\n",
       "   0.3051331954118691,\n",
       "   0.0005933316307529246,\n",
       "   0.003157405969652749,\n",
       "   0.15720826935643462,\n",
       "   0.01813425772021582,\n",
       "   0.15231668011884136,\n",
       "   0.09678061753489697],\n",
       "  [0.005724390389551748,\n",
       "   0.05851546923936224,\n",
       "   0.020348223664092835,\n",
       "   0.17985788264751457,\n",
       "   0.3051331954118691,\n",
       "   0.001023480540735866,\n",
       "   0.003157405969652749,\n",
       "   0.15720826935643462,\n",
       "   0.01813425772021582,\n",
       "   0.15231668011884136,\n",
       "   0.09678061753489697],\n",
       "  [0.005724390389551748,\n",
       "   0.05851546923936224,\n",
       "   0.020348223664092835,\n",
       "   0.17985788264751457,\n",
       "   0.05414525200216447,\n",
       "   0.001023480540735866,\n",
       "   0.003157405969652749,\n",
       "   0.15720826935643462,\n",
       "   0.01813425772021582,\n",
       "   0.15231668011884136,\n",
       "   0.09678061753489697],\n",
       "  [0.005724390389551748,\n",
       "   0.05851546923936224,\n",
       "   0.020348223664092835,\n",
       "   0.17985788264751457,\n",
       "   0.3051331954118691,\n",
       "   0.0011122290488130293,\n",
       "   0.003157405969652749,\n",
       "   0.15720826935643462,\n",
       "   0.01813425772021582,\n",
       "   0.15231668011884136,\n",
       "   0.09678061753489697],\n",
       "  [0.005724390389551748,\n",
       "   0.05851546923936224,\n",
       "   0.020348223664092835,\n",
       "   0.17985788264751457,\n",
       "   0.3051331954118691,\n",
       "   0.0011122290488130293,\n",
       "   0.003157405969652749,\n",
       "   0.15720826935643462,\n",
       "   0.01813425772021582,\n",
       "   0.15231668011884136,\n",
       "   0.09678061753489697],\n",
       "  [0.005724390389551748,\n",
       "   0.05851546923936224,\n",
       "   0.020348223664092835,\n",
       "   0.17985788264751457,\n",
       "   0.3051331954118691,\n",
       "   0.0011122290488130293,\n",
       "   0.003157405969652749,\n",
       "   0.15720826935643462,\n",
       "   0.01813425772021582,\n",
       "   0.15231668011884136,\n",
       "   0.09678061753489697],\n",
       "  [0.005724390389551748,\n",
       "   0.05851546923936224,\n",
       "   0.020348223664092835,\n",
       "   0.17985788264751457,\n",
       "   0.3051331954118691,\n",
       "   0.0005933316307529246,\n",
       "   0.003157405969652749,\n",
       "   0.15720826935643462,\n",
       "   0.01813425772021582,\n",
       "   0.15231668011884136,\n",
       "   0.09678061753489697],\n",
       "  [0.005724390389551748,\n",
       "   0.05851546923936224,\n",
       "   0.020348223664092835,\n",
       "   0.17985788264751457,\n",
       "   0.3051331954118691,\n",
       "   0.0011122290488130293,\n",
       "   0.003157405969652749,\n",
       "   0.15720826935643462,\n",
       "   0.01813425772021582,\n",
       "   0.15231668011884136,\n",
       "   0.09678061753489697],\n",
       "  [0.005724390389551748,\n",
       "   0.05851546923936224,\n",
       "   0.020348223664092835,\n",
       "   0.17985788264751457,\n",
       "   0.3051331954118691,\n",
       "   0.0011122290488130293,\n",
       "   0.003157405969652749,\n",
       "   0.15720826935643462,\n",
       "   0.01813425772021582,\n",
       "   0.15231668011884136,\n",
       "   0.09678061753489697],\n",
       "  [0.005724390389551748,\n",
       "   0.05851546923936224,\n",
       "   0.020348223664092835,\n",
       "   0.17985788264751457,\n",
       "   0.3051331954118691,\n",
       "   0.001023480540735866,\n",
       "   0.003157405969652749,\n",
       "   0.15720826935643462,\n",
       "   0.01813425772021582,\n",
       "   0.15231668011884136,\n",
       "   0.09678061753489697],\n",
       "  [0.005724390389551748,\n",
       "   0.05851546923936224,\n",
       "   0.020348223664092835,\n",
       "   0.17985788264751457,\n",
       "   0.3051331954118691,\n",
       "   0.0005933316307529246,\n",
       "   0.003157405969652749,\n",
       "   0.15720826935643462,\n",
       "   0.01813425772021582,\n",
       "   0.15231668011884136,\n",
       "   0.09678061753489697],\n",
       "  [0.005724390389551748,\n",
       "   0.05851546923936224,\n",
       "   0.020348223664092835,\n",
       "   0.17985788264751457,\n",
       "   0.3051331954118691,\n",
       "   0.0005933316307529246,\n",
       "   0.003157405969652749,\n",
       "   0.15720826935643462,\n",
       "   0.01813425772021582,\n",
       "   0.15231668011884136,\n",
       "   0.09678061753489697],\n",
       "  [0.005724390389551748,\n",
       "   0.05851546923936224,\n",
       "   0.020348223664092835,\n",
       "   0.17985788264751457,\n",
       "   0.3051331954118691,\n",
       "   0.0011122290488130293,\n",
       "   0.003157405969652749,\n",
       "   0.15720826935643462,\n",
       "   0.01813425772021582,\n",
       "   0.15231668011884136,\n",
       "   0.09678061753489697],\n",
       "  [0.005724390389551748,\n",
       "   0.05851546923936224,\n",
       "   0.020348223664092835,\n",
       "   0.17985788264751457,\n",
       "   0.3051331954118691,\n",
       "   0.0011122290488130293,\n",
       "   0.003157405969652749,\n",
       "   0.15720826935643462,\n",
       "   0.01813425772021582,\n",
       "   0.15231668011884136,\n",
       "   0.09678061753489697],\n",
       "  [0.005724390389551748,\n",
       "   0.05851546923936224,\n",
       "   0.020348223664092835,\n",
       "   0.17985788264751457,\n",
       "   0.3051331954118691,\n",
       "   0.0011122290488130293,\n",
       "   0.003157405969652749,\n",
       "   0.15720826935643462,\n",
       "   0.01813425772021582,\n",
       "   0.6363510745998517,\n",
       "   0.09678061753489697]],\n",
       " [{'gen': 0, 'nevals': 100},\n",
       "  {'gen': 1, 'nevals': 66},\n",
       "  {'gen': 2, 'nevals': 74},\n",
       "  {'gen': 3, 'nevals': 59},\n",
       "  {'gen': 4, 'nevals': 58},\n",
       "  {'gen': 5, 'nevals': 65},\n",
       "  {'gen': 6, 'nevals': 60},\n",
       "  {'gen': 7, 'nevals': 52},\n",
       "  {'gen': 8, 'nevals': 52},\n",
       "  {'gen': 9, 'nevals': 56},\n",
       "  {'gen': 10, 'nevals': 63},\n",
       "  {'gen': 11, 'nevals': 70},\n",
       "  {'gen': 12, 'nevals': 59},\n",
       "  {'gen': 13, 'nevals': 59},\n",
       "  {'gen': 14, 'nevals': 62},\n",
       "  {'gen': 15, 'nevals': 62},\n",
       "  {'gen': 16, 'nevals': 69},\n",
       "  {'gen': 17, 'nevals': 63},\n",
       "  {'gen': 18, 'nevals': 55},\n",
       "  {'gen': 19, 'nevals': 60},\n",
       "  {'gen': 20, 'nevals': 56},\n",
       "  {'gen': 21, 'nevals': 77},\n",
       "  {'gen': 22, 'nevals': 45},\n",
       "  {'gen': 23, 'nevals': 66},\n",
       "  {'gen': 24, 'nevals': 58},\n",
       "  {'gen': 25, 'nevals': 73},\n",
       "  {'gen': 26, 'nevals': 55},\n",
       "  {'gen': 27, 'nevals': 58},\n",
       "  {'gen': 28, 'nevals': 62},\n",
       "  {'gen': 29, 'nevals': 52},\n",
       "  {'gen': 30, 'nevals': 68},\n",
       "  {'gen': 31, 'nevals': 60},\n",
       "  {'gen': 32, 'nevals': 60},\n",
       "  {'gen': 33, 'nevals': 59},\n",
       "  {'gen': 34, 'nevals': 60},\n",
       "  {'gen': 35, 'nevals': 63},\n",
       "  {'gen': 36, 'nevals': 56},\n",
       "  {'gen': 37, 'nevals': 43},\n",
       "  {'gen': 38, 'nevals': 68},\n",
       "  {'gen': 39, 'nevals': 58},\n",
       "  {'gen': 40, 'nevals': 52},\n",
       "  {'gen': 41, 'nevals': 53},\n",
       "  {'gen': 42, 'nevals': 58},\n",
       "  {'gen': 43, 'nevals': 60},\n",
       "  {'gen': 44, 'nevals': 50},\n",
       "  {'gen': 45, 'nevals': 59},\n",
       "  {'gen': 46, 'nevals': 62},\n",
       "  {'gen': 47, 'nevals': 58},\n",
       "  {'gen': 48, 'nevals': 59},\n",
       "  {'gen': 49, 'nevals': 64},\n",
       "  {'gen': 50, 'nevals': 48}])"
      ]
     },
     "execution_count": 34,
     "metadata": {},
     "output_type": "execute_result"
    }
   ],
   "source": [
    "population = toolbox.population(n=population_size)\n",
    "algorithms.eaSimple(population, toolbox, cx_prob, mut_prob, num_generations)"
   ]
  },
  {
   "cell_type": "code",
   "execution_count": 35,
   "metadata": {},
   "outputs": [
    {
     "data": {
      "text/plain": [
       "[0.005724390389551748,\n",
       " 0.05851546923936224,\n",
       " 0.020348223664092835,\n",
       " 0.17985788264751457,\n",
       " 0.3051331954118691,\n",
       " 0.0005933316307529246,\n",
       " 0.003157405969652749,\n",
       " 0.15720826935643462,\n",
       " 0.01813425772021582,\n",
       " 0.15231668011884136,\n",
       " 0.09678061753489697]"
      ]
     },
     "execution_count": 35,
     "metadata": {},
     "output_type": "execute_result"
    }
   ],
   "source": [
    "best_individual = tools.selBest(population, k=1)[0]\n",
    "best_individual"
   ]
  },
  {
   "cell_type": "code",
   "execution_count": 36,
   "metadata": {},
   "outputs": [
    {
     "data": {
      "text/plain": [
       "0.997769723683185"
      ]
     },
     "execution_count": 36,
     "metadata": {},
     "output_type": "execute_result"
    }
   ],
   "source": [
    "np.sum(best_individual)"
   ]
  },
  {
   "cell_type": "code",
   "execution_count": 37,
   "metadata": {},
   "outputs": [
    {
     "name": "stdout",
     "output_type": "stream",
     "text": [
      "Retorno otimizado: Date\n",
      "2022-12-29    0.309667\n",
      "dtype: float64\n",
      "--------------------\n",
      "Retorno normal: Date\n",
      "2022-12-29    0.141775\n",
      "dtype: float64\n"
     ]
    }
   ],
   "source": [
    "print('Retorno otimizado:', port_return(best_individual))\n",
    "print('-'*20)\n",
    "print('Retorno normal:', port_return(weights_vanilla))"
   ]
  },
  {
   "cell_type": "code",
   "execution_count": 38,
   "metadata": {},
   "outputs": [
    {
     "name": "stdout",
     "output_type": "stream",
     "text": [
      "Retorno otimizado teste: Date\n",
      "2023-04-28    0.112265\n",
      "dtype: float64\n",
      "--------------------\n",
      "Retorno normal teste: Date\n",
      "2023-04-28    0.047323\n",
      "dtype: float64\n"
     ]
    }
   ],
   "source": [
    "print('Retorno otimizado teste:', port_return(best_individual, dataset=data_test))\n",
    "print('-'*20)\n",
    "print('Retorno normal teste:', port_return(weights_vanilla, dataset=data_test))"
   ]
  }
 ],
 "metadata": {
  "kernelspec": {
   "display_name": "Python 3",
   "language": "python",
   "name": "python3"
  },
  "language_info": {
   "codemirror_mode": {
    "name": "ipython",
    "version": 3
   },
   "file_extension": ".py",
   "mimetype": "text/x-python",
   "name": "python",
   "nbconvert_exporter": "python",
   "pygments_lexer": "ipython3",
   "version": "3.10.7"
  },
  "orig_nbformat": 4
 },
 "nbformat": 4,
 "nbformat_minor": 2
}
